{
 "cells": [
  {
   "cell_type": "code",
   "execution_count": 172,
   "id": "189bc12c-2d03-46f9-a4b7-d226b9812131",
   "metadata": {},
   "outputs": [],
   "source": [
    "%matplotlib inline"
   ]
  },
  {
   "cell_type": "code",
   "execution_count": 200,
   "id": "6f8f25bd-d4c5-4bcb-a24f-7e9718f07e13",
   "metadata": {},
   "outputs": [],
   "source": [
    "import pandas as pd\n",
    "import numpy as np\n",
    "import matplotlib.pyplot as plt\n",
    "import seaborn as sns\n",
    "import sklearn as sk\n",
    "from sklearn.model_selection import train_test_split, cross_validate, GridSearchCV\n",
    "from sklearn import metrics\n",
    "from sklearn.metrics import accuracy_score\n",
    "from sklearn.naive_bayes import MultinomialNB, GaussianNB\n",
    "from sklearn.linear_model import LogisticRegression, Lasso\n",
    "from sklearn.neighbors import KNeighborsClassifier\n",
    "from sklearn.svm import SVC\n",
    "from sklearn.preprocessing import StandardScaler, OrdinalEncoder, OneHotEncoder, MinMaxScaler\n",
    "from sklearn.ensemble import RandomForestClassifier\n",
    "from sklearn.feature_selection import SelectFromModel\n",
    "from sklearn.decomposition import PCA\n",
    "from sklearn.base import clone\n",
    "from sklearn.pipeline import Pipeline, make_pipeline\n",
    "from sklearn.compose import ColumnTransformer\n",
    "from sklearn.decomposition import PCA, KernelPCA, SparsePCA\n",
    "from sklearn.datasets import make_classification\n",
    "from sklearn.linear_model import SGDClassifier\n",
    "from itertools import combinations\n",
    "import ast\n"
   ]
  },
  {
   "cell_type": "code",
   "execution_count": 98,
   "id": "b61203b3-d80a-4a06-bd41-e258b0eb30a6",
   "metadata": {},
   "outputs": [],
   "source": [
    "pipe_dataset = pd.read_csv('14_16_pre_Encoder.csv')\n",
    "# pca_test_data = pca_kernel.fit_transform(pipe_dataset)"
   ]
  },
  {
   "cell_type": "code",
   "execution_count": 99,
   "id": "9fc33a89-78b6-4b77-8406-822747c4beb7",
   "metadata": {},
   "outputs": [],
   "source": [
    "cat_col = ['Gender', 'family_history', 'no_employees', 'remote_work', 'benefits', 'care_options', 'wellness_program', 'anonymity', 'leave', \n",
    "           'phys_health_consequence', 'coworkers', 'supervisor', 'phys_health_interview', 'mental_vs_physical', 'work_treatment_interfere', \n",
    "           'work_no_treatment_interfere', 'Continent']\n",
    "              \n",
    "num_col = ['Age']\n",
    "target='treatment'"
   ]
  },
  {
   "cell_type": "code",
   "execution_count": 100,
   "id": "81c0deb2-5b87-4ed3-aa3d-1b8a474478cc",
   "metadata": {},
   "outputs": [],
   "source": [
    "used_cols = [i for i in pipe_dataset.columns.tolist() if i not in [target]]\n",
    "pl_X=pipe_dataset[used_cols]\n",
    "pl_y=pipe_dataset[target]\n",
    "pl_X_train, pl_X_test, pl_y_train, pl_y_test = train_test_split(pl_X, pl_y, test_size=0.2, random_state=42)"
   ]
  },
  {
   "cell_type": "code",
   "execution_count": 101,
   "id": "40d530a9-d00a-40ff-964b-6416ba717a46",
   "metadata": {},
   "outputs": [],
   "source": [
    "pl_scaler = StandardScaler()\n",
    "pl_encoder = OneHotEncoder()\n",
    "# putting numeric columns to scaler and categorical to encoder\n",
    "num_transformer = make_pipeline(pl_scaler)\n",
    "cat_transformer = make_pipeline(pl_encoder)\n",
    "# getting together our scaler and encoder with preprocessor\n",
    "preprocessor = ColumnTransformer(\n",
    "      transformers=[('num', num_transformer, num_col),\n",
    "                    ('cat', cat_transformer, cat_col)])\n"
   ]
  },
  {
   "cell_type": "markdown",
   "id": "a0f2748d-53bc-4d83-b468-11d0172546d8",
   "metadata": {},
   "source": [
    "# No PCA"
   ]
  },
  {
   "cell_type": "markdown",
   "id": "81834947-0ca1-4641-98b8-a66f84d1f330",
   "metadata": {},
   "source": [
    "## SVC"
   ]
  },
  {
   "cell_type": "code",
   "execution_count": 102,
   "id": "6a8410a9-0e57-4221-951b-b21476a018ba",
   "metadata": {},
   "outputs": [
    {
     "name": "stdout",
     "output_type": "stream",
     "text": [
      "[LibSVM]"
     ]
    },
    {
     "data": {
      "text/html": [
       "<style>#sk-container-id-18 {color: black;background-color: white;}#sk-container-id-18 pre{padding: 0;}#sk-container-id-18 div.sk-toggleable {background-color: white;}#sk-container-id-18 label.sk-toggleable__label {cursor: pointer;display: block;width: 100%;margin-bottom: 0;padding: 0.3em;box-sizing: border-box;text-align: center;}#sk-container-id-18 label.sk-toggleable__label-arrow:before {content: \"▸\";float: left;margin-right: 0.25em;color: #696969;}#sk-container-id-18 label.sk-toggleable__label-arrow:hover:before {color: black;}#sk-container-id-18 div.sk-estimator:hover label.sk-toggleable__label-arrow:before {color: black;}#sk-container-id-18 div.sk-toggleable__content {max-height: 0;max-width: 0;overflow: hidden;text-align: left;background-color: #f0f8ff;}#sk-container-id-18 div.sk-toggleable__content pre {margin: 0.2em;color: black;border-radius: 0.25em;background-color: #f0f8ff;}#sk-container-id-18 input.sk-toggleable__control:checked~div.sk-toggleable__content {max-height: 200px;max-width: 100%;overflow: auto;}#sk-container-id-18 input.sk-toggleable__control:checked~label.sk-toggleable__label-arrow:before {content: \"▾\";}#sk-container-id-18 div.sk-estimator input.sk-toggleable__control:checked~label.sk-toggleable__label {background-color: #d4ebff;}#sk-container-id-18 div.sk-label input.sk-toggleable__control:checked~label.sk-toggleable__label {background-color: #d4ebff;}#sk-container-id-18 input.sk-hidden--visually {border: 0;clip: rect(1px 1px 1px 1px);clip: rect(1px, 1px, 1px, 1px);height: 1px;margin: -1px;overflow: hidden;padding: 0;position: absolute;width: 1px;}#sk-container-id-18 div.sk-estimator {font-family: monospace;background-color: #f0f8ff;border: 1px dotted black;border-radius: 0.25em;box-sizing: border-box;margin-bottom: 0.5em;}#sk-container-id-18 div.sk-estimator:hover {background-color: #d4ebff;}#sk-container-id-18 div.sk-parallel-item::after {content: \"\";width: 100%;border-bottom: 1px solid gray;flex-grow: 1;}#sk-container-id-18 div.sk-label:hover label.sk-toggleable__label {background-color: #d4ebff;}#sk-container-id-18 div.sk-serial::before {content: \"\";position: absolute;border-left: 1px solid gray;box-sizing: border-box;top: 0;bottom: 0;left: 50%;z-index: 0;}#sk-container-id-18 div.sk-serial {display: flex;flex-direction: column;align-items: center;background-color: white;padding-right: 0.2em;padding-left: 0.2em;position: relative;}#sk-container-id-18 div.sk-item {position: relative;z-index: 1;}#sk-container-id-18 div.sk-parallel {display: flex;align-items: stretch;justify-content: center;background-color: white;position: relative;}#sk-container-id-18 div.sk-item::before, #sk-container-id-18 div.sk-parallel-item::before {content: \"\";position: absolute;border-left: 1px solid gray;box-sizing: border-box;top: 0;bottom: 0;left: 50%;z-index: -1;}#sk-container-id-18 div.sk-parallel-item {display: flex;flex-direction: column;z-index: 1;position: relative;background-color: white;}#sk-container-id-18 div.sk-parallel-item:first-child::after {align-self: flex-end;width: 50%;}#sk-container-id-18 div.sk-parallel-item:last-child::after {align-self: flex-start;width: 50%;}#sk-container-id-18 div.sk-parallel-item:only-child::after {width: 0;}#sk-container-id-18 div.sk-dashed-wrapped {border: 1px dashed gray;margin: 0 0.4em 0.5em 0.4em;box-sizing: border-box;padding-bottom: 0.4em;background-color: white;}#sk-container-id-18 div.sk-label label {font-family: monospace;font-weight: bold;display: inline-block;line-height: 1.2em;}#sk-container-id-18 div.sk-label-container {text-align: center;}#sk-container-id-18 div.sk-container {/* jupyter's `normalize.less` sets `[hidden] { display: none; }` but bootstrap.min.css set `[hidden] { display: none !important; }` so we also need the `!important` here to be able to override the default hidden behavior on the sphinx rendered scikit-learn.org. See: https://github.com/scikit-learn/scikit-learn/issues/21755 */display: inline-block !important;position: relative;}#sk-container-id-18 div.sk-text-repr-fallback {display: none;}</style><div id=\"sk-container-id-18\" class=\"sk-top-container\"><div class=\"sk-text-repr-fallback\"><pre>Pipeline(steps=[(&#x27;columntransformer&#x27;,\n",
       "                 ColumnTransformer(transformers=[(&#x27;num&#x27;,\n",
       "                                                  Pipeline(steps=[(&#x27;standardscaler&#x27;,\n",
       "                                                                   StandardScaler())]),\n",
       "                                                  [&#x27;Age&#x27;]),\n",
       "                                                 (&#x27;cat&#x27;,\n",
       "                                                  Pipeline(steps=[(&#x27;onehotencoder&#x27;,\n",
       "                                                                   OneHotEncoder())]),\n",
       "                                                  [&#x27;Gender&#x27;, &#x27;family_history&#x27;,\n",
       "                                                   &#x27;no_employees&#x27;,\n",
       "                                                   &#x27;remote_work&#x27;, &#x27;benefits&#x27;,\n",
       "                                                   &#x27;care_options&#x27;,\n",
       "                                                   &#x27;wellness_program&#x27;,\n",
       "                                                   &#x27;anonymity&#x27;, &#x27;leave&#x27;,\n",
       "                                                   &#x27;phys_health_consequence&#x27;,\n",
       "                                                   &#x27;coworkers&#x27;, &#x27;supervisor&#x27;,\n",
       "                                                   &#x27;phys_health_interview&#x27;,\n",
       "                                                   &#x27;mental_vs_physical&#x27;,\n",
       "                                                   &#x27;work_treatment_interfere&#x27;,\n",
       "                                                   &#x27;work_no_treatment_interfere&#x27;,\n",
       "                                                   &#x27;Continent&#x27;])])),\n",
       "                (&#x27;svc&#x27;,\n",
       "                 SVC(C=0.05, class_weight=&#x27;balanced&#x27;, degree=2, kernel=&#x27;poly&#x27;,\n",
       "                     probability=True, random_state=42, verbose=True))])</pre><b>In a Jupyter environment, please rerun this cell to show the HTML representation or trust the notebook. <br />On GitHub, the HTML representation is unable to render, please try loading this page with nbviewer.org.</b></div><div class=\"sk-container\" hidden><div class=\"sk-item sk-dashed-wrapped\"><div class=\"sk-label-container\"><div class=\"sk-label sk-toggleable\"><input class=\"sk-toggleable__control sk-hidden--visually\" id=\"sk-estimator-id-133\" type=\"checkbox\" ><label for=\"sk-estimator-id-133\" class=\"sk-toggleable__label sk-toggleable__label-arrow\">Pipeline</label><div class=\"sk-toggleable__content\"><pre>Pipeline(steps=[(&#x27;columntransformer&#x27;,\n",
       "                 ColumnTransformer(transformers=[(&#x27;num&#x27;,\n",
       "                                                  Pipeline(steps=[(&#x27;standardscaler&#x27;,\n",
       "                                                                   StandardScaler())]),\n",
       "                                                  [&#x27;Age&#x27;]),\n",
       "                                                 (&#x27;cat&#x27;,\n",
       "                                                  Pipeline(steps=[(&#x27;onehotencoder&#x27;,\n",
       "                                                                   OneHotEncoder())]),\n",
       "                                                  [&#x27;Gender&#x27;, &#x27;family_history&#x27;,\n",
       "                                                   &#x27;no_employees&#x27;,\n",
       "                                                   &#x27;remote_work&#x27;, &#x27;benefits&#x27;,\n",
       "                                                   &#x27;care_options&#x27;,\n",
       "                                                   &#x27;wellness_program&#x27;,\n",
       "                                                   &#x27;anonymity&#x27;, &#x27;leave&#x27;,\n",
       "                                                   &#x27;phys_health_consequence&#x27;,\n",
       "                                                   &#x27;coworkers&#x27;, &#x27;supervisor&#x27;,\n",
       "                                                   &#x27;phys_health_interview&#x27;,\n",
       "                                                   &#x27;mental_vs_physical&#x27;,\n",
       "                                                   &#x27;work_treatment_interfere&#x27;,\n",
       "                                                   &#x27;work_no_treatment_interfere&#x27;,\n",
       "                                                   &#x27;Continent&#x27;])])),\n",
       "                (&#x27;svc&#x27;,\n",
       "                 SVC(C=0.05, class_weight=&#x27;balanced&#x27;, degree=2, kernel=&#x27;poly&#x27;,\n",
       "                     probability=True, random_state=42, verbose=True))])</pre></div></div></div><div class=\"sk-serial\"><div class=\"sk-item sk-dashed-wrapped\"><div class=\"sk-label-container\"><div class=\"sk-label sk-toggleable\"><input class=\"sk-toggleable__control sk-hidden--visually\" id=\"sk-estimator-id-134\" type=\"checkbox\" ><label for=\"sk-estimator-id-134\" class=\"sk-toggleable__label sk-toggleable__label-arrow\">columntransformer: ColumnTransformer</label><div class=\"sk-toggleable__content\"><pre>ColumnTransformer(transformers=[(&#x27;num&#x27;,\n",
       "                                 Pipeline(steps=[(&#x27;standardscaler&#x27;,\n",
       "                                                  StandardScaler())]),\n",
       "                                 [&#x27;Age&#x27;]),\n",
       "                                (&#x27;cat&#x27;,\n",
       "                                 Pipeline(steps=[(&#x27;onehotencoder&#x27;,\n",
       "                                                  OneHotEncoder())]),\n",
       "                                 [&#x27;Gender&#x27;, &#x27;family_history&#x27;, &#x27;no_employees&#x27;,\n",
       "                                  &#x27;remote_work&#x27;, &#x27;benefits&#x27;, &#x27;care_options&#x27;,\n",
       "                                  &#x27;wellness_program&#x27;, &#x27;anonymity&#x27;, &#x27;leave&#x27;,\n",
       "                                  &#x27;phys_health_consequence&#x27;, &#x27;coworkers&#x27;,\n",
       "                                  &#x27;supervisor&#x27;, &#x27;phys_health_interview&#x27;,\n",
       "                                  &#x27;mental_vs_physical&#x27;,\n",
       "                                  &#x27;work_treatment_interfere&#x27;,\n",
       "                                  &#x27;work_no_treatment_interfere&#x27;,\n",
       "                                  &#x27;Continent&#x27;])])</pre></div></div></div><div class=\"sk-parallel\"><div class=\"sk-parallel-item\"><div class=\"sk-item\"><div class=\"sk-label-container\"><div class=\"sk-label sk-toggleable\"><input class=\"sk-toggleable__control sk-hidden--visually\" id=\"sk-estimator-id-135\" type=\"checkbox\" ><label for=\"sk-estimator-id-135\" class=\"sk-toggleable__label sk-toggleable__label-arrow\">num</label><div class=\"sk-toggleable__content\"><pre>[&#x27;Age&#x27;]</pre></div></div></div><div class=\"sk-serial\"><div class=\"sk-item\"><div class=\"sk-serial\"><div class=\"sk-item\"><div class=\"sk-estimator sk-toggleable\"><input class=\"sk-toggleable__control sk-hidden--visually\" id=\"sk-estimator-id-136\" type=\"checkbox\" ><label for=\"sk-estimator-id-136\" class=\"sk-toggleable__label sk-toggleable__label-arrow\">StandardScaler</label><div class=\"sk-toggleable__content\"><pre>StandardScaler()</pre></div></div></div></div></div></div></div></div><div class=\"sk-parallel-item\"><div class=\"sk-item\"><div class=\"sk-label-container\"><div class=\"sk-label sk-toggleable\"><input class=\"sk-toggleable__control sk-hidden--visually\" id=\"sk-estimator-id-137\" type=\"checkbox\" ><label for=\"sk-estimator-id-137\" class=\"sk-toggleable__label sk-toggleable__label-arrow\">cat</label><div class=\"sk-toggleable__content\"><pre>[&#x27;Gender&#x27;, &#x27;family_history&#x27;, &#x27;no_employees&#x27;, &#x27;remote_work&#x27;, &#x27;benefits&#x27;, &#x27;care_options&#x27;, &#x27;wellness_program&#x27;, &#x27;anonymity&#x27;, &#x27;leave&#x27;, &#x27;phys_health_consequence&#x27;, &#x27;coworkers&#x27;, &#x27;supervisor&#x27;, &#x27;phys_health_interview&#x27;, &#x27;mental_vs_physical&#x27;, &#x27;work_treatment_interfere&#x27;, &#x27;work_no_treatment_interfere&#x27;, &#x27;Continent&#x27;]</pre></div></div></div><div class=\"sk-serial\"><div class=\"sk-item\"><div class=\"sk-serial\"><div class=\"sk-item\"><div class=\"sk-estimator sk-toggleable\"><input class=\"sk-toggleable__control sk-hidden--visually\" id=\"sk-estimator-id-138\" type=\"checkbox\" ><label for=\"sk-estimator-id-138\" class=\"sk-toggleable__label sk-toggleable__label-arrow\">OneHotEncoder</label><div class=\"sk-toggleable__content\"><pre>OneHotEncoder()</pre></div></div></div></div></div></div></div></div></div></div><div class=\"sk-item\"><div class=\"sk-estimator sk-toggleable\"><input class=\"sk-toggleable__control sk-hidden--visually\" id=\"sk-estimator-id-139\" type=\"checkbox\" ><label for=\"sk-estimator-id-139\" class=\"sk-toggleable__label sk-toggleable__label-arrow\">SVC</label><div class=\"sk-toggleable__content\"><pre>SVC(C=0.05, class_weight=&#x27;balanced&#x27;, degree=2, kernel=&#x27;poly&#x27;, probability=True,\n",
       "    random_state=42, verbose=True)</pre></div></div></div></div></div></div></div>"
      ],
      "text/plain": [
       "Pipeline(steps=[('columntransformer',\n",
       "                 ColumnTransformer(transformers=[('num',\n",
       "                                                  Pipeline(steps=[('standardscaler',\n",
       "                                                                   StandardScaler())]),\n",
       "                                                  ['Age']),\n",
       "                                                 ('cat',\n",
       "                                                  Pipeline(steps=[('onehotencoder',\n",
       "                                                                   OneHotEncoder())]),\n",
       "                                                  ['Gender', 'family_history',\n",
       "                                                   'no_employees',\n",
       "                                                   'remote_work', 'benefits',\n",
       "                                                   'care_options',\n",
       "                                                   'wellness_program',\n",
       "                                                   'anonymity', 'leave',\n",
       "                                                   'phys_health_consequence',\n",
       "                                                   'coworkers', 'supervisor',\n",
       "                                                   'phys_health_interview',\n",
       "                                                   'mental_vs_physical',\n",
       "                                                   'work_treatment_interfere',\n",
       "                                                   'work_no_treatment_interfere',\n",
       "                                                   'Continent'])])),\n",
       "                ('svc',\n",
       "                 SVC(C=0.05, class_weight='balanced', degree=2, kernel='poly',\n",
       "                     probability=True, random_state=42, verbose=True))])"
      ]
     },
     "execution_count": 102,
     "metadata": {},
     "output_type": "execute_result"
    }
   ],
   "source": [
    "# choosing model SVC\n",
    "model_name_svc =SVC(C=0.05, class_weight='balanced', degree=2, kernel='poly', probability=True, random_state=42, verbose=True)\n",
    "\n",
    "# giving all values to pipeline\n",
    "pipe_svc = make_pipeline(preprocessor, model_name_svc)\n",
    "pipe_svc.fit(pl_X_train, pl_y_train)"
   ]
  },
  {
   "cell_type": "code",
   "execution_count": 103,
   "id": "09deaef8-e63d-4910-a735-53d5f38231db",
   "metadata": {},
   "outputs": [],
   "source": [
    "# make predictions on training set\n",
    "pl_y_pred_svc = pipe_svc.predict(pl_X_train)\n",
    "\n",
    "# make predictions on test set\n",
    "pl_y_pred_test_svc = pipe_svc.predict(pl_X_test)"
   ]
  },
  {
   "cell_type": "markdown",
   "id": "b5253afd-78e2-4012-a353-cc5bc1cea7c5",
   "metadata": {},
   "source": [
    "# Random Forest"
   ]
  },
  {
   "cell_type": "code",
   "execution_count": 104,
   "id": "7d7ec9a7-51ad-44ff-abca-260fcd5e5300",
   "metadata": {},
   "outputs": [
    {
     "data": {
      "text/html": [
       "<style>#sk-container-id-19 {color: black;background-color: white;}#sk-container-id-19 pre{padding: 0;}#sk-container-id-19 div.sk-toggleable {background-color: white;}#sk-container-id-19 label.sk-toggleable__label {cursor: pointer;display: block;width: 100%;margin-bottom: 0;padding: 0.3em;box-sizing: border-box;text-align: center;}#sk-container-id-19 label.sk-toggleable__label-arrow:before {content: \"▸\";float: left;margin-right: 0.25em;color: #696969;}#sk-container-id-19 label.sk-toggleable__label-arrow:hover:before {color: black;}#sk-container-id-19 div.sk-estimator:hover label.sk-toggleable__label-arrow:before {color: black;}#sk-container-id-19 div.sk-toggleable__content {max-height: 0;max-width: 0;overflow: hidden;text-align: left;background-color: #f0f8ff;}#sk-container-id-19 div.sk-toggleable__content pre {margin: 0.2em;color: black;border-radius: 0.25em;background-color: #f0f8ff;}#sk-container-id-19 input.sk-toggleable__control:checked~div.sk-toggleable__content {max-height: 200px;max-width: 100%;overflow: auto;}#sk-container-id-19 input.sk-toggleable__control:checked~label.sk-toggleable__label-arrow:before {content: \"▾\";}#sk-container-id-19 div.sk-estimator input.sk-toggleable__control:checked~label.sk-toggleable__label {background-color: #d4ebff;}#sk-container-id-19 div.sk-label input.sk-toggleable__control:checked~label.sk-toggleable__label {background-color: #d4ebff;}#sk-container-id-19 input.sk-hidden--visually {border: 0;clip: rect(1px 1px 1px 1px);clip: rect(1px, 1px, 1px, 1px);height: 1px;margin: -1px;overflow: hidden;padding: 0;position: absolute;width: 1px;}#sk-container-id-19 div.sk-estimator {font-family: monospace;background-color: #f0f8ff;border: 1px dotted black;border-radius: 0.25em;box-sizing: border-box;margin-bottom: 0.5em;}#sk-container-id-19 div.sk-estimator:hover {background-color: #d4ebff;}#sk-container-id-19 div.sk-parallel-item::after {content: \"\";width: 100%;border-bottom: 1px solid gray;flex-grow: 1;}#sk-container-id-19 div.sk-label:hover label.sk-toggleable__label {background-color: #d4ebff;}#sk-container-id-19 div.sk-serial::before {content: \"\";position: absolute;border-left: 1px solid gray;box-sizing: border-box;top: 0;bottom: 0;left: 50%;z-index: 0;}#sk-container-id-19 div.sk-serial {display: flex;flex-direction: column;align-items: center;background-color: white;padding-right: 0.2em;padding-left: 0.2em;position: relative;}#sk-container-id-19 div.sk-item {position: relative;z-index: 1;}#sk-container-id-19 div.sk-parallel {display: flex;align-items: stretch;justify-content: center;background-color: white;position: relative;}#sk-container-id-19 div.sk-item::before, #sk-container-id-19 div.sk-parallel-item::before {content: \"\";position: absolute;border-left: 1px solid gray;box-sizing: border-box;top: 0;bottom: 0;left: 50%;z-index: -1;}#sk-container-id-19 div.sk-parallel-item {display: flex;flex-direction: column;z-index: 1;position: relative;background-color: white;}#sk-container-id-19 div.sk-parallel-item:first-child::after {align-self: flex-end;width: 50%;}#sk-container-id-19 div.sk-parallel-item:last-child::after {align-self: flex-start;width: 50%;}#sk-container-id-19 div.sk-parallel-item:only-child::after {width: 0;}#sk-container-id-19 div.sk-dashed-wrapped {border: 1px dashed gray;margin: 0 0.4em 0.5em 0.4em;box-sizing: border-box;padding-bottom: 0.4em;background-color: white;}#sk-container-id-19 div.sk-label label {font-family: monospace;font-weight: bold;display: inline-block;line-height: 1.2em;}#sk-container-id-19 div.sk-label-container {text-align: center;}#sk-container-id-19 div.sk-container {/* jupyter's `normalize.less` sets `[hidden] { display: none; }` but bootstrap.min.css set `[hidden] { display: none !important; }` so we also need the `!important` here to be able to override the default hidden behavior on the sphinx rendered scikit-learn.org. See: https://github.com/scikit-learn/scikit-learn/issues/21755 */display: inline-block !important;position: relative;}#sk-container-id-19 div.sk-text-repr-fallback {display: none;}</style><div id=\"sk-container-id-19\" class=\"sk-top-container\"><div class=\"sk-text-repr-fallback\"><pre>Pipeline(steps=[(&#x27;columntransformer&#x27;,\n",
       "                 ColumnTransformer(transformers=[(&#x27;num&#x27;,\n",
       "                                                  Pipeline(steps=[(&#x27;standardscaler&#x27;,\n",
       "                                                                   StandardScaler())]),\n",
       "                                                  [&#x27;Age&#x27;]),\n",
       "                                                 (&#x27;cat&#x27;,\n",
       "                                                  Pipeline(steps=[(&#x27;onehotencoder&#x27;,\n",
       "                                                                   OneHotEncoder())]),\n",
       "                                                  [&#x27;Gender&#x27;, &#x27;family_history&#x27;,\n",
       "                                                   &#x27;no_employees&#x27;,\n",
       "                                                   &#x27;remote_work&#x27;, &#x27;benefits&#x27;,\n",
       "                                                   &#x27;care_options&#x27;,\n",
       "                                                   &#x27;wellness_program&#x27;,\n",
       "                                                   &#x27;anonymity&#x27;, &#x27;leave&#x27;,\n",
       "                                                   &#x27;phys_health_consequence&#x27;,\n",
       "                                                   &#x27;coworkers&#x27;, &#x27;supervisor&#x27;,\n",
       "                                                   &#x27;phys_health_interview&#x27;,\n",
       "                                                   &#x27;mental_vs_physical&#x27;,\n",
       "                                                   &#x27;work_treatment_interfere&#x27;,\n",
       "                                                   &#x27;work_no_treatment_interfere&#x27;,\n",
       "                                                   &#x27;Continent&#x27;])])),\n",
       "                (&#x27;randomforestclassifier&#x27;,\n",
       "                 RandomForestClassifier(max_depth=2, max_features=&#x27;log2&#x27;,\n",
       "                                        max_leaf_nodes=9, max_samples=0.25,\n",
       "                                        n_estimators=75, random_state=42))])</pre><b>In a Jupyter environment, please rerun this cell to show the HTML representation or trust the notebook. <br />On GitHub, the HTML representation is unable to render, please try loading this page with nbviewer.org.</b></div><div class=\"sk-container\" hidden><div class=\"sk-item sk-dashed-wrapped\"><div class=\"sk-label-container\"><div class=\"sk-label sk-toggleable\"><input class=\"sk-toggleable__control sk-hidden--visually\" id=\"sk-estimator-id-140\" type=\"checkbox\" ><label for=\"sk-estimator-id-140\" class=\"sk-toggleable__label sk-toggleable__label-arrow\">Pipeline</label><div class=\"sk-toggleable__content\"><pre>Pipeline(steps=[(&#x27;columntransformer&#x27;,\n",
       "                 ColumnTransformer(transformers=[(&#x27;num&#x27;,\n",
       "                                                  Pipeline(steps=[(&#x27;standardscaler&#x27;,\n",
       "                                                                   StandardScaler())]),\n",
       "                                                  [&#x27;Age&#x27;]),\n",
       "                                                 (&#x27;cat&#x27;,\n",
       "                                                  Pipeline(steps=[(&#x27;onehotencoder&#x27;,\n",
       "                                                                   OneHotEncoder())]),\n",
       "                                                  [&#x27;Gender&#x27;, &#x27;family_history&#x27;,\n",
       "                                                   &#x27;no_employees&#x27;,\n",
       "                                                   &#x27;remote_work&#x27;, &#x27;benefits&#x27;,\n",
       "                                                   &#x27;care_options&#x27;,\n",
       "                                                   &#x27;wellness_program&#x27;,\n",
       "                                                   &#x27;anonymity&#x27;, &#x27;leave&#x27;,\n",
       "                                                   &#x27;phys_health_consequence&#x27;,\n",
       "                                                   &#x27;coworkers&#x27;, &#x27;supervisor&#x27;,\n",
       "                                                   &#x27;phys_health_interview&#x27;,\n",
       "                                                   &#x27;mental_vs_physical&#x27;,\n",
       "                                                   &#x27;work_treatment_interfere&#x27;,\n",
       "                                                   &#x27;work_no_treatment_interfere&#x27;,\n",
       "                                                   &#x27;Continent&#x27;])])),\n",
       "                (&#x27;randomforestclassifier&#x27;,\n",
       "                 RandomForestClassifier(max_depth=2, max_features=&#x27;log2&#x27;,\n",
       "                                        max_leaf_nodes=9, max_samples=0.25,\n",
       "                                        n_estimators=75, random_state=42))])</pre></div></div></div><div class=\"sk-serial\"><div class=\"sk-item sk-dashed-wrapped\"><div class=\"sk-label-container\"><div class=\"sk-label sk-toggleable\"><input class=\"sk-toggleable__control sk-hidden--visually\" id=\"sk-estimator-id-141\" type=\"checkbox\" ><label for=\"sk-estimator-id-141\" class=\"sk-toggleable__label sk-toggleable__label-arrow\">columntransformer: ColumnTransformer</label><div class=\"sk-toggleable__content\"><pre>ColumnTransformer(transformers=[(&#x27;num&#x27;,\n",
       "                                 Pipeline(steps=[(&#x27;standardscaler&#x27;,\n",
       "                                                  StandardScaler())]),\n",
       "                                 [&#x27;Age&#x27;]),\n",
       "                                (&#x27;cat&#x27;,\n",
       "                                 Pipeline(steps=[(&#x27;onehotencoder&#x27;,\n",
       "                                                  OneHotEncoder())]),\n",
       "                                 [&#x27;Gender&#x27;, &#x27;family_history&#x27;, &#x27;no_employees&#x27;,\n",
       "                                  &#x27;remote_work&#x27;, &#x27;benefits&#x27;, &#x27;care_options&#x27;,\n",
       "                                  &#x27;wellness_program&#x27;, &#x27;anonymity&#x27;, &#x27;leave&#x27;,\n",
       "                                  &#x27;phys_health_consequence&#x27;, &#x27;coworkers&#x27;,\n",
       "                                  &#x27;supervisor&#x27;, &#x27;phys_health_interview&#x27;,\n",
       "                                  &#x27;mental_vs_physical&#x27;,\n",
       "                                  &#x27;work_treatment_interfere&#x27;,\n",
       "                                  &#x27;work_no_treatment_interfere&#x27;,\n",
       "                                  &#x27;Continent&#x27;])])</pre></div></div></div><div class=\"sk-parallel\"><div class=\"sk-parallel-item\"><div class=\"sk-item\"><div class=\"sk-label-container\"><div class=\"sk-label sk-toggleable\"><input class=\"sk-toggleable__control sk-hidden--visually\" id=\"sk-estimator-id-142\" type=\"checkbox\" ><label for=\"sk-estimator-id-142\" class=\"sk-toggleable__label sk-toggleable__label-arrow\">num</label><div class=\"sk-toggleable__content\"><pre>[&#x27;Age&#x27;]</pre></div></div></div><div class=\"sk-serial\"><div class=\"sk-item\"><div class=\"sk-serial\"><div class=\"sk-item\"><div class=\"sk-estimator sk-toggleable\"><input class=\"sk-toggleable__control sk-hidden--visually\" id=\"sk-estimator-id-143\" type=\"checkbox\" ><label for=\"sk-estimator-id-143\" class=\"sk-toggleable__label sk-toggleable__label-arrow\">StandardScaler</label><div class=\"sk-toggleable__content\"><pre>StandardScaler()</pre></div></div></div></div></div></div></div></div><div class=\"sk-parallel-item\"><div class=\"sk-item\"><div class=\"sk-label-container\"><div class=\"sk-label sk-toggleable\"><input class=\"sk-toggleable__control sk-hidden--visually\" id=\"sk-estimator-id-144\" type=\"checkbox\" ><label for=\"sk-estimator-id-144\" class=\"sk-toggleable__label sk-toggleable__label-arrow\">cat</label><div class=\"sk-toggleable__content\"><pre>[&#x27;Gender&#x27;, &#x27;family_history&#x27;, &#x27;no_employees&#x27;, &#x27;remote_work&#x27;, &#x27;benefits&#x27;, &#x27;care_options&#x27;, &#x27;wellness_program&#x27;, &#x27;anonymity&#x27;, &#x27;leave&#x27;, &#x27;phys_health_consequence&#x27;, &#x27;coworkers&#x27;, &#x27;supervisor&#x27;, &#x27;phys_health_interview&#x27;, &#x27;mental_vs_physical&#x27;, &#x27;work_treatment_interfere&#x27;, &#x27;work_no_treatment_interfere&#x27;, &#x27;Continent&#x27;]</pre></div></div></div><div class=\"sk-serial\"><div class=\"sk-item\"><div class=\"sk-serial\"><div class=\"sk-item\"><div class=\"sk-estimator sk-toggleable\"><input class=\"sk-toggleable__control sk-hidden--visually\" id=\"sk-estimator-id-145\" type=\"checkbox\" ><label for=\"sk-estimator-id-145\" class=\"sk-toggleable__label sk-toggleable__label-arrow\">OneHotEncoder</label><div class=\"sk-toggleable__content\"><pre>OneHotEncoder()</pre></div></div></div></div></div></div></div></div></div></div><div class=\"sk-item\"><div class=\"sk-estimator sk-toggleable\"><input class=\"sk-toggleable__control sk-hidden--visually\" id=\"sk-estimator-id-146\" type=\"checkbox\" ><label for=\"sk-estimator-id-146\" class=\"sk-toggleable__label sk-toggleable__label-arrow\">RandomForestClassifier</label><div class=\"sk-toggleable__content\"><pre>RandomForestClassifier(max_depth=2, max_features=&#x27;log2&#x27;, max_leaf_nodes=9,\n",
       "                       max_samples=0.25, n_estimators=75, random_state=42)</pre></div></div></div></div></div></div></div>"
      ],
      "text/plain": [
       "Pipeline(steps=[('columntransformer',\n",
       "                 ColumnTransformer(transformers=[('num',\n",
       "                                                  Pipeline(steps=[('standardscaler',\n",
       "                                                                   StandardScaler())]),\n",
       "                                                  ['Age']),\n",
       "                                                 ('cat',\n",
       "                                                  Pipeline(steps=[('onehotencoder',\n",
       "                                                                   OneHotEncoder())]),\n",
       "                                                  ['Gender', 'family_history',\n",
       "                                                   'no_employees',\n",
       "                                                   'remote_work', 'benefits',\n",
       "                                                   'care_options',\n",
       "                                                   'wellness_program',\n",
       "                                                   'anonymity', 'leave',\n",
       "                                                   'phys_health_consequence',\n",
       "                                                   'coworkers', 'supervisor',\n",
       "                                                   'phys_health_interview',\n",
       "                                                   'mental_vs_physical',\n",
       "                                                   'work_treatment_interfere',\n",
       "                                                   'work_no_treatment_interfere',\n",
       "                                                   'Continent'])])),\n",
       "                ('randomforestclassifier',\n",
       "                 RandomForestClassifier(max_depth=2, max_features='log2',\n",
       "                                        max_leaf_nodes=9, max_samples=0.25,\n",
       "                                        n_estimators=75, random_state=42))])"
      ]
     },
     "execution_count": 104,
     "metadata": {},
     "output_type": "execute_result"
    }
   ],
   "source": [
    "# choosing model Random Forest\n",
    "model_name_rf =RandomForestClassifier(max_depth=2, max_features='log2', max_leaf_nodes=9,\n",
    "                       max_samples=0.25, n_estimators=75, random_state=42)\n",
    "\n",
    "# giving all values to pipeline\n",
    "pipe_rf = make_pipeline(preprocessor,model_name_rf)\n",
    "pipe_rf.fit(pl_X_train, pl_y_train)"
   ]
  },
  {
   "cell_type": "code",
   "execution_count": 105,
   "id": "0500468d-c2ff-4915-b650-03cd77600536",
   "metadata": {},
   "outputs": [],
   "source": [
    "# make predictions on training set\n",
    "pl_y_pred_rf = pipe_rf.predict(pl_X_train)\n",
    "\n",
    "# make predictions on test set\n",
    "pl_y_pred_test_rf = pipe_rf.predict(pl_X_test)"
   ]
  },
  {
   "cell_type": "code",
   "execution_count": 106,
   "id": "74ba009b-2003-4b20-8a36-7c7087a0b5ce",
   "metadata": {},
   "outputs": [],
   "source": [
    "d_rf= {'Recall TRAIN:' : metrics.recall_score(pl_y_train, pl_y_pred_rf), 'Recall TEST:' :metrics.recall_score(pl_y_test, pl_y_pred_test_rf),\n",
    "       'F1 score TRAIN': metrics.f1_score(pl_y_train, pl_y_pred_rf), 'F1 score TEST' : metrics.f1_score(pl_y_test, pl_y_pred_test_rf),\n",
    "      'Accuracy TRAIN' : accuracy_score(pl_y_train, pl_y_pred_rf), 'Accurasy TEST' : accuracy_score(pl_y_test, pl_y_pred_test_rf)}\n",
    "\n",
    "d_svc= {'Recall TRAIN:' : metrics.recall_score(pl_y_train, pl_y_pred_svc), 'Recall TEST:' :metrics.recall_score(pl_y_test, pl_y_pred_test_svc),\n",
    "       'F1 score TRAIN': metrics.f1_score(pl_y_train, pl_y_pred_svc), 'F1 score TEST' : metrics.f1_score(pl_y_test, pl_y_pred_test_svc),\n",
    "      'Accuracy TRAIN' : accuracy_score(pl_y_train, pl_y_pred_svc), 'Accurasy TEST' : accuracy_score(pl_y_test, pl_y_pred_test_svc)}"
   ]
  },
  {
   "cell_type": "code",
   "execution_count": 107,
   "id": "bc4a43f3-3833-43a3-b265-c778906788c5",
   "metadata": {},
   "outputs": [
    {
     "data": {
      "text/html": [
       "<div>\n",
       "<style scoped>\n",
       "    .dataframe tbody tr th:only-of-type {\n",
       "        vertical-align: middle;\n",
       "    }\n",
       "\n",
       "    .dataframe tbody tr th {\n",
       "        vertical-align: top;\n",
       "    }\n",
       "\n",
       "    .dataframe thead th {\n",
       "        text-align: right;\n",
       "    }\n",
       "</style>\n",
       "<table border=\"1\" class=\"dataframe\">\n",
       "  <thead>\n",
       "    <tr style=\"text-align: right;\">\n",
       "      <th></th>\n",
       "      <th>Recall TRAIN:</th>\n",
       "      <th>Recall TEST:</th>\n",
       "      <th>F1 score TRAIN</th>\n",
       "      <th>F1 score TEST</th>\n",
       "      <th>Accuracy TRAIN</th>\n",
       "      <th>Accurasy TEST</th>\n",
       "    </tr>\n",
       "  </thead>\n",
       "  <tbody>\n",
       "    <tr>\n",
       "      <th>Random Forest</th>\n",
       "      <td>0.929432</td>\n",
       "      <td>0.970100</td>\n",
       "      <td>0.849057</td>\n",
       "      <td>0.878195</td>\n",
       "      <td>0.820477</td>\n",
       "      <td>0.848598</td>\n",
       "    </tr>\n",
       "    <tr>\n",
       "      <th>SVC</th>\n",
       "      <td>0.919966</td>\n",
       "      <td>0.943522</td>\n",
       "      <td>0.860709</td>\n",
       "      <td>0.873846</td>\n",
       "      <td>0.838242</td>\n",
       "      <td>0.846729</td>\n",
       "    </tr>\n",
       "  </tbody>\n",
       "</table>\n",
       "</div>"
      ],
      "text/plain": [
       "               Recall TRAIN:  Recall TEST:  F1 score TRAIN  F1 score TEST  \\\n",
       "Random Forest       0.929432      0.970100        0.849057       0.878195   \n",
       "SVC                 0.919966      0.943522        0.860709       0.873846   \n",
       "\n",
       "               Accuracy TRAIN  Accurasy TEST  \n",
       "Random Forest        0.820477       0.848598  \n",
       "SVC                  0.838242       0.846729  "
      ]
     },
     "execution_count": 107,
     "metadata": {},
     "output_type": "execute_result"
    }
   ],
   "source": [
    "pd.concat([pd.DataFrame(d_rf, columns=d_rf.keys(), index=['Random Forest']), pd.DataFrame(d_svc, columns=d_svc.keys(), index=['SVC'])])"
   ]
  },
  {
   "cell_type": "markdown",
   "id": "d4b7bcac-fb2a-4a0c-a854-38e6e1a2a81a",
   "metadata": {},
   "source": [
    "# With PCA"
   ]
  },
  {
   "cell_type": "code",
   "execution_count": 109,
   "id": "bfe8c86a-70d6-45ac-864c-ace19ee7bb49",
   "metadata": {},
   "outputs": [],
   "source": [
    "model_name_svc =SVC(C=0.05, class_weight='balanced', degree=2, kernel='poly', probability=True, random_state=42, verbose=True)\n",
    "\n",
    "pipe_steps = [('scaler', preprocessor), ('pca',KernelPCA()), ('svm',model_name_svc)]\n",
    "check_param = {'pca__n_components' : [i for i in range(1,6)]}\n",
    "pipeline_pca_test = Pipeline(pipe_steps)\n",
    "\n",
    "# create_grid = GridSearchCV(pipeline_pca_test, param_grid = check_param, cv = 5)\n",
    "# create_grid.fit(pl_X_train, pl_y_train)"
   ]
  },
  {
   "cell_type": "code",
   "execution_count": 110,
   "id": "7cfbe9cb-bddf-4f31-9b82-f542f6e499db",
   "metadata": {},
   "outputs": [],
   "source": [
    "# create_grid.best_params_"
   ]
  },
  {
   "cell_type": "markdown",
   "id": "8f0371d9-97a6-4438-9b71-a4620654f0e3",
   "metadata": {},
   "source": [
    "## SVC with PCA"
   ]
  },
  {
   "cell_type": "code",
   "execution_count": 111,
   "id": "3c5293a1-e957-4da9-83e6-81f837d2c000",
   "metadata": {},
   "outputs": [
    {
     "name": "stdout",
     "output_type": "stream",
     "text": [
      "[LibSVM]"
     ]
    },
    {
     "data": {
      "text/html": [
       "<style>#sk-container-id-20 {color: black;background-color: white;}#sk-container-id-20 pre{padding: 0;}#sk-container-id-20 div.sk-toggleable {background-color: white;}#sk-container-id-20 label.sk-toggleable__label {cursor: pointer;display: block;width: 100%;margin-bottom: 0;padding: 0.3em;box-sizing: border-box;text-align: center;}#sk-container-id-20 label.sk-toggleable__label-arrow:before {content: \"▸\";float: left;margin-right: 0.25em;color: #696969;}#sk-container-id-20 label.sk-toggleable__label-arrow:hover:before {color: black;}#sk-container-id-20 div.sk-estimator:hover label.sk-toggleable__label-arrow:before {color: black;}#sk-container-id-20 div.sk-toggleable__content {max-height: 0;max-width: 0;overflow: hidden;text-align: left;background-color: #f0f8ff;}#sk-container-id-20 div.sk-toggleable__content pre {margin: 0.2em;color: black;border-radius: 0.25em;background-color: #f0f8ff;}#sk-container-id-20 input.sk-toggleable__control:checked~div.sk-toggleable__content {max-height: 200px;max-width: 100%;overflow: auto;}#sk-container-id-20 input.sk-toggleable__control:checked~label.sk-toggleable__label-arrow:before {content: \"▾\";}#sk-container-id-20 div.sk-estimator input.sk-toggleable__control:checked~label.sk-toggleable__label {background-color: #d4ebff;}#sk-container-id-20 div.sk-label input.sk-toggleable__control:checked~label.sk-toggleable__label {background-color: #d4ebff;}#sk-container-id-20 input.sk-hidden--visually {border: 0;clip: rect(1px 1px 1px 1px);clip: rect(1px, 1px, 1px, 1px);height: 1px;margin: -1px;overflow: hidden;padding: 0;position: absolute;width: 1px;}#sk-container-id-20 div.sk-estimator {font-family: monospace;background-color: #f0f8ff;border: 1px dotted black;border-radius: 0.25em;box-sizing: border-box;margin-bottom: 0.5em;}#sk-container-id-20 div.sk-estimator:hover {background-color: #d4ebff;}#sk-container-id-20 div.sk-parallel-item::after {content: \"\";width: 100%;border-bottom: 1px solid gray;flex-grow: 1;}#sk-container-id-20 div.sk-label:hover label.sk-toggleable__label {background-color: #d4ebff;}#sk-container-id-20 div.sk-serial::before {content: \"\";position: absolute;border-left: 1px solid gray;box-sizing: border-box;top: 0;bottom: 0;left: 50%;z-index: 0;}#sk-container-id-20 div.sk-serial {display: flex;flex-direction: column;align-items: center;background-color: white;padding-right: 0.2em;padding-left: 0.2em;position: relative;}#sk-container-id-20 div.sk-item {position: relative;z-index: 1;}#sk-container-id-20 div.sk-parallel {display: flex;align-items: stretch;justify-content: center;background-color: white;position: relative;}#sk-container-id-20 div.sk-item::before, #sk-container-id-20 div.sk-parallel-item::before {content: \"\";position: absolute;border-left: 1px solid gray;box-sizing: border-box;top: 0;bottom: 0;left: 50%;z-index: -1;}#sk-container-id-20 div.sk-parallel-item {display: flex;flex-direction: column;z-index: 1;position: relative;background-color: white;}#sk-container-id-20 div.sk-parallel-item:first-child::after {align-self: flex-end;width: 50%;}#sk-container-id-20 div.sk-parallel-item:last-child::after {align-self: flex-start;width: 50%;}#sk-container-id-20 div.sk-parallel-item:only-child::after {width: 0;}#sk-container-id-20 div.sk-dashed-wrapped {border: 1px dashed gray;margin: 0 0.4em 0.5em 0.4em;box-sizing: border-box;padding-bottom: 0.4em;background-color: white;}#sk-container-id-20 div.sk-label label {font-family: monospace;font-weight: bold;display: inline-block;line-height: 1.2em;}#sk-container-id-20 div.sk-label-container {text-align: center;}#sk-container-id-20 div.sk-container {/* jupyter's `normalize.less` sets `[hidden] { display: none; }` but bootstrap.min.css set `[hidden] { display: none !important; }` so we also need the `!important` here to be able to override the default hidden behavior on the sphinx rendered scikit-learn.org. See: https://github.com/scikit-learn/scikit-learn/issues/21755 */display: inline-block !important;position: relative;}#sk-container-id-20 div.sk-text-repr-fallback {display: none;}</style><div id=\"sk-container-id-20\" class=\"sk-top-container\"><div class=\"sk-text-repr-fallback\"><pre>Pipeline(steps=[(&#x27;columntransformer&#x27;,\n",
       "                 ColumnTransformer(transformers=[(&#x27;num&#x27;,\n",
       "                                                  Pipeline(steps=[(&#x27;standardscaler&#x27;,\n",
       "                                                                   StandardScaler())]),\n",
       "                                                  [&#x27;Age&#x27;]),\n",
       "                                                 (&#x27;cat&#x27;,\n",
       "                                                  Pipeline(steps=[(&#x27;onehotencoder&#x27;,\n",
       "                                                                   OneHotEncoder())]),\n",
       "                                                  [&#x27;Gender&#x27;, &#x27;family_history&#x27;,\n",
       "                                                   &#x27;no_employees&#x27;,\n",
       "                                                   &#x27;remote_work&#x27;, &#x27;benefits&#x27;,\n",
       "                                                   &#x27;care_options&#x27;,\n",
       "                                                   &#x27;wellness_program&#x27;,\n",
       "                                                   &#x27;anonymity&#x27;, &#x27;leave&#x27;,\n",
       "                                                   &#x27;phys_health_consequence&#x27;,\n",
       "                                                   &#x27;coworkers&#x27;, &#x27;supervisor&#x27;,\n",
       "                                                   &#x27;phys_health_interview&#x27;,\n",
       "                                                   &#x27;mental_vs_physical&#x27;,\n",
       "                                                   &#x27;work_treatment_interfere&#x27;,\n",
       "                                                   &#x27;work_no_treatment_interfere&#x27;,\n",
       "                                                   &#x27;Continent&#x27;])])),\n",
       "                (&#x27;kernelpca&#x27;, KernelPCA(n_components=5)),\n",
       "                (&#x27;svc&#x27;,\n",
       "                 SVC(C=0.05, class_weight=&#x27;balanced&#x27;, degree=2, kernel=&#x27;poly&#x27;,\n",
       "                     probability=True, random_state=42, verbose=True))])</pre><b>In a Jupyter environment, please rerun this cell to show the HTML representation or trust the notebook. <br />On GitHub, the HTML representation is unable to render, please try loading this page with nbviewer.org.</b></div><div class=\"sk-container\" hidden><div class=\"sk-item sk-dashed-wrapped\"><div class=\"sk-label-container\"><div class=\"sk-label sk-toggleable\"><input class=\"sk-toggleable__control sk-hidden--visually\" id=\"sk-estimator-id-147\" type=\"checkbox\" ><label for=\"sk-estimator-id-147\" class=\"sk-toggleable__label sk-toggleable__label-arrow\">Pipeline</label><div class=\"sk-toggleable__content\"><pre>Pipeline(steps=[(&#x27;columntransformer&#x27;,\n",
       "                 ColumnTransformer(transformers=[(&#x27;num&#x27;,\n",
       "                                                  Pipeline(steps=[(&#x27;standardscaler&#x27;,\n",
       "                                                                   StandardScaler())]),\n",
       "                                                  [&#x27;Age&#x27;]),\n",
       "                                                 (&#x27;cat&#x27;,\n",
       "                                                  Pipeline(steps=[(&#x27;onehotencoder&#x27;,\n",
       "                                                                   OneHotEncoder())]),\n",
       "                                                  [&#x27;Gender&#x27;, &#x27;family_history&#x27;,\n",
       "                                                   &#x27;no_employees&#x27;,\n",
       "                                                   &#x27;remote_work&#x27;, &#x27;benefits&#x27;,\n",
       "                                                   &#x27;care_options&#x27;,\n",
       "                                                   &#x27;wellness_program&#x27;,\n",
       "                                                   &#x27;anonymity&#x27;, &#x27;leave&#x27;,\n",
       "                                                   &#x27;phys_health_consequence&#x27;,\n",
       "                                                   &#x27;coworkers&#x27;, &#x27;supervisor&#x27;,\n",
       "                                                   &#x27;phys_health_interview&#x27;,\n",
       "                                                   &#x27;mental_vs_physical&#x27;,\n",
       "                                                   &#x27;work_treatment_interfere&#x27;,\n",
       "                                                   &#x27;work_no_treatment_interfere&#x27;,\n",
       "                                                   &#x27;Continent&#x27;])])),\n",
       "                (&#x27;kernelpca&#x27;, KernelPCA(n_components=5)),\n",
       "                (&#x27;svc&#x27;,\n",
       "                 SVC(C=0.05, class_weight=&#x27;balanced&#x27;, degree=2, kernel=&#x27;poly&#x27;,\n",
       "                     probability=True, random_state=42, verbose=True))])</pre></div></div></div><div class=\"sk-serial\"><div class=\"sk-item sk-dashed-wrapped\"><div class=\"sk-label-container\"><div class=\"sk-label sk-toggleable\"><input class=\"sk-toggleable__control sk-hidden--visually\" id=\"sk-estimator-id-148\" type=\"checkbox\" ><label for=\"sk-estimator-id-148\" class=\"sk-toggleable__label sk-toggleable__label-arrow\">columntransformer: ColumnTransformer</label><div class=\"sk-toggleable__content\"><pre>ColumnTransformer(transformers=[(&#x27;num&#x27;,\n",
       "                                 Pipeline(steps=[(&#x27;standardscaler&#x27;,\n",
       "                                                  StandardScaler())]),\n",
       "                                 [&#x27;Age&#x27;]),\n",
       "                                (&#x27;cat&#x27;,\n",
       "                                 Pipeline(steps=[(&#x27;onehotencoder&#x27;,\n",
       "                                                  OneHotEncoder())]),\n",
       "                                 [&#x27;Gender&#x27;, &#x27;family_history&#x27;, &#x27;no_employees&#x27;,\n",
       "                                  &#x27;remote_work&#x27;, &#x27;benefits&#x27;, &#x27;care_options&#x27;,\n",
       "                                  &#x27;wellness_program&#x27;, &#x27;anonymity&#x27;, &#x27;leave&#x27;,\n",
       "                                  &#x27;phys_health_consequence&#x27;, &#x27;coworkers&#x27;,\n",
       "                                  &#x27;supervisor&#x27;, &#x27;phys_health_interview&#x27;,\n",
       "                                  &#x27;mental_vs_physical&#x27;,\n",
       "                                  &#x27;work_treatment_interfere&#x27;,\n",
       "                                  &#x27;work_no_treatment_interfere&#x27;,\n",
       "                                  &#x27;Continent&#x27;])])</pre></div></div></div><div class=\"sk-parallel\"><div class=\"sk-parallel-item\"><div class=\"sk-item\"><div class=\"sk-label-container\"><div class=\"sk-label sk-toggleable\"><input class=\"sk-toggleable__control sk-hidden--visually\" id=\"sk-estimator-id-149\" type=\"checkbox\" ><label for=\"sk-estimator-id-149\" class=\"sk-toggleable__label sk-toggleable__label-arrow\">num</label><div class=\"sk-toggleable__content\"><pre>[&#x27;Age&#x27;]</pre></div></div></div><div class=\"sk-serial\"><div class=\"sk-item\"><div class=\"sk-serial\"><div class=\"sk-item\"><div class=\"sk-estimator sk-toggleable\"><input class=\"sk-toggleable__control sk-hidden--visually\" id=\"sk-estimator-id-150\" type=\"checkbox\" ><label for=\"sk-estimator-id-150\" class=\"sk-toggleable__label sk-toggleable__label-arrow\">StandardScaler</label><div class=\"sk-toggleable__content\"><pre>StandardScaler()</pre></div></div></div></div></div></div></div></div><div class=\"sk-parallel-item\"><div class=\"sk-item\"><div class=\"sk-label-container\"><div class=\"sk-label sk-toggleable\"><input class=\"sk-toggleable__control sk-hidden--visually\" id=\"sk-estimator-id-151\" type=\"checkbox\" ><label for=\"sk-estimator-id-151\" class=\"sk-toggleable__label sk-toggleable__label-arrow\">cat</label><div class=\"sk-toggleable__content\"><pre>[&#x27;Gender&#x27;, &#x27;family_history&#x27;, &#x27;no_employees&#x27;, &#x27;remote_work&#x27;, &#x27;benefits&#x27;, &#x27;care_options&#x27;, &#x27;wellness_program&#x27;, &#x27;anonymity&#x27;, &#x27;leave&#x27;, &#x27;phys_health_consequence&#x27;, &#x27;coworkers&#x27;, &#x27;supervisor&#x27;, &#x27;phys_health_interview&#x27;, &#x27;mental_vs_physical&#x27;, &#x27;work_treatment_interfere&#x27;, &#x27;work_no_treatment_interfere&#x27;, &#x27;Continent&#x27;]</pre></div></div></div><div class=\"sk-serial\"><div class=\"sk-item\"><div class=\"sk-serial\"><div class=\"sk-item\"><div class=\"sk-estimator sk-toggleable\"><input class=\"sk-toggleable__control sk-hidden--visually\" id=\"sk-estimator-id-152\" type=\"checkbox\" ><label for=\"sk-estimator-id-152\" class=\"sk-toggleable__label sk-toggleable__label-arrow\">OneHotEncoder</label><div class=\"sk-toggleable__content\"><pre>OneHotEncoder()</pre></div></div></div></div></div></div></div></div></div></div><div class=\"sk-item\"><div class=\"sk-estimator sk-toggleable\"><input class=\"sk-toggleable__control sk-hidden--visually\" id=\"sk-estimator-id-153\" type=\"checkbox\" ><label for=\"sk-estimator-id-153\" class=\"sk-toggleable__label sk-toggleable__label-arrow\">KernelPCA</label><div class=\"sk-toggleable__content\"><pre>KernelPCA(n_components=5)</pre></div></div></div><div class=\"sk-item\"><div class=\"sk-estimator sk-toggleable\"><input class=\"sk-toggleable__control sk-hidden--visually\" id=\"sk-estimator-id-154\" type=\"checkbox\" ><label for=\"sk-estimator-id-154\" class=\"sk-toggleable__label sk-toggleable__label-arrow\">SVC</label><div class=\"sk-toggleable__content\"><pre>SVC(C=0.05, class_weight=&#x27;balanced&#x27;, degree=2, kernel=&#x27;poly&#x27;, probability=True,\n",
       "    random_state=42, verbose=True)</pre></div></div></div></div></div></div></div>"
      ],
      "text/plain": [
       "Pipeline(steps=[('columntransformer',\n",
       "                 ColumnTransformer(transformers=[('num',\n",
       "                                                  Pipeline(steps=[('standardscaler',\n",
       "                                                                   StandardScaler())]),\n",
       "                                                  ['Age']),\n",
       "                                                 ('cat',\n",
       "                                                  Pipeline(steps=[('onehotencoder',\n",
       "                                                                   OneHotEncoder())]),\n",
       "                                                  ['Gender', 'family_history',\n",
       "                                                   'no_employees',\n",
       "                                                   'remote_work', 'benefits',\n",
       "                                                   'care_options',\n",
       "                                                   'wellness_program',\n",
       "                                                   'anonymity', 'leave',\n",
       "                                                   'phys_health_consequence',\n",
       "                                                   'coworkers', 'supervisor',\n",
       "                                                   'phys_health_interview',\n",
       "                                                   'mental_vs_physical',\n",
       "                                                   'work_treatment_interfere',\n",
       "                                                   'work_no_treatment_interfere',\n",
       "                                                   'Continent'])])),\n",
       "                ('kernelpca', KernelPCA(n_components=5)),\n",
       "                ('svc',\n",
       "                 SVC(C=0.05, class_weight='balanced', degree=2, kernel='poly',\n",
       "                     probability=True, random_state=42, verbose=True))])"
      ]
     },
     "execution_count": 111,
     "metadata": {},
     "output_type": "execute_result"
    }
   ],
   "source": [
    "pipe_svc = make_pipeline(preprocessor, KernelPCA(n_components = 5), model_name_svc)\n",
    "pipe_svc.fit(pl_X_train, pl_y_train)"
   ]
  },
  {
   "cell_type": "code",
   "execution_count": 112,
   "id": "ddb32b72-03a3-4c5c-a2d9-69ecafe25c19",
   "metadata": {},
   "outputs": [],
   "source": [
    "# make predictions on training set\n",
    "pl_y_pred_svc = pipe_svc.predict(pl_X_train)\n",
    "\n",
    "# make predictions on test set\n",
    "pl_y_pred_test_svc = pipe_svc.predict(pl_X_test)"
   ]
  },
  {
   "cell_type": "markdown",
   "id": "5fb481a7-71cb-460b-a4a4-3d626b6bc9df",
   "metadata": {},
   "source": [
    "## Random Forest with PCA "
   ]
  },
  {
   "cell_type": "code",
   "execution_count": 113,
   "id": "c056b1c5-c8ba-4e5a-ae4d-b41eefa743c7",
   "metadata": {},
   "outputs": [],
   "source": [
    "pipe_rf = make_pipeline(preprocessor,KernelPCA(n_components = 5),model_name_rf)\n",
    "pipe_rf.fit(pl_X_train, pl_y_train)\n",
    "# make predictions on training set\n",
    "pl_y_pred_rf = pipe_rf.predict(pl_X_train)\n",
    "\n",
    "# make predictions on test set\n",
    "pl_y_pred_test_rf = pipe_rf.predict(pl_X_test)"
   ]
  },
  {
   "cell_type": "code",
   "execution_count": 114,
   "id": "d49e50e5-506c-4ea0-8805-a273fe2319e6",
   "metadata": {},
   "outputs": [],
   "source": [
    "d_rf= {'Recall TRAIN:' : metrics.recall_score(pl_y_train, pl_y_pred_rf), 'Recall TEST:' :metrics.recall_score(pl_y_test, pl_y_pred_test_rf),\n",
    "       'F1 score TRAIN': metrics.f1_score(pl_y_train, pl_y_pred_rf), 'F1 score TEST' : metrics.f1_score(pl_y_test, pl_y_pred_test_rf),\n",
    "      'Accuracy TRAIN' : accuracy_score(pl_y_train, pl_y_pred_rf), 'Accurasy TEST' : accuracy_score(pl_y_test, pl_y_pred_test_rf)}\n",
    "\n",
    "d_svc= {'Recall TRAIN:' : metrics.recall_score(pl_y_train, pl_y_pred_svc), 'Recall TEST:' :metrics.recall_score(pl_y_test, pl_y_pred_test_svc),\n",
    "       'F1 score TRAIN': metrics.f1_score(pl_y_train, pl_y_pred_svc), 'F1 score TEST' : metrics.f1_score(pl_y_test, pl_y_pred_test_svc),\n",
    "      'Accuracy TRAIN' : accuracy_score(pl_y_train, pl_y_pred_svc), 'Accurasy TEST' : accuracy_score(pl_y_test, pl_y_pred_test_svc)}"
   ]
  },
  {
   "cell_type": "code",
   "execution_count": 115,
   "id": "642ee1b2-a43e-4277-96fd-a1a3d9db2a60",
   "metadata": {},
   "outputs": [
    {
     "data": {
      "text/html": [
       "<div>\n",
       "<style scoped>\n",
       "    .dataframe tbody tr th:only-of-type {\n",
       "        vertical-align: middle;\n",
       "    }\n",
       "\n",
       "    .dataframe tbody tr th {\n",
       "        vertical-align: top;\n",
       "    }\n",
       "\n",
       "    .dataframe thead th {\n",
       "        text-align: right;\n",
       "    }\n",
       "</style>\n",
       "<table border=\"1\" class=\"dataframe\">\n",
       "  <thead>\n",
       "    <tr style=\"text-align: right;\">\n",
       "      <th></th>\n",
       "      <th>Recall TRAIN:</th>\n",
       "      <th>Recall TEST:</th>\n",
       "      <th>F1 score TRAIN</th>\n",
       "      <th>F1 score TEST</th>\n",
       "      <th>Accuracy TRAIN</th>\n",
       "      <th>Accurasy TEST</th>\n",
       "    </tr>\n",
       "  </thead>\n",
       "  <tbody>\n",
       "    <tr>\n",
       "      <th>Random Forest</th>\n",
       "      <td>0.835628</td>\n",
       "      <td>0.823920</td>\n",
       "      <td>0.804141</td>\n",
       "      <td>0.798712</td>\n",
       "      <td>0.778869</td>\n",
       "      <td>0.766355</td>\n",
       "    </tr>\n",
       "    <tr>\n",
       "      <th>SVC</th>\n",
       "      <td>0.349398</td>\n",
       "      <td>0.325581</td>\n",
       "      <td>0.457207</td>\n",
       "      <td>0.442438</td>\n",
       "      <td>0.549322</td>\n",
       "      <td>0.538318</td>\n",
       "    </tr>\n",
       "  </tbody>\n",
       "</table>\n",
       "</div>"
      ],
      "text/plain": [
       "               Recall TRAIN:  Recall TEST:  F1 score TRAIN  F1 score TEST  \\\n",
       "Random Forest       0.835628      0.823920        0.804141       0.798712   \n",
       "SVC                 0.349398      0.325581        0.457207       0.442438   \n",
       "\n",
       "               Accuracy TRAIN  Accurasy TEST  \n",
       "Random Forest        0.778869       0.766355  \n",
       "SVC                  0.549322       0.538318  "
      ]
     },
     "execution_count": 115,
     "metadata": {},
     "output_type": "execute_result"
    }
   ],
   "source": [
    "pd.concat([pd.DataFrame(d_rf, columns=d_rf.keys(), index=['Random Forest']), pd.DataFrame(d_svc, columns=d_svc.keys(), index=['SVC'])])"
   ]
  },
  {
   "cell_type": "markdown",
   "id": "b6c248c8-4976-4569-a430-bd4b258959a8",
   "metadata": {},
   "source": [
    "# With PCA kernel = 'poly', degree = 2"
   ]
  },
  {
   "cell_type": "code",
   "execution_count": 116,
   "id": "5f6a017e-2a4c-4770-8870-93733abe919b",
   "metadata": {},
   "outputs": [
    {
     "data": {
      "text/plain": [
       "(2674, 68)"
      ]
     },
     "execution_count": 116,
     "metadata": {},
     "output_type": "execute_result"
    }
   ],
   "source": [
    "preprocessor.fit_transform(pipe_dataset).shape"
   ]
  },
  {
   "cell_type": "code",
   "execution_count": 117,
   "id": "d13f571c-8d4b-402d-831f-d9c0410181f4",
   "metadata": {},
   "outputs": [],
   "source": [
    "pipe_steps = [('scaler', preprocessor), ('pca', KernelPCA(kernel= \"poly\", degree= 2)), ('svm',model_name_svc)]\n",
    "check_param = {'pca__n_components' : [i for i in range(1,68)]}\n",
    "pipeline_pca_test = Pipeline(pipe_steps)\n"
   ]
  },
  {
   "cell_type": "code",
   "execution_count": 118,
   "id": "9169259e-b8a2-48b8-8b6b-8ad79c79efb8",
   "metadata": {},
   "outputs": [],
   "source": [
    "# create_grid = GridSearchCV(pipeline_pca_test, param_grid = check_param, cv = 5)\n",
    "# create_grid.fit(pl_X_train, pl_y_train)\n"
   ]
  },
  {
   "cell_type": "code",
   "execution_count": 119,
   "id": "5f67ed1c-c163-4017-84d3-4b56b2a83cf8",
   "metadata": {},
   "outputs": [],
   "source": [
    "# create_grid.best_params_"
   ]
  },
  {
   "cell_type": "markdown",
   "id": "a49766ad-c370-4f77-9082-4cf4709fad67",
   "metadata": {},
   "source": [
    "## SVC with PCA Kernel"
   ]
  },
  {
   "cell_type": "code",
   "execution_count": 120,
   "id": "943ff234-22b9-4725-9017-6cedc57db86d",
   "metadata": {},
   "outputs": [
    {
     "name": "stdout",
     "output_type": "stream",
     "text": [
      "[LibSVM]"
     ]
    },
    {
     "data": {
      "text/html": [
       "<style>#sk-container-id-21 {color: black;background-color: white;}#sk-container-id-21 pre{padding: 0;}#sk-container-id-21 div.sk-toggleable {background-color: white;}#sk-container-id-21 label.sk-toggleable__label {cursor: pointer;display: block;width: 100%;margin-bottom: 0;padding: 0.3em;box-sizing: border-box;text-align: center;}#sk-container-id-21 label.sk-toggleable__label-arrow:before {content: \"▸\";float: left;margin-right: 0.25em;color: #696969;}#sk-container-id-21 label.sk-toggleable__label-arrow:hover:before {color: black;}#sk-container-id-21 div.sk-estimator:hover label.sk-toggleable__label-arrow:before {color: black;}#sk-container-id-21 div.sk-toggleable__content {max-height: 0;max-width: 0;overflow: hidden;text-align: left;background-color: #f0f8ff;}#sk-container-id-21 div.sk-toggleable__content pre {margin: 0.2em;color: black;border-radius: 0.25em;background-color: #f0f8ff;}#sk-container-id-21 input.sk-toggleable__control:checked~div.sk-toggleable__content {max-height: 200px;max-width: 100%;overflow: auto;}#sk-container-id-21 input.sk-toggleable__control:checked~label.sk-toggleable__label-arrow:before {content: \"▾\";}#sk-container-id-21 div.sk-estimator input.sk-toggleable__control:checked~label.sk-toggleable__label {background-color: #d4ebff;}#sk-container-id-21 div.sk-label input.sk-toggleable__control:checked~label.sk-toggleable__label {background-color: #d4ebff;}#sk-container-id-21 input.sk-hidden--visually {border: 0;clip: rect(1px 1px 1px 1px);clip: rect(1px, 1px, 1px, 1px);height: 1px;margin: -1px;overflow: hidden;padding: 0;position: absolute;width: 1px;}#sk-container-id-21 div.sk-estimator {font-family: monospace;background-color: #f0f8ff;border: 1px dotted black;border-radius: 0.25em;box-sizing: border-box;margin-bottom: 0.5em;}#sk-container-id-21 div.sk-estimator:hover {background-color: #d4ebff;}#sk-container-id-21 div.sk-parallel-item::after {content: \"\";width: 100%;border-bottom: 1px solid gray;flex-grow: 1;}#sk-container-id-21 div.sk-label:hover label.sk-toggleable__label {background-color: #d4ebff;}#sk-container-id-21 div.sk-serial::before {content: \"\";position: absolute;border-left: 1px solid gray;box-sizing: border-box;top: 0;bottom: 0;left: 50%;z-index: 0;}#sk-container-id-21 div.sk-serial {display: flex;flex-direction: column;align-items: center;background-color: white;padding-right: 0.2em;padding-left: 0.2em;position: relative;}#sk-container-id-21 div.sk-item {position: relative;z-index: 1;}#sk-container-id-21 div.sk-parallel {display: flex;align-items: stretch;justify-content: center;background-color: white;position: relative;}#sk-container-id-21 div.sk-item::before, #sk-container-id-21 div.sk-parallel-item::before {content: \"\";position: absolute;border-left: 1px solid gray;box-sizing: border-box;top: 0;bottom: 0;left: 50%;z-index: -1;}#sk-container-id-21 div.sk-parallel-item {display: flex;flex-direction: column;z-index: 1;position: relative;background-color: white;}#sk-container-id-21 div.sk-parallel-item:first-child::after {align-self: flex-end;width: 50%;}#sk-container-id-21 div.sk-parallel-item:last-child::after {align-self: flex-start;width: 50%;}#sk-container-id-21 div.sk-parallel-item:only-child::after {width: 0;}#sk-container-id-21 div.sk-dashed-wrapped {border: 1px dashed gray;margin: 0 0.4em 0.5em 0.4em;box-sizing: border-box;padding-bottom: 0.4em;background-color: white;}#sk-container-id-21 div.sk-label label {font-family: monospace;font-weight: bold;display: inline-block;line-height: 1.2em;}#sk-container-id-21 div.sk-label-container {text-align: center;}#sk-container-id-21 div.sk-container {/* jupyter's `normalize.less` sets `[hidden] { display: none; }` but bootstrap.min.css set `[hidden] { display: none !important; }` so we also need the `!important` here to be able to override the default hidden behavior on the sphinx rendered scikit-learn.org. See: https://github.com/scikit-learn/scikit-learn/issues/21755 */display: inline-block !important;position: relative;}#sk-container-id-21 div.sk-text-repr-fallback {display: none;}</style><div id=\"sk-container-id-21\" class=\"sk-top-container\"><div class=\"sk-text-repr-fallback\"><pre>Pipeline(steps=[(&#x27;columntransformer&#x27;,\n",
       "                 ColumnTransformer(transformers=[(&#x27;num&#x27;,\n",
       "                                                  Pipeline(steps=[(&#x27;standardscaler&#x27;,\n",
       "                                                                   StandardScaler())]),\n",
       "                                                  [&#x27;Age&#x27;]),\n",
       "                                                 (&#x27;cat&#x27;,\n",
       "                                                  Pipeline(steps=[(&#x27;onehotencoder&#x27;,\n",
       "                                                                   OneHotEncoder())]),\n",
       "                                                  [&#x27;Gender&#x27;, &#x27;family_history&#x27;,\n",
       "                                                   &#x27;no_employees&#x27;,\n",
       "                                                   &#x27;remote_work&#x27;, &#x27;benefits&#x27;,\n",
       "                                                   &#x27;care_options&#x27;,\n",
       "                                                   &#x27;wellness_program&#x27;,\n",
       "                                                   &#x27;anonymity&#x27;, &#x27;leave&#x27;,\n",
       "                                                   &#x27;phys_health_consequence&#x27;,\n",
       "                                                   &#x27;coworkers&#x27;, &#x27;supervisor&#x27;,\n",
       "                                                   &#x27;phys_health_interview&#x27;,\n",
       "                                                   &#x27;mental_vs_physical&#x27;,\n",
       "                                                   &#x27;work_treatment_interfere&#x27;,\n",
       "                                                   &#x27;work_no_treatment_interfere&#x27;,\n",
       "                                                   &#x27;Continent&#x27;])])),\n",
       "                (&#x27;kernelpca&#x27;,\n",
       "                 KernelPCA(degree=2, kernel=&#x27;poly&#x27;, n_components=44)),\n",
       "                (&#x27;svc&#x27;,\n",
       "                 SVC(C=0.05, class_weight=&#x27;balanced&#x27;, degree=2, kernel=&#x27;linear&#x27;,\n",
       "                     probability=True, random_state=42, verbose=True))])</pre><b>In a Jupyter environment, please rerun this cell to show the HTML representation or trust the notebook. <br />On GitHub, the HTML representation is unable to render, please try loading this page with nbviewer.org.</b></div><div class=\"sk-container\" hidden><div class=\"sk-item sk-dashed-wrapped\"><div class=\"sk-label-container\"><div class=\"sk-label sk-toggleable\"><input class=\"sk-toggleable__control sk-hidden--visually\" id=\"sk-estimator-id-155\" type=\"checkbox\" ><label for=\"sk-estimator-id-155\" class=\"sk-toggleable__label sk-toggleable__label-arrow\">Pipeline</label><div class=\"sk-toggleable__content\"><pre>Pipeline(steps=[(&#x27;columntransformer&#x27;,\n",
       "                 ColumnTransformer(transformers=[(&#x27;num&#x27;,\n",
       "                                                  Pipeline(steps=[(&#x27;standardscaler&#x27;,\n",
       "                                                                   StandardScaler())]),\n",
       "                                                  [&#x27;Age&#x27;]),\n",
       "                                                 (&#x27;cat&#x27;,\n",
       "                                                  Pipeline(steps=[(&#x27;onehotencoder&#x27;,\n",
       "                                                                   OneHotEncoder())]),\n",
       "                                                  [&#x27;Gender&#x27;, &#x27;family_history&#x27;,\n",
       "                                                   &#x27;no_employees&#x27;,\n",
       "                                                   &#x27;remote_work&#x27;, &#x27;benefits&#x27;,\n",
       "                                                   &#x27;care_options&#x27;,\n",
       "                                                   &#x27;wellness_program&#x27;,\n",
       "                                                   &#x27;anonymity&#x27;, &#x27;leave&#x27;,\n",
       "                                                   &#x27;phys_health_consequence&#x27;,\n",
       "                                                   &#x27;coworkers&#x27;, &#x27;supervisor&#x27;,\n",
       "                                                   &#x27;phys_health_interview&#x27;,\n",
       "                                                   &#x27;mental_vs_physical&#x27;,\n",
       "                                                   &#x27;work_treatment_interfere&#x27;,\n",
       "                                                   &#x27;work_no_treatment_interfere&#x27;,\n",
       "                                                   &#x27;Continent&#x27;])])),\n",
       "                (&#x27;kernelpca&#x27;,\n",
       "                 KernelPCA(degree=2, kernel=&#x27;poly&#x27;, n_components=44)),\n",
       "                (&#x27;svc&#x27;,\n",
       "                 SVC(C=0.05, class_weight=&#x27;balanced&#x27;, degree=2, kernel=&#x27;linear&#x27;,\n",
       "                     probability=True, random_state=42, verbose=True))])</pre></div></div></div><div class=\"sk-serial\"><div class=\"sk-item sk-dashed-wrapped\"><div class=\"sk-label-container\"><div class=\"sk-label sk-toggleable\"><input class=\"sk-toggleable__control sk-hidden--visually\" id=\"sk-estimator-id-156\" type=\"checkbox\" ><label for=\"sk-estimator-id-156\" class=\"sk-toggleable__label sk-toggleable__label-arrow\">columntransformer: ColumnTransformer</label><div class=\"sk-toggleable__content\"><pre>ColumnTransformer(transformers=[(&#x27;num&#x27;,\n",
       "                                 Pipeline(steps=[(&#x27;standardscaler&#x27;,\n",
       "                                                  StandardScaler())]),\n",
       "                                 [&#x27;Age&#x27;]),\n",
       "                                (&#x27;cat&#x27;,\n",
       "                                 Pipeline(steps=[(&#x27;onehotencoder&#x27;,\n",
       "                                                  OneHotEncoder())]),\n",
       "                                 [&#x27;Gender&#x27;, &#x27;family_history&#x27;, &#x27;no_employees&#x27;,\n",
       "                                  &#x27;remote_work&#x27;, &#x27;benefits&#x27;, &#x27;care_options&#x27;,\n",
       "                                  &#x27;wellness_program&#x27;, &#x27;anonymity&#x27;, &#x27;leave&#x27;,\n",
       "                                  &#x27;phys_health_consequence&#x27;, &#x27;coworkers&#x27;,\n",
       "                                  &#x27;supervisor&#x27;, &#x27;phys_health_interview&#x27;,\n",
       "                                  &#x27;mental_vs_physical&#x27;,\n",
       "                                  &#x27;work_treatment_interfere&#x27;,\n",
       "                                  &#x27;work_no_treatment_interfere&#x27;,\n",
       "                                  &#x27;Continent&#x27;])])</pre></div></div></div><div class=\"sk-parallel\"><div class=\"sk-parallel-item\"><div class=\"sk-item\"><div class=\"sk-label-container\"><div class=\"sk-label sk-toggleable\"><input class=\"sk-toggleable__control sk-hidden--visually\" id=\"sk-estimator-id-157\" type=\"checkbox\" ><label for=\"sk-estimator-id-157\" class=\"sk-toggleable__label sk-toggleable__label-arrow\">num</label><div class=\"sk-toggleable__content\"><pre>[&#x27;Age&#x27;]</pre></div></div></div><div class=\"sk-serial\"><div class=\"sk-item\"><div class=\"sk-serial\"><div class=\"sk-item\"><div class=\"sk-estimator sk-toggleable\"><input class=\"sk-toggleable__control sk-hidden--visually\" id=\"sk-estimator-id-158\" type=\"checkbox\" ><label for=\"sk-estimator-id-158\" class=\"sk-toggleable__label sk-toggleable__label-arrow\">StandardScaler</label><div class=\"sk-toggleable__content\"><pre>StandardScaler()</pre></div></div></div></div></div></div></div></div><div class=\"sk-parallel-item\"><div class=\"sk-item\"><div class=\"sk-label-container\"><div class=\"sk-label sk-toggleable\"><input class=\"sk-toggleable__control sk-hidden--visually\" id=\"sk-estimator-id-159\" type=\"checkbox\" ><label for=\"sk-estimator-id-159\" class=\"sk-toggleable__label sk-toggleable__label-arrow\">cat</label><div class=\"sk-toggleable__content\"><pre>[&#x27;Gender&#x27;, &#x27;family_history&#x27;, &#x27;no_employees&#x27;, &#x27;remote_work&#x27;, &#x27;benefits&#x27;, &#x27;care_options&#x27;, &#x27;wellness_program&#x27;, &#x27;anonymity&#x27;, &#x27;leave&#x27;, &#x27;phys_health_consequence&#x27;, &#x27;coworkers&#x27;, &#x27;supervisor&#x27;, &#x27;phys_health_interview&#x27;, &#x27;mental_vs_physical&#x27;, &#x27;work_treatment_interfere&#x27;, &#x27;work_no_treatment_interfere&#x27;, &#x27;Continent&#x27;]</pre></div></div></div><div class=\"sk-serial\"><div class=\"sk-item\"><div class=\"sk-serial\"><div class=\"sk-item\"><div class=\"sk-estimator sk-toggleable\"><input class=\"sk-toggleable__control sk-hidden--visually\" id=\"sk-estimator-id-160\" type=\"checkbox\" ><label for=\"sk-estimator-id-160\" class=\"sk-toggleable__label sk-toggleable__label-arrow\">OneHotEncoder</label><div class=\"sk-toggleable__content\"><pre>OneHotEncoder()</pre></div></div></div></div></div></div></div></div></div></div><div class=\"sk-item\"><div class=\"sk-estimator sk-toggleable\"><input class=\"sk-toggleable__control sk-hidden--visually\" id=\"sk-estimator-id-161\" type=\"checkbox\" ><label for=\"sk-estimator-id-161\" class=\"sk-toggleable__label sk-toggleable__label-arrow\">KernelPCA</label><div class=\"sk-toggleable__content\"><pre>KernelPCA(degree=2, kernel=&#x27;poly&#x27;, n_components=44)</pre></div></div></div><div class=\"sk-item\"><div class=\"sk-estimator sk-toggleable\"><input class=\"sk-toggleable__control sk-hidden--visually\" id=\"sk-estimator-id-162\" type=\"checkbox\" ><label for=\"sk-estimator-id-162\" class=\"sk-toggleable__label sk-toggleable__label-arrow\">SVC</label><div class=\"sk-toggleable__content\"><pre>SVC(C=0.05, class_weight=&#x27;balanced&#x27;, degree=2, kernel=&#x27;linear&#x27;,\n",
       "    probability=True, random_state=42, verbose=True)</pre></div></div></div></div></div></div></div>"
      ],
      "text/plain": [
       "Pipeline(steps=[('columntransformer',\n",
       "                 ColumnTransformer(transformers=[('num',\n",
       "                                                  Pipeline(steps=[('standardscaler',\n",
       "                                                                   StandardScaler())]),\n",
       "                                                  ['Age']),\n",
       "                                                 ('cat',\n",
       "                                                  Pipeline(steps=[('onehotencoder',\n",
       "                                                                   OneHotEncoder())]),\n",
       "                                                  ['Gender', 'family_history',\n",
       "                                                   'no_employees',\n",
       "                                                   'remote_work', 'benefits',\n",
       "                                                   'care_options',\n",
       "                                                   'wellness_program',\n",
       "                                                   'anonymity', 'leave',\n",
       "                                                   'phys_health_consequence',\n",
       "                                                   'coworkers', 'supervisor',\n",
       "                                                   'phys_health_interview',\n",
       "                                                   'mental_vs_physical',\n",
       "                                                   'work_treatment_interfere',\n",
       "                                                   'work_no_treatment_interfere',\n",
       "                                                   'Continent'])])),\n",
       "                ('kernelpca',\n",
       "                 KernelPCA(degree=2, kernel='poly', n_components=44)),\n",
       "                ('svc',\n",
       "                 SVC(C=0.05, class_weight='balanced', degree=2, kernel='linear',\n",
       "                     probability=True, random_state=42, verbose=True))])"
      ]
     },
     "execution_count": 120,
     "metadata": {},
     "output_type": "execute_result"
    }
   ],
   "source": [
    "model_name_svc =SVC(C=0.05, class_weight='balanced', degree=2, kernel='linear', probability=True, random_state=42, verbose=True)\n",
    "\n",
    "# giving all values to pipeline\n",
    "pipe_svc = make_pipeline(preprocessor, KernelPCA(kernel = 'poly', degree = 2, n_components= 44), model_name_svc)\n",
    "pipe_svc.fit(pl_X_train, pl_y_train)"
   ]
  },
  {
   "cell_type": "code",
   "execution_count": 121,
   "id": "ca7bd134-0af8-4aab-b52e-c681f055fae3",
   "metadata": {},
   "outputs": [],
   "source": [
    "# make predictions on training set\n",
    "pl_y_pred_svc = pipe_svc.predict(pl_X_train)\n",
    "\n",
    "# make predictions on test set\n",
    "pl_y_pred_test_svc = pipe_svc.predict(pl_X_test)"
   ]
  },
  {
   "cell_type": "markdown",
   "id": "eb7ee83c-0eea-42a2-b45e-a5058c159643",
   "metadata": {},
   "source": [
    "## Random Forest with PCA Kernel"
   ]
  },
  {
   "cell_type": "code",
   "execution_count": 122,
   "id": "25786303-33a3-47bf-b5c5-0473c38be188",
   "metadata": {},
   "outputs": [
    {
     "data": {
      "text/html": [
       "<style>#sk-container-id-22 {color: black;background-color: white;}#sk-container-id-22 pre{padding: 0;}#sk-container-id-22 div.sk-toggleable {background-color: white;}#sk-container-id-22 label.sk-toggleable__label {cursor: pointer;display: block;width: 100%;margin-bottom: 0;padding: 0.3em;box-sizing: border-box;text-align: center;}#sk-container-id-22 label.sk-toggleable__label-arrow:before {content: \"▸\";float: left;margin-right: 0.25em;color: #696969;}#sk-container-id-22 label.sk-toggleable__label-arrow:hover:before {color: black;}#sk-container-id-22 div.sk-estimator:hover label.sk-toggleable__label-arrow:before {color: black;}#sk-container-id-22 div.sk-toggleable__content {max-height: 0;max-width: 0;overflow: hidden;text-align: left;background-color: #f0f8ff;}#sk-container-id-22 div.sk-toggleable__content pre {margin: 0.2em;color: black;border-radius: 0.25em;background-color: #f0f8ff;}#sk-container-id-22 input.sk-toggleable__control:checked~div.sk-toggleable__content {max-height: 200px;max-width: 100%;overflow: auto;}#sk-container-id-22 input.sk-toggleable__control:checked~label.sk-toggleable__label-arrow:before {content: \"▾\";}#sk-container-id-22 div.sk-estimator input.sk-toggleable__control:checked~label.sk-toggleable__label {background-color: #d4ebff;}#sk-container-id-22 div.sk-label input.sk-toggleable__control:checked~label.sk-toggleable__label {background-color: #d4ebff;}#sk-container-id-22 input.sk-hidden--visually {border: 0;clip: rect(1px 1px 1px 1px);clip: rect(1px, 1px, 1px, 1px);height: 1px;margin: -1px;overflow: hidden;padding: 0;position: absolute;width: 1px;}#sk-container-id-22 div.sk-estimator {font-family: monospace;background-color: #f0f8ff;border: 1px dotted black;border-radius: 0.25em;box-sizing: border-box;margin-bottom: 0.5em;}#sk-container-id-22 div.sk-estimator:hover {background-color: #d4ebff;}#sk-container-id-22 div.sk-parallel-item::after {content: \"\";width: 100%;border-bottom: 1px solid gray;flex-grow: 1;}#sk-container-id-22 div.sk-label:hover label.sk-toggleable__label {background-color: #d4ebff;}#sk-container-id-22 div.sk-serial::before {content: \"\";position: absolute;border-left: 1px solid gray;box-sizing: border-box;top: 0;bottom: 0;left: 50%;z-index: 0;}#sk-container-id-22 div.sk-serial {display: flex;flex-direction: column;align-items: center;background-color: white;padding-right: 0.2em;padding-left: 0.2em;position: relative;}#sk-container-id-22 div.sk-item {position: relative;z-index: 1;}#sk-container-id-22 div.sk-parallel {display: flex;align-items: stretch;justify-content: center;background-color: white;position: relative;}#sk-container-id-22 div.sk-item::before, #sk-container-id-22 div.sk-parallel-item::before {content: \"\";position: absolute;border-left: 1px solid gray;box-sizing: border-box;top: 0;bottom: 0;left: 50%;z-index: -1;}#sk-container-id-22 div.sk-parallel-item {display: flex;flex-direction: column;z-index: 1;position: relative;background-color: white;}#sk-container-id-22 div.sk-parallel-item:first-child::after {align-self: flex-end;width: 50%;}#sk-container-id-22 div.sk-parallel-item:last-child::after {align-self: flex-start;width: 50%;}#sk-container-id-22 div.sk-parallel-item:only-child::after {width: 0;}#sk-container-id-22 div.sk-dashed-wrapped {border: 1px dashed gray;margin: 0 0.4em 0.5em 0.4em;box-sizing: border-box;padding-bottom: 0.4em;background-color: white;}#sk-container-id-22 div.sk-label label {font-family: monospace;font-weight: bold;display: inline-block;line-height: 1.2em;}#sk-container-id-22 div.sk-label-container {text-align: center;}#sk-container-id-22 div.sk-container {/* jupyter's `normalize.less` sets `[hidden] { display: none; }` but bootstrap.min.css set `[hidden] { display: none !important; }` so we also need the `!important` here to be able to override the default hidden behavior on the sphinx rendered scikit-learn.org. See: https://github.com/scikit-learn/scikit-learn/issues/21755 */display: inline-block !important;position: relative;}#sk-container-id-22 div.sk-text-repr-fallback {display: none;}</style><div id=\"sk-container-id-22\" class=\"sk-top-container\"><div class=\"sk-text-repr-fallback\"><pre>Pipeline(steps=[(&#x27;columntransformer&#x27;,\n",
       "                 ColumnTransformer(transformers=[(&#x27;num&#x27;,\n",
       "                                                  Pipeline(steps=[(&#x27;standardscaler&#x27;,\n",
       "                                                                   StandardScaler())]),\n",
       "                                                  [&#x27;Age&#x27;]),\n",
       "                                                 (&#x27;cat&#x27;,\n",
       "                                                  Pipeline(steps=[(&#x27;onehotencoder&#x27;,\n",
       "                                                                   OneHotEncoder())]),\n",
       "                                                  [&#x27;Gender&#x27;, &#x27;family_history&#x27;,\n",
       "                                                   &#x27;no_employees&#x27;,\n",
       "                                                   &#x27;remote_work&#x27;, &#x27;benefits&#x27;,\n",
       "                                                   &#x27;care_options&#x27;,\n",
       "                                                   &#x27;wellness_program&#x27;,\n",
       "                                                   &#x27;anonymity&#x27;, &#x27;leave&#x27;,\n",
       "                                                   &#x27;phys_health_consequence&#x27;,\n",
       "                                                   &#x27;coworkers&#x27;, &#x27;supervisor&#x27;,\n",
       "                                                   &#x27;phys_health_interview&#x27;,\n",
       "                                                   &#x27;mental_vs_physical&#x27;,\n",
       "                                                   &#x27;work_treatment_interfere&#x27;,\n",
       "                                                   &#x27;work_no_treatment_interfere&#x27;,\n",
       "                                                   &#x27;Continent&#x27;])])),\n",
       "                (&#x27;kernelpca&#x27;,\n",
       "                 KernelPCA(degree=2, kernel=&#x27;poly&#x27;, n_components=20)),\n",
       "                (&#x27;randomforestclassifier&#x27;,\n",
       "                 RandomForestClassifier(max_depth=2, max_features=&#x27;log2&#x27;,\n",
       "                                        max_leaf_nodes=9, max_samples=0.25,\n",
       "                                        n_estimators=75, random_state=42))])</pre><b>In a Jupyter environment, please rerun this cell to show the HTML representation or trust the notebook. <br />On GitHub, the HTML representation is unable to render, please try loading this page with nbviewer.org.</b></div><div class=\"sk-container\" hidden><div class=\"sk-item sk-dashed-wrapped\"><div class=\"sk-label-container\"><div class=\"sk-label sk-toggleable\"><input class=\"sk-toggleable__control sk-hidden--visually\" id=\"sk-estimator-id-163\" type=\"checkbox\" ><label for=\"sk-estimator-id-163\" class=\"sk-toggleable__label sk-toggleable__label-arrow\">Pipeline</label><div class=\"sk-toggleable__content\"><pre>Pipeline(steps=[(&#x27;columntransformer&#x27;,\n",
       "                 ColumnTransformer(transformers=[(&#x27;num&#x27;,\n",
       "                                                  Pipeline(steps=[(&#x27;standardscaler&#x27;,\n",
       "                                                                   StandardScaler())]),\n",
       "                                                  [&#x27;Age&#x27;]),\n",
       "                                                 (&#x27;cat&#x27;,\n",
       "                                                  Pipeline(steps=[(&#x27;onehotencoder&#x27;,\n",
       "                                                                   OneHotEncoder())]),\n",
       "                                                  [&#x27;Gender&#x27;, &#x27;family_history&#x27;,\n",
       "                                                   &#x27;no_employees&#x27;,\n",
       "                                                   &#x27;remote_work&#x27;, &#x27;benefits&#x27;,\n",
       "                                                   &#x27;care_options&#x27;,\n",
       "                                                   &#x27;wellness_program&#x27;,\n",
       "                                                   &#x27;anonymity&#x27;, &#x27;leave&#x27;,\n",
       "                                                   &#x27;phys_health_consequence&#x27;,\n",
       "                                                   &#x27;coworkers&#x27;, &#x27;supervisor&#x27;,\n",
       "                                                   &#x27;phys_health_interview&#x27;,\n",
       "                                                   &#x27;mental_vs_physical&#x27;,\n",
       "                                                   &#x27;work_treatment_interfere&#x27;,\n",
       "                                                   &#x27;work_no_treatment_interfere&#x27;,\n",
       "                                                   &#x27;Continent&#x27;])])),\n",
       "                (&#x27;kernelpca&#x27;,\n",
       "                 KernelPCA(degree=2, kernel=&#x27;poly&#x27;, n_components=20)),\n",
       "                (&#x27;randomforestclassifier&#x27;,\n",
       "                 RandomForestClassifier(max_depth=2, max_features=&#x27;log2&#x27;,\n",
       "                                        max_leaf_nodes=9, max_samples=0.25,\n",
       "                                        n_estimators=75, random_state=42))])</pre></div></div></div><div class=\"sk-serial\"><div class=\"sk-item sk-dashed-wrapped\"><div class=\"sk-label-container\"><div class=\"sk-label sk-toggleable\"><input class=\"sk-toggleable__control sk-hidden--visually\" id=\"sk-estimator-id-164\" type=\"checkbox\" ><label for=\"sk-estimator-id-164\" class=\"sk-toggleable__label sk-toggleable__label-arrow\">columntransformer: ColumnTransformer</label><div class=\"sk-toggleable__content\"><pre>ColumnTransformer(transformers=[(&#x27;num&#x27;,\n",
       "                                 Pipeline(steps=[(&#x27;standardscaler&#x27;,\n",
       "                                                  StandardScaler())]),\n",
       "                                 [&#x27;Age&#x27;]),\n",
       "                                (&#x27;cat&#x27;,\n",
       "                                 Pipeline(steps=[(&#x27;onehotencoder&#x27;,\n",
       "                                                  OneHotEncoder())]),\n",
       "                                 [&#x27;Gender&#x27;, &#x27;family_history&#x27;, &#x27;no_employees&#x27;,\n",
       "                                  &#x27;remote_work&#x27;, &#x27;benefits&#x27;, &#x27;care_options&#x27;,\n",
       "                                  &#x27;wellness_program&#x27;, &#x27;anonymity&#x27;, &#x27;leave&#x27;,\n",
       "                                  &#x27;phys_health_consequence&#x27;, &#x27;coworkers&#x27;,\n",
       "                                  &#x27;supervisor&#x27;, &#x27;phys_health_interview&#x27;,\n",
       "                                  &#x27;mental_vs_physical&#x27;,\n",
       "                                  &#x27;work_treatment_interfere&#x27;,\n",
       "                                  &#x27;work_no_treatment_interfere&#x27;,\n",
       "                                  &#x27;Continent&#x27;])])</pre></div></div></div><div class=\"sk-parallel\"><div class=\"sk-parallel-item\"><div class=\"sk-item\"><div class=\"sk-label-container\"><div class=\"sk-label sk-toggleable\"><input class=\"sk-toggleable__control sk-hidden--visually\" id=\"sk-estimator-id-165\" type=\"checkbox\" ><label for=\"sk-estimator-id-165\" class=\"sk-toggleable__label sk-toggleable__label-arrow\">num</label><div class=\"sk-toggleable__content\"><pre>[&#x27;Age&#x27;]</pre></div></div></div><div class=\"sk-serial\"><div class=\"sk-item\"><div class=\"sk-serial\"><div class=\"sk-item\"><div class=\"sk-estimator sk-toggleable\"><input class=\"sk-toggleable__control sk-hidden--visually\" id=\"sk-estimator-id-166\" type=\"checkbox\" ><label for=\"sk-estimator-id-166\" class=\"sk-toggleable__label sk-toggleable__label-arrow\">StandardScaler</label><div class=\"sk-toggleable__content\"><pre>StandardScaler()</pre></div></div></div></div></div></div></div></div><div class=\"sk-parallel-item\"><div class=\"sk-item\"><div class=\"sk-label-container\"><div class=\"sk-label sk-toggleable\"><input class=\"sk-toggleable__control sk-hidden--visually\" id=\"sk-estimator-id-167\" type=\"checkbox\" ><label for=\"sk-estimator-id-167\" class=\"sk-toggleable__label sk-toggleable__label-arrow\">cat</label><div class=\"sk-toggleable__content\"><pre>[&#x27;Gender&#x27;, &#x27;family_history&#x27;, &#x27;no_employees&#x27;, &#x27;remote_work&#x27;, &#x27;benefits&#x27;, &#x27;care_options&#x27;, &#x27;wellness_program&#x27;, &#x27;anonymity&#x27;, &#x27;leave&#x27;, &#x27;phys_health_consequence&#x27;, &#x27;coworkers&#x27;, &#x27;supervisor&#x27;, &#x27;phys_health_interview&#x27;, &#x27;mental_vs_physical&#x27;, &#x27;work_treatment_interfere&#x27;, &#x27;work_no_treatment_interfere&#x27;, &#x27;Continent&#x27;]</pre></div></div></div><div class=\"sk-serial\"><div class=\"sk-item\"><div class=\"sk-serial\"><div class=\"sk-item\"><div class=\"sk-estimator sk-toggleable\"><input class=\"sk-toggleable__control sk-hidden--visually\" id=\"sk-estimator-id-168\" type=\"checkbox\" ><label for=\"sk-estimator-id-168\" class=\"sk-toggleable__label sk-toggleable__label-arrow\">OneHotEncoder</label><div class=\"sk-toggleable__content\"><pre>OneHotEncoder()</pre></div></div></div></div></div></div></div></div></div></div><div class=\"sk-item\"><div class=\"sk-estimator sk-toggleable\"><input class=\"sk-toggleable__control sk-hidden--visually\" id=\"sk-estimator-id-169\" type=\"checkbox\" ><label for=\"sk-estimator-id-169\" class=\"sk-toggleable__label sk-toggleable__label-arrow\">KernelPCA</label><div class=\"sk-toggleable__content\"><pre>KernelPCA(degree=2, kernel=&#x27;poly&#x27;, n_components=20)</pre></div></div></div><div class=\"sk-item\"><div class=\"sk-estimator sk-toggleable\"><input class=\"sk-toggleable__control sk-hidden--visually\" id=\"sk-estimator-id-170\" type=\"checkbox\" ><label for=\"sk-estimator-id-170\" class=\"sk-toggleable__label sk-toggleable__label-arrow\">RandomForestClassifier</label><div class=\"sk-toggleable__content\"><pre>RandomForestClassifier(max_depth=2, max_features=&#x27;log2&#x27;, max_leaf_nodes=9,\n",
       "                       max_samples=0.25, n_estimators=75, random_state=42)</pre></div></div></div></div></div></div></div>"
      ],
      "text/plain": [
       "Pipeline(steps=[('columntransformer',\n",
       "                 ColumnTransformer(transformers=[('num',\n",
       "                                                  Pipeline(steps=[('standardscaler',\n",
       "                                                                   StandardScaler())]),\n",
       "                                                  ['Age']),\n",
       "                                                 ('cat',\n",
       "                                                  Pipeline(steps=[('onehotencoder',\n",
       "                                                                   OneHotEncoder())]),\n",
       "                                                  ['Gender', 'family_history',\n",
       "                                                   'no_employees',\n",
       "                                                   'remote_work', 'benefits',\n",
       "                                                   'care_options',\n",
       "                                                   'wellness_program',\n",
       "                                                   'anonymity', 'leave',\n",
       "                                                   'phys_health_consequence',\n",
       "                                                   'coworkers', 'supervisor',\n",
       "                                                   'phys_health_interview',\n",
       "                                                   'mental_vs_physical',\n",
       "                                                   'work_treatment_interfere',\n",
       "                                                   'work_no_treatment_interfere',\n",
       "                                                   'Continent'])])),\n",
       "                ('kernelpca',\n",
       "                 KernelPCA(degree=2, kernel='poly', n_components=20)),\n",
       "                ('randomforestclassifier',\n",
       "                 RandomForestClassifier(max_depth=2, max_features='log2',\n",
       "                                        max_leaf_nodes=9, max_samples=0.25,\n",
       "                                        n_estimators=75, random_state=42))])"
      ]
     },
     "execution_count": 122,
     "metadata": {},
     "output_type": "execute_result"
    }
   ],
   "source": [
    "pipe_rf = make_pipeline(preprocessor,pca_kernel,model_name_rf)\n",
    "pipe_rf.fit(pl_X_train, pl_y_train)"
   ]
  },
  {
   "cell_type": "code",
   "execution_count": 123,
   "id": "4e6525fa-77c4-4fd1-95e6-d43bf537e204",
   "metadata": {},
   "outputs": [],
   "source": [
    "# make predictions on training set\n",
    "pl_y_pred_rf = pipe_rf.predict(pl_X_train)\n",
    "\n",
    "# make predictions on test set\n",
    "pl_y_pred_test_rf = pipe_rf.predict(pl_X_test)"
   ]
  },
  {
   "cell_type": "code",
   "execution_count": 124,
   "id": "a02f7efe-0a35-4cdf-a5db-93d350094f58",
   "metadata": {},
   "outputs": [],
   "source": [
    "d_rf= {'Recall TRAIN:' : metrics.recall_score(pl_y_train, pl_y_pred_rf), 'Recall TEST:' :metrics.recall_score(pl_y_test, pl_y_pred_test_rf),\n",
    "       'F1 score TRAIN': metrics.f1_score(pl_y_train, pl_y_pred_rf), 'F1 score TEST' : metrics.f1_score(pl_y_test, pl_y_pred_test_rf),\n",
    "      'Accuracy TRAIN' : accuracy_score(pl_y_train, pl_y_pred_rf), 'Accurasy TEST' : accuracy_score(pl_y_test, pl_y_pred_test_rf)}\n",
    "\n",
    "d_svc= {'Recall TRAIN:' : metrics.recall_score(pl_y_train, pl_y_pred_svc), 'Recall TEST:' :metrics.recall_score(pl_y_test, pl_y_pred_test_svc),\n",
    "       'F1 score TRAIN': metrics.f1_score(pl_y_train, pl_y_pred_svc), 'F1 score TEST' : metrics.f1_score(pl_y_test, pl_y_pred_test_svc),\n",
    "      'Accuracy TRAIN' : accuracy_score(pl_y_train, pl_y_pred_svc), 'Accurasy TEST' : accuracy_score(pl_y_test, pl_y_pred_test_svc)}"
   ]
  },
  {
   "cell_type": "code",
   "execution_count": 125,
   "id": "f09f1dd8-32b3-4ed6-aa07-692e9c7ddb3d",
   "metadata": {},
   "outputs": [
    {
     "data": {
      "text/html": [
       "<div>\n",
       "<style scoped>\n",
       "    .dataframe tbody tr th:only-of-type {\n",
       "        vertical-align: middle;\n",
       "    }\n",
       "\n",
       "    .dataframe tbody tr th {\n",
       "        vertical-align: top;\n",
       "    }\n",
       "\n",
       "    .dataframe thead th {\n",
       "        text-align: right;\n",
       "    }\n",
       "</style>\n",
       "<table border=\"1\" class=\"dataframe\">\n",
       "  <thead>\n",
       "    <tr style=\"text-align: right;\">\n",
       "      <th></th>\n",
       "      <th>Recall TRAIN:</th>\n",
       "      <th>Recall TEST:</th>\n",
       "      <th>F1 score TRAIN</th>\n",
       "      <th>F1 score TEST</th>\n",
       "      <th>Accuracy TRAIN</th>\n",
       "      <th>Accurasy TEST</th>\n",
       "    </tr>\n",
       "  </thead>\n",
       "  <tbody>\n",
       "    <tr>\n",
       "      <th>Random Forest</th>\n",
       "      <td>0.882100</td>\n",
       "      <td>0.890365</td>\n",
       "      <td>0.826613</td>\n",
       "      <td>0.833593</td>\n",
       "      <td>0.798971</td>\n",
       "      <td>0.80000</td>\n",
       "    </tr>\n",
       "    <tr>\n",
       "      <th>SVC</th>\n",
       "      <td>0.913941</td>\n",
       "      <td>0.946844</td>\n",
       "      <td>0.852327</td>\n",
       "      <td>0.872894</td>\n",
       "      <td>0.827957</td>\n",
       "      <td>0.84486</td>\n",
       "    </tr>\n",
       "  </tbody>\n",
       "</table>\n",
       "</div>"
      ],
      "text/plain": [
       "               Recall TRAIN:  Recall TEST:  F1 score TRAIN  F1 score TEST  \\\n",
       "Random Forest       0.882100      0.890365        0.826613       0.833593   \n",
       "SVC                 0.913941      0.946844        0.852327       0.872894   \n",
       "\n",
       "               Accuracy TRAIN  Accurasy TEST  \n",
       "Random Forest        0.798971        0.80000  \n",
       "SVC                  0.827957        0.84486  "
      ]
     },
     "execution_count": 125,
     "metadata": {},
     "output_type": "execute_result"
    }
   ],
   "source": [
    "pd.concat([pd.DataFrame(d_rf, columns=d_rf.keys(), index=['Random Forest']), pd.DataFrame(d_svc, columns=d_svc.keys(), index=['SVC'])])"
   ]
  },
  {
   "cell_type": "markdown",
   "id": "0679642b-3eb7-4015-9082-f803f2c0bf0f",
   "metadata": {},
   "source": [
    "## Partial fit\n",
    "\n",
    "skmultiflow\n"
   ]
  },
  {
   "cell_type": "code",
   "execution_count": 126,
   "id": "27a94f25-acbe-401a-ab7b-2d43b34e47d8",
   "metadata": {},
   "outputs": [
    {
     "name": "stdout",
     "output_type": "stream",
     "text": [
      "Requirement already satisfied: Cython in c:\\users\\a476858\\anaconda3\\lib\\site-packages (0.29.35)Note: you may need to restart the kernel to use updated packages.\n",
      "\n",
      "Collecting Cython\n",
      "  Downloading Cython-3.0.5-cp39-cp39-win_amd64.whl (2.8 MB)\n",
      "                                              0.0/2.8 MB ? eta -:--:--\n",
      "     --------                                 0.6/2.8 MB 19.8 MB/s eta 0:00:01\n",
      "     --------------------------               1.8/2.8 MB 23.1 MB/s eta 0:00:01\n",
      "     ---------------------------------------  2.8/2.8 MB 25.4 MB/s eta 0:00:01\n",
      "     ---------------------------------------- 2.8/2.8 MB 19.8 MB/s eta 0:00:00\n",
      "Installing collected packages: Cython\n",
      "  Attempting uninstall: Cython\n",
      "    Found existing installation: Cython 0.29.35\n",
      "    Uninstalling Cython-0.29.35:\n",
      "      Successfully uninstalled Cython-0.29.35\n",
      "Successfully installed Cython-3.0.5\n"
     ]
    }
   ],
   "source": [
    "pip install -U Cython"
   ]
  },
  {
   "cell_type": "code",
   "execution_count": 135,
   "id": "7d32512a-bec6-4d28-93b9-cc6d19d6e11b",
   "metadata": {},
   "outputs": [],
   "source": [
    "from skmultiflow.core import Pipeline\n",
    "import random"
   ]
  },
  {
   "cell_type": "code",
   "execution_count": 131,
   "id": "bb5a7332-f838-4619-8388-9385f9fd900a",
   "metadata": {},
   "outputs": [],
   "source": [
    "X, y = make_classification(n_features= 5, flip_y= 0.05, random_state= 42)"
   ]
  },
  {
   "cell_type": "code",
   "execution_count": 161,
   "id": "25fbbe82-5678-48d3-a0f4-861e148dac20",
   "metadata": {},
   "outputs": [
    {
     "data": {
      "text/plain": [
       "[48, 10, 79, 88, 32, 13, 30, 78, 53, 60]"
      ]
     },
     "execution_count": 161,
     "metadata": {},
     "output_type": "execute_result"
    }
   ],
   "source": [
    "# random.sample(range(18, 71),1) for i in range(100)\n",
    "[random.randint(1, 99) for _ in range(10)]"
   ]
  },
  {
   "cell_type": "code",
   "execution_count": 166,
   "id": "056928be-7f07-4585-9131-86674d0ece8a",
   "metadata": {},
   "outputs": [],
   "source": [
    "dict = {'Age' : [random.randint(18, 71) for i in range(100)], \n",
    "        'cat1' :  [random.randint(1, 5) for i in range(100)], \n",
    "        'cat2' :  [random.randint(1, 3) for i in range(100)]}\n",
    "X = pd.DataFrame(dict, columns=dict.keys())\n",
    "y = [random.randint(0, 1) for i in range(100)]"
   ]
  },
  {
   "cell_type": "code",
   "execution_count": 199,
   "id": "c8a0dddf-3866-40e7-8eae-05d0e325a0b8",
   "metadata": {},
   "outputs": [],
   "source": [
    "X_new = X.copy()"
   ]
  },
  {
   "cell_type": "code",
   "execution_count": 228,
   "id": "8fe1c346-63e7-4450-96c3-054fec9f4db4",
   "metadata": {},
   "outputs": [],
   "source": [
    "scaler = StandardScaler()\n",
    "encoder = OneHotEncoder()\n",
    "# putting numeric columns to scaler and categorical to encoder\n",
    "num_transformer_test = make_pipeline(scaler)\n",
    "cat_transformer_test = make_pipeline(encoder)\n",
    "# getting together our scaler and encoder with preprocessor\n",
    "preprocessor_test = ColumnTransformer(transformers=[('num1', num_transformer_test, ['Age']), ('cat1', cat_transformer_test, ['cat1', 'cat2'])])\n",
    "# preprocessor_test = ColumnTransformer(transformers=[('num1', num_transformer_test, ['Age'])])\n"
   ]
  },
  {
   "cell_type": "code",
   "execution_count": 229,
   "id": "ec5bddc7-36e9-4b6d-8e85-5da512772698",
   "metadata": {},
   "outputs": [],
   "source": [
    "est = SGDClassifier()\n",
    "X_train, X_test, y_train, y_test = train_test_split(X,y)\n",
    "pipe_test = make_pipeline(preprocessor_test, est)\n",
    "pipe_test2 = Pipeline([('preproc',preprocessor_test), ('est',est)])\n",
    "pipe_test3 = make_pipeline("
   ]
  },
  {
   "cell_type": "code",
   "execution_count": 230,
   "id": "6577498e-f6cf-446b-b766-fe1aca5f59ba",
   "metadata": {},
   "outputs": [
    {
     "data": {
      "text/html": [
       "<style>#sk-container-id-30 {color: black;background-color: white;}#sk-container-id-30 pre{padding: 0;}#sk-container-id-30 div.sk-toggleable {background-color: white;}#sk-container-id-30 label.sk-toggleable__label {cursor: pointer;display: block;width: 100%;margin-bottom: 0;padding: 0.3em;box-sizing: border-box;text-align: center;}#sk-container-id-30 label.sk-toggleable__label-arrow:before {content: \"▸\";float: left;margin-right: 0.25em;color: #696969;}#sk-container-id-30 label.sk-toggleable__label-arrow:hover:before {color: black;}#sk-container-id-30 div.sk-estimator:hover label.sk-toggleable__label-arrow:before {color: black;}#sk-container-id-30 div.sk-toggleable__content {max-height: 0;max-width: 0;overflow: hidden;text-align: left;background-color: #f0f8ff;}#sk-container-id-30 div.sk-toggleable__content pre {margin: 0.2em;color: black;border-radius: 0.25em;background-color: #f0f8ff;}#sk-container-id-30 input.sk-toggleable__control:checked~div.sk-toggleable__content {max-height: 200px;max-width: 100%;overflow: auto;}#sk-container-id-30 input.sk-toggleable__control:checked~label.sk-toggleable__label-arrow:before {content: \"▾\";}#sk-container-id-30 div.sk-estimator input.sk-toggleable__control:checked~label.sk-toggleable__label {background-color: #d4ebff;}#sk-container-id-30 div.sk-label input.sk-toggleable__control:checked~label.sk-toggleable__label {background-color: #d4ebff;}#sk-container-id-30 input.sk-hidden--visually {border: 0;clip: rect(1px 1px 1px 1px);clip: rect(1px, 1px, 1px, 1px);height: 1px;margin: -1px;overflow: hidden;padding: 0;position: absolute;width: 1px;}#sk-container-id-30 div.sk-estimator {font-family: monospace;background-color: #f0f8ff;border: 1px dotted black;border-radius: 0.25em;box-sizing: border-box;margin-bottom: 0.5em;}#sk-container-id-30 div.sk-estimator:hover {background-color: #d4ebff;}#sk-container-id-30 div.sk-parallel-item::after {content: \"\";width: 100%;border-bottom: 1px solid gray;flex-grow: 1;}#sk-container-id-30 div.sk-label:hover label.sk-toggleable__label {background-color: #d4ebff;}#sk-container-id-30 div.sk-serial::before {content: \"\";position: absolute;border-left: 1px solid gray;box-sizing: border-box;top: 0;bottom: 0;left: 50%;z-index: 0;}#sk-container-id-30 div.sk-serial {display: flex;flex-direction: column;align-items: center;background-color: white;padding-right: 0.2em;padding-left: 0.2em;position: relative;}#sk-container-id-30 div.sk-item {position: relative;z-index: 1;}#sk-container-id-30 div.sk-parallel {display: flex;align-items: stretch;justify-content: center;background-color: white;position: relative;}#sk-container-id-30 div.sk-item::before, #sk-container-id-30 div.sk-parallel-item::before {content: \"\";position: absolute;border-left: 1px solid gray;box-sizing: border-box;top: 0;bottom: 0;left: 50%;z-index: -1;}#sk-container-id-30 div.sk-parallel-item {display: flex;flex-direction: column;z-index: 1;position: relative;background-color: white;}#sk-container-id-30 div.sk-parallel-item:first-child::after {align-self: flex-end;width: 50%;}#sk-container-id-30 div.sk-parallel-item:last-child::after {align-self: flex-start;width: 50%;}#sk-container-id-30 div.sk-parallel-item:only-child::after {width: 0;}#sk-container-id-30 div.sk-dashed-wrapped {border: 1px dashed gray;margin: 0 0.4em 0.5em 0.4em;box-sizing: border-box;padding-bottom: 0.4em;background-color: white;}#sk-container-id-30 div.sk-label label {font-family: monospace;font-weight: bold;display: inline-block;line-height: 1.2em;}#sk-container-id-30 div.sk-label-container {text-align: center;}#sk-container-id-30 div.sk-container {/* jupyter's `normalize.less` sets `[hidden] { display: none; }` but bootstrap.min.css set `[hidden] { display: none !important; }` so we also need the `!important` here to be able to override the default hidden behavior on the sphinx rendered scikit-learn.org. See: https://github.com/scikit-learn/scikit-learn/issues/21755 */display: inline-block !important;position: relative;}#sk-container-id-30 div.sk-text-repr-fallback {display: none;}</style><div id=\"sk-container-id-30\" class=\"sk-top-container\"><div class=\"sk-text-repr-fallback\"><pre>Pipeline(steps=[(&#x27;preproc&#x27;,\n",
       "                 ColumnTransformer(transformers=[(&#x27;num1&#x27;,\n",
       "                                                  Pipeline(steps=[(&#x27;standardscaler&#x27;,\n",
       "                                                                   StandardScaler())]),\n",
       "                                                  [&#x27;Age&#x27;]),\n",
       "                                                 (&#x27;cat1&#x27;,\n",
       "                                                  Pipeline(steps=[(&#x27;onehotencoder&#x27;,\n",
       "                                                                   OneHotEncoder())]),\n",
       "                                                  [&#x27;cat1&#x27;, &#x27;cat2&#x27;])])),\n",
       "                (&#x27;est&#x27;, SGDClassifier())])</pre><b>In a Jupyter environment, please rerun this cell to show the HTML representation or trust the notebook. <br />On GitHub, the HTML representation is unable to render, please try loading this page with nbviewer.org.</b></div><div class=\"sk-container\" hidden><div class=\"sk-item sk-dashed-wrapped\"><div class=\"sk-label-container\"><div class=\"sk-label sk-toggleable\"><input class=\"sk-toggleable__control sk-hidden--visually\" id=\"sk-estimator-id-204\" type=\"checkbox\" ><label for=\"sk-estimator-id-204\" class=\"sk-toggleable__label sk-toggleable__label-arrow\">Pipeline</label><div class=\"sk-toggleable__content\"><pre>Pipeline(steps=[(&#x27;preproc&#x27;,\n",
       "                 ColumnTransformer(transformers=[(&#x27;num1&#x27;,\n",
       "                                                  Pipeline(steps=[(&#x27;standardscaler&#x27;,\n",
       "                                                                   StandardScaler())]),\n",
       "                                                  [&#x27;Age&#x27;]),\n",
       "                                                 (&#x27;cat1&#x27;,\n",
       "                                                  Pipeline(steps=[(&#x27;onehotencoder&#x27;,\n",
       "                                                                   OneHotEncoder())]),\n",
       "                                                  [&#x27;cat1&#x27;, &#x27;cat2&#x27;])])),\n",
       "                (&#x27;est&#x27;, SGDClassifier())])</pre></div></div></div><div class=\"sk-serial\"><div class=\"sk-item sk-dashed-wrapped\"><div class=\"sk-label-container\"><div class=\"sk-label sk-toggleable\"><input class=\"sk-toggleable__control sk-hidden--visually\" id=\"sk-estimator-id-205\" type=\"checkbox\" ><label for=\"sk-estimator-id-205\" class=\"sk-toggleable__label sk-toggleable__label-arrow\">preproc: ColumnTransformer</label><div class=\"sk-toggleable__content\"><pre>ColumnTransformer(transformers=[(&#x27;num1&#x27;,\n",
       "                                 Pipeline(steps=[(&#x27;standardscaler&#x27;,\n",
       "                                                  StandardScaler())]),\n",
       "                                 [&#x27;Age&#x27;]),\n",
       "                                (&#x27;cat1&#x27;,\n",
       "                                 Pipeline(steps=[(&#x27;onehotencoder&#x27;,\n",
       "                                                  OneHotEncoder())]),\n",
       "                                 [&#x27;cat1&#x27;, &#x27;cat2&#x27;])])</pre></div></div></div><div class=\"sk-parallel\"><div class=\"sk-parallel-item\"><div class=\"sk-item\"><div class=\"sk-label-container\"><div class=\"sk-label sk-toggleable\"><input class=\"sk-toggleable__control sk-hidden--visually\" id=\"sk-estimator-id-206\" type=\"checkbox\" ><label for=\"sk-estimator-id-206\" class=\"sk-toggleable__label sk-toggleable__label-arrow\">num1</label><div class=\"sk-toggleable__content\"><pre>[&#x27;Age&#x27;]</pre></div></div></div><div class=\"sk-serial\"><div class=\"sk-item\"><div class=\"sk-serial\"><div class=\"sk-item\"><div class=\"sk-estimator sk-toggleable\"><input class=\"sk-toggleable__control sk-hidden--visually\" id=\"sk-estimator-id-207\" type=\"checkbox\" ><label for=\"sk-estimator-id-207\" class=\"sk-toggleable__label sk-toggleable__label-arrow\">StandardScaler</label><div class=\"sk-toggleable__content\"><pre>StandardScaler()</pre></div></div></div></div></div></div></div></div><div class=\"sk-parallel-item\"><div class=\"sk-item\"><div class=\"sk-label-container\"><div class=\"sk-label sk-toggleable\"><input class=\"sk-toggleable__control sk-hidden--visually\" id=\"sk-estimator-id-208\" type=\"checkbox\" ><label for=\"sk-estimator-id-208\" class=\"sk-toggleable__label sk-toggleable__label-arrow\">cat1</label><div class=\"sk-toggleable__content\"><pre>[&#x27;cat1&#x27;, &#x27;cat2&#x27;]</pre></div></div></div><div class=\"sk-serial\"><div class=\"sk-item\"><div class=\"sk-serial\"><div class=\"sk-item\"><div class=\"sk-estimator sk-toggleable\"><input class=\"sk-toggleable__control sk-hidden--visually\" id=\"sk-estimator-id-209\" type=\"checkbox\" ><label for=\"sk-estimator-id-209\" class=\"sk-toggleable__label sk-toggleable__label-arrow\">OneHotEncoder</label><div class=\"sk-toggleable__content\"><pre>OneHotEncoder()</pre></div></div></div></div></div></div></div></div></div></div><div class=\"sk-item\"><div class=\"sk-estimator sk-toggleable\"><input class=\"sk-toggleable__control sk-hidden--visually\" id=\"sk-estimator-id-210\" type=\"checkbox\" ><label for=\"sk-estimator-id-210\" class=\"sk-toggleable__label sk-toggleable__label-arrow\">SGDClassifier</label><div class=\"sk-toggleable__content\"><pre>SGDClassifier()</pre></div></div></div></div></div></div></div>"
      ],
      "text/plain": [
       "Pipeline(steps=[('preproc',\n",
       "                 ColumnTransformer(transformers=[('num1',\n",
       "                                                  Pipeline(steps=[('standardscaler',\n",
       "                                                                   StandardScaler())]),\n",
       "                                                  ['Age']),\n",
       "                                                 ('cat1',\n",
       "                                                  Pipeline(steps=[('onehotencoder',\n",
       "                                                                   OneHotEncoder())]),\n",
       "                                                  ['cat1', 'cat2'])])),\n",
       "                ('est', SGDClassifier())])"
      ]
     },
     "execution_count": 230,
     "metadata": {},
     "output_type": "execute_result"
    }
   ],
   "source": [
    "pipe_test2.fit(X_train, y_train)"
   ]
  },
  {
   "cell_type": "code",
   "execution_count": 231,
   "id": "2395da26-d4c0-4968-b497-607027ffe92a",
   "metadata": {},
   "outputs": [
    {
     "data": {
      "text/plain": [
       "0.68"
      ]
     },
     "execution_count": 231,
     "metadata": {},
     "output_type": "execute_result"
    }
   ],
   "source": [
    "y_pred = pipe_test.predict(X_test)\n",
    "accuracy_score(y_test,y_pred)"
   ]
  },
  {
   "cell_type": "code",
   "execution_count": 232,
   "id": "a0406467-7993-4ee2-8480-273e8cd7c667",
   "metadata": {},
   "outputs": [],
   "source": [
    "def partial_pipe_fit(pipeline_obj, x, y):\n",
    "    X = pipeline_obj.named_steps['preproc'].fit_transform(x)\n",
    "    Y = y\n",
    "    pipeline_obj.named_steps['est'].partial_fit(X,Y)"
   ]
  },
  {
   "cell_type": "code",
   "execution_count": 247,
   "id": "9218f21f-dea6-42d0-8104-5d3ce3b75713",
   "metadata": {},
   "outputs": [],
   "source": [
    "partial_pipe_fit(pipe_test2,X2,y)"
   ]
  },
  {
   "cell_type": "code",
   "execution_count": 248,
   "id": "2ae65b11-10e4-4fe8-a34f-00ae9facfbde",
   "metadata": {},
   "outputs": [
    {
     "data": {
      "text/plain": [
       "array([[-1.44373513e+01, -5.13083633e+00,  5.13083633e+00,\n",
       "         5.13083633e+00,  1.60095413e-14, -8.42607439e-16,\n",
       "         1.53925090e+01, -1.02616727e+01,  1.68521488e-14]])"
      ]
     },
     "execution_count": 248,
     "metadata": {},
     "output_type": "execute_result"
    }
   ],
   "source": [
    "pipe_test2.named_steps['est'].coef_"
   ]
  },
  {
   "cell_type": "code",
   "execution_count": 242,
   "id": "5780ffee-ae8a-4a85-809a-4fa52f1eae3b",
   "metadata": {},
   "outputs": [],
   "source": [
    "dict = {'Age' : [random.randint(18, 71) for i in range(100)], \n",
    "        'cat1' :  [random.randint(1, 5) for i in range(100)], \n",
    "        'cat2' :  [random.randint(1, 3) for i in range(100)]}\n",
    "X2 = pd.DataFrame(dict, columns=dict.keys())"
   ]
  },
  {
   "cell_type": "code",
   "execution_count": 250,
   "id": "bc8a0a02-f2b3-4f7d-b91c-02e9b679817b",
   "metadata": {},
   "outputs": [
    {
     "name": "stdout",
     "output_type": "stream",
     "text": [
      "Prequential Evaluation\n",
      "Evaluating 1 target(s).\n",
      "Pre-training on 1000 sample(s).\n",
      "Evaluating...\n",
      " #------------------- [5%] [344.66s]\n",
      "Processed samples: 43192\n",
      "Mean performance:\n",
      "M0 - Accuracy     : 0.8735\n",
      "M0 - Kappa        : 0.8058\n"
     ]
    },
    {
     "data": {
      "text/plain": [
       "[Pipeline(steps=[('transform',\n",
       "                  OneHotToCategorical(categorical_list=[[10, 11, 12, 13],\n",
       "                                                        [14, 15, 16, 17, 18, 19,\n",
       "                                                         20, 21, 22, 23, 24, 25,\n",
       "                                                         26, 27, 28, 29, 30, 31,\n",
       "                                                         32, 33, 34, 35, 36, 37,\n",
       "                                                         38, 39, 40, 41, 42, 43, ...]])),\n",
       "                 ('passive_aggressive',\n",
       "                  KNNADWINClassifier(leaf_size=40, max_window_size=2000,\n",
       "                                     metric='euclidean', n_neighbors=8))])]"
      ]
     },
     "execution_count": 250,
     "metadata": {},
     "output_type": "execute_result"
    }
   ],
   "source": [
    "# Imports\n",
    "from skmultiflow.lazy import KNNADWINClassifier\n",
    "from skmultiflow.core import Pipeline\n",
    "from skmultiflow.data import FileStream\n",
    "from skmultiflow.evaluation import EvaluatePrequential\n",
    "from skmultiflow.transform import OneHotToCategorical\n",
    "# Setting up the stream\n",
    "stream = FileStream(\"https://raw.githubusercontent.com/scikit-multiflow/\"\n",
    "                    \"streaming-datasets/master/covtype.csv\")\n",
    "transform = OneHotToCategorical([[10, 11, 12, 13],\n",
    "[14, 15, 16, 17, 18, 19, 20, 21, 22, 23, 24, 25, 26, 27, 28, 29, 30, 31, 32, 33, 34, 35,\n",
    "36, 37, 38, 39, 40, 41, 42, 43, 44, 45, 46, 47, 48, 49, 50, 51, 52, 53]])\n",
    "# Setting up the classifier\n",
    "classifier = KNNADWINClassifier(n_neighbors=8, max_window_size=2000, leaf_size=40)\n",
    "# Setup the pipeline\n",
    "pipe = Pipeline([('transform', transform), ('passive_aggressive', classifier)])\n",
    "# Setup the evaluator\n",
    "evaluator = EvaluatePrequential(show_plot=False, pretrain_size=1000, max_samples=500000)\n",
    "# Evaluate\n",
    "evaluator.evaluate(stream=stream, model=pipe)"
   ]
  }
 ],
 "metadata": {
  "kernelspec": {
   "display_name": "Python 3 (ipykernel)",
   "language": "python",
   "name": "python3"
  },
  "language_info": {
   "codemirror_mode": {
    "name": "ipython",
    "version": 3
   },
   "file_extension": ".py",
   "mimetype": "text/x-python",
   "name": "python",
   "nbconvert_exporter": "python",
   "pygments_lexer": "ipython3",
   "version": "3.9.13"
  }
 },
 "nbformat": 4,
 "nbformat_minor": 5
}
