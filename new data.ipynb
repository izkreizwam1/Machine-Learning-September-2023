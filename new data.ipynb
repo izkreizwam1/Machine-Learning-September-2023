{
 "cells": [
  {
   "cell_type": "code",
   "execution_count": 2,
   "id": "d0a4cd83-8341-4871-a8b2-f29a4230b389",
   "metadata": {},
   "outputs": [],
   "source": [
    "import pandas as pd\n",
    "import numpy as np\n",
    "import matplotlib.pyplot as plt\n",
    "import seaborn as sns\n",
    "import sklearn as sk\n",
    "from sklearn.model_selection import train_test_split, cross_validate, GridSearchCV\n",
    "from sklearn import metrics\n",
    "from sklearn.metrics import accuracy_score\n",
    "from sklearn.naive_bayes import MultinomialNB, GaussianNB\n",
    "from sklearn.linear_model import LogisticRegression, Lasso\n",
    "from sklearn.neighbors import KNeighborsClassifier\n",
    "from sklearn.svm import SVC\n",
    "from sklearn.preprocessing import StandardScaler, OrdinalEncoder, OneHotEncoder, MinMaxScaler\n",
    "from sklearn.ensemble import RandomForestClassifier\n",
    "from sklearn.feature_selection import SelectFromModel\n",
    "from sklearn.decomposition import PCA\n",
    "from sklearn.base import clone\n",
    "from sklearn.pipeline import Pipeline, make_pipeline\n",
    "from sklearn.compose import ColumnTransformer\n",
    "from sklearn.datasets import load_digits, make_classification\n",
    "from itertools import combinations\n",
    "import ast"
   ]
  },
  {
   "cell_type": "markdown",
   "id": "f458cb41-3c86-4868-b9a4-ec834245cbfe",
   "metadata": {},
   "source": [
    "## Data from 2017"
   ]
  },
  {
   "cell_type": "code",
   "execution_count": 300,
   "id": "07bfbc03-b406-45c6-9aad-152c16a0c824",
   "metadata": {},
   "outputs": [],
   "source": [
    "mental2017 = pd.read_csv(\"mental_health/survey_2017.csv\")\n"
   ]
  },
  {
   "cell_type": "code",
   "execution_count": 301,
   "id": "d009c1dd-b234-402b-8570-e56ad12aba2c",
   "metadata": {},
   "outputs": [
    {
     "data": {
      "text/plain": [
       "(756, 123)"
      ]
     },
     "execution_count": 301,
     "metadata": {},
     "output_type": "execute_result"
    }
   ],
   "source": [
    "mental2017.shape"
   ]
  },
  {
   "cell_type": "code",
   "execution_count": 302,
   "id": "f1f5d8a1-7cef-474b-aaaf-2c4c0eb75189",
   "metadata": {},
   "outputs": [
    {
     "name": "stdout",
     "output_type": "stream",
     "text": [
      "123\n"
     ]
    },
    {
     "data": {
      "text/plain": [
       "(756, 123)"
      ]
     },
     "execution_count": 302,
     "metadata": {},
     "output_type": "execute_result"
    }
   ],
   "source": [
    "print(len(mental2017.columns))\n",
    "mental2017.shape"
   ]
  },
  {
   "cell_type": "code",
   "execution_count": 303,
   "id": "62f96312-e4cb-44b7-be3e-a1b03fe07797",
   "metadata": {},
   "outputs": [],
   "source": [
    "import csv\n",
    "csv_file = '2017columns.csv'\n",
    "my_list = mental2017.columns.to_list()\n",
    "df = pd.DataFrame(my_list, columns=['Column_Name'])\n",
    "\n",
    "# Export the DataFrame to a CSV file with the custom separator (e.g., semicolon)\n",
    "df.to_csv('my_list.csv', sep=';', index=False)\n"
   ]
  },
  {
   "cell_type": "code",
   "execution_count": 304,
   "id": "bf3dc155-6115-4f01-9aa1-41c04dbcf3ce",
   "metadata": {},
   "outputs": [],
   "source": [
    "column_names_2017 = ['Age', 'Gender', 'Country', 'family_history', 'treatment', 'no_employees', 'benefits', 'care_options', 'wellness_program',\n",
    " 'anonymity', 'leave', 'phys_health_consequence', 'coworkers', 'supervisor', 'phys_health_interview', 'work_treatment_interfere', 'work_no_treatment_interfere']"
   ]
  },
  {
   "cell_type": "code",
   "execution_count": 305,
   "id": "bc9d2713-e618-4376-bb0b-b3bf47ed2fa5",
   "metadata": {},
   "outputs": [],
   "source": [
    "dict_2017 = {'What is your age?': 'Age',\n",
    " 'What is your gender?': 'Gender',\n",
    " 'Do you have a family history of mental illness?': 'family_history',\n",
    " 'How many employees does your company or organization have?': 'no_employees',\n",
    " 'Does your employer provide mental health benefits\\xa0as part of healthcare coverage?': 'benefits',\n",
    " 'Do you know the options for mental health care available under your employer-provided health coverage?': 'care_options',\n",
    " 'Has your employer ever formally discussed mental health (for example, as part of a wellness campaign or other official communication)?': 'wellness_program',\n",
    " 'Is your anonymity protected if you choose to take advantage of mental health or substance abuse treatment resources provided by your employer?': 'anonymity',\n",
    " 'If a mental health issue prompted you to request a medical leave from work, how easy or difficult would it be to ask for that leave?': 'leave',\n",
    " 'Would you feel comfortable discussing a mental health issue with your coworkers?': 'coworkers',\n",
    " 'Would you have been willing to discuss your mental health with your direct supervisor(s)?': 'supervisor',\n",
    " 'Would you be willing to bring up a physical health issue with a potential employer in an interview?': 'phys_health_interview',\n",
    " 'If you have a mental health disorder, how often do you feel that it interferes with your work <strong>when being treated effectively?</strong>': 'work_treatment_interfere',\n",
    " 'If you have a mental health disorder, how often do you feel that it interferes with your work <strong>when <em>NOT</em> being treated effectively (i.e., when you are experiencing symptoms)?</strong>': 'work_no_treatment_interfere',\n",
    " 'What country do you <strong>live</strong> in?': 'Continent',\n",
    " 'Have you ever sought treatment for a mental health disorder from a mental health professional?': 'treatment'}\n"
   ]
  },
  {
   "cell_type": "code",
   "execution_count": 306,
   "id": "0c78f36b-f4c5-4406-ba24-965b0282a4e3",
   "metadata": {},
   "outputs": [
    {
     "data": {
      "text/plain": [
       "{'What is your age?': 'Age',\n",
       " 'What is your gender?': 'Gender',\n",
       " 'Do you have a family history of mental illness?': 'family_history',\n",
       " 'How many employees does your company or organization have?': 'no_employees',\n",
       " 'Does your employer provide mental health benefits\\xa0as part of healthcare coverage?': 'benefits',\n",
       " 'Do you know the options for mental health care available under your employer-provided health coverage?': 'care_options',\n",
       " 'Has your employer ever formally discussed mental health (for example, as part of a wellness campaign or other official communication)?': 'wellness_program',\n",
       " 'Is your anonymity protected if you choose to take advantage of mental health or substance abuse treatment resources provided by your employer?': 'anonymity',\n",
       " 'If a mental health issue prompted you to request a medical leave from work, how easy or difficult would it be to ask for that leave?': 'leave',\n",
       " 'Would you feel comfortable discussing a mental health issue with your coworkers?': 'coworkers',\n",
       " 'Would you have been willing to discuss your mental health with your direct supervisor(s)?': 'supervisor',\n",
       " 'Would you be willing to bring up a physical health issue with a potential employer in an interview?': 'phys_health_interview',\n",
       " 'If you have a mental health disorder, how often do you feel that it interferes with your work <strong>when being treated effectively?</strong>': 'work_treatment_interfere',\n",
       " 'If you have a mental health disorder, how often do you feel that it interferes with your work <strong>when <em>NOT</em> being treated effectively (i.e., when you are experiencing symptoms)?</strong>': 'work_no_treatment_interfere',\n",
       " 'What country do you <strong>live</strong> in?': 'Continent',\n",
       " 'Have you ever sought treatment for a mental health disorder from a mental health professional?': 'treatment'}"
      ]
     },
     "execution_count": 306,
     "metadata": {},
     "output_type": "execute_result"
    }
   ],
   "source": [
    "dict_2017"
   ]
  },
  {
   "cell_type": "code",
   "execution_count": 307,
   "id": "87a5f3a2-a2b0-4a52-95cb-ccab39757550",
   "metadata": {},
   "outputs": [],
   "source": [
    "mental2017 = mental2017[dict_2017.keys()].rename(columns = dict_2017)\n",
    "# test.rename(columns = dict)"
   ]
  },
  {
   "cell_type": "code",
   "execution_count": 308,
   "id": "1f700a76-e70b-4111-97dd-d47818f49e22",
   "metadata": {},
   "outputs": [
    {
     "data": {
      "text/plain": [
       "Age                              2\n",
       "Gender                          14\n",
       "family_history                   0\n",
       "no_employees                   113\n",
       "benefits                       113\n",
       "care_options                   180\n",
       "wellness_program               113\n",
       "anonymity                      113\n",
       "leave                          113\n",
       "coworkers                      113\n",
       "supervisor                      89\n",
       "phys_health_interview            0\n",
       "work_treatment_interfere         0\n",
       "work_no_treatment_interfere      0\n",
       "Continent                        2\n",
       "treatment                        0\n",
       "dtype: int64"
      ]
     },
     "execution_count": 308,
     "metadata": {},
     "output_type": "execute_result"
    }
   ],
   "source": [
    "mental2017.isna().sum()"
   ]
  },
  {
   "cell_type": "code",
   "execution_count": 309,
   "id": "6108729f-6beb-460d-a4ef-406b58c7db38",
   "metadata": {},
   "outputs": [],
   "source": [
    "#care_options fill NA\n",
    "mental2017.care_options.fillna('Not sure', inplace=True)"
   ]
  },
  {
   "cell_type": "code",
   "execution_count": 310,
   "id": "c9169a0f-e7c4-4e34-98ef-0aa12a3cdf7b",
   "metadata": {},
   "outputs": [
    {
     "data": {
      "text/plain": [
       "Age                              2\n",
       "Gender                           0\n",
       "family_history                   0\n",
       "no_employees                   113\n",
       "benefits                       113\n",
       "care_options                     0\n",
       "wellness_program               113\n",
       "anonymity                      113\n",
       "leave                          113\n",
       "coworkers                      113\n",
       "supervisor                       0\n",
       "phys_health_interview            0\n",
       "work_treatment_interfere         0\n",
       "work_no_treatment_interfere      0\n",
       "Continent                        2\n",
       "treatment                        0\n",
       "dtype: int64"
      ]
     },
     "execution_count": 310,
     "metadata": {},
     "output_type": "execute_result"
    }
   ],
   "source": [
    "# Gender and supervisor fill NA \n",
    "mental2017.supervisor.fillna(\"I don't know\", inplace = True)\n",
    "mental2017.Gender.fillna('other', inplace= True)\n",
    "mental2017.isna().sum()"
   ]
  },
  {
   "cell_type": "code",
   "execution_count": 311,
   "id": "3bc0af6d-e576-480b-8800-e267389597a4",
   "metadata": {},
   "outputs": [],
   "source": [
    "# benefits drop NA\n",
    "mental2017.dropna(subset=['benefits'], inplace= True)"
   ]
  },
  {
   "cell_type": "code",
   "execution_count": 312,
   "id": "ce38b76e-f191-4a3a-bea8-2b0eacda9f02",
   "metadata": {},
   "outputs": [
    {
     "data": {
      "text/plain": [
       "Age                            0\n",
       "Gender                         0\n",
       "family_history                 0\n",
       "no_employees                   0\n",
       "benefits                       0\n",
       "care_options                   0\n",
       "wellness_program               0\n",
       "anonymity                      0\n",
       "leave                          0\n",
       "coworkers                      0\n",
       "supervisor                     0\n",
       "phys_health_interview          0\n",
       "work_treatment_interfere       0\n",
       "work_no_treatment_interfere    0\n",
       "Continent                      0\n",
       "treatment                      0\n",
       "dtype: int64"
      ]
     },
     "execution_count": 312,
     "metadata": {},
     "output_type": "execute_result"
    }
   ],
   "source": [
    "mental2017.isna().sum()"
   ]
  },
  {
   "cell_type": "code",
   "execution_count": 313,
   "id": "24f2a61f-d94e-4eb9-94b1-f59356ec9015",
   "metadata": {},
   "outputs": [],
   "source": [
    "old_mental = pd.read_csv('14_16_pre_Encoder.csv')\n",
    "old_mental = old_mental[mental2017.columns]"
   ]
  },
  {
   "cell_type": "code",
   "execution_count": 314,
   "id": "65517bdc-f84f-4c2f-8eaf-0f0659ec2229",
   "metadata": {},
   "outputs": [],
   "source": [
    "# for i in old_mental.columns:\n",
    "#     print(i)\n",
    "#     print(old_mental[i].unique())\n",
    "#     print(20*'=')\n",
    "#     print(mental2017[i].unique())\n",
    "#     input()"
   ]
  },
  {
   "cell_type": "code",
   "execution_count": 315,
   "id": "5cc6df6e-d9b5-4ea5-92fc-49c432c3ccc1",
   "metadata": {},
   "outputs": [
    {
     "name": "stderr",
     "output_type": "stream",
     "text": [
      "C:\\Users\\A476858\\AppData\\Local\\Temp\\ipykernel_8604\\893311240.py:17: UserWarning: This pattern is interpreted as a regular expression, and has match groups. To actually get the groups, use str.extract.\n",
      "  mental2017.loc[mental2017['Gender'].str.contains(g), 'Gender'] = 'f'\n",
      "C:\\Users\\A476858\\AppData\\Local\\Temp\\ipykernel_8604\\893311240.py:24: UserWarning: This pattern is interpreted as a regular expression, and has match groups. To actually get the groups, use str.extract.\n",
      "  mental2017.loc[mental2017['Gender'].str.contains(g), 'Gender'] = 'm'\n"
     ]
    },
    {
     "data": {
      "text/plain": [
       "array(['f', 'm', 'other'], dtype=object)"
      ]
     },
     "execution_count": 315,
     "metadata": {},
     "output_type": "execute_result"
    }
   ],
   "source": [
    "# test = mental2017.copy()\n",
    "mental2017 = test.copy()\n",
    "# Gender\n",
    "mental2017.Gender = mental2017.Gender.str.lower()\n",
    "# other\n",
    "trans_gender_list = ['Genderfluid', 'Nonbinary', 'other','uhhhhhhhhh fem genderqueer?', 'God King of the Valajar','Non-binary',\n",
    "                     'Agender/genderfluid','sometimes', 'Contextual', 'contextual', 'Non binary', 'Genderqueer demigirl',\n",
    " 'Genderqueer/non-binary', 'nonbinary', '\\\\-', 'Transfeminine', 'non binary']\n",
    "\n",
    "for g in trans_gender_list:\n",
    "    mental2017.loc[mental2017['Gender'].str.contains(g), 'Gender'] = 'other'\n",
    "# female\n",
    "female_gender_list = ['Female', 'F', 'female', 'f', 'Female ', 'Woman', 'femalw', 'femail', 'female (cis)', 'My sex is female.', 'woman', \n",
    "                       'female (cisgender)', 'Female (cis) ', 'cis-Female', 'cis female', 'F', 'cisgender']\n",
    "\n",
    "for g in female_gender_list:\n",
    "    mental2017.loc[mental2017['Gender'].str.contains(g), 'Gender'] = 'f'\n",
    "\n",
    "#male\n",
    "male_gender_list = ['male', 'Male', 'M', 'Man', 'cis-male', 'Mail', 'cis hetero male', 'm', 'Male (cis)', 'Cis male', 'man', 'cis male ',\n",
    "                     'Male-ish', 'Male ', 'Cis-male', 'Cis Male', 'dude']\n",
    "\n",
    "for g in male_gender_list:\n",
    "    mental2017.loc[mental2017['Gender'].str.contains(g), 'Gender'] = 'm'\n",
    "\n",
    "mental2017.Gender.unique()"
   ]
  },
  {
   "cell_type": "code",
   "execution_count": 316,
   "id": "655eefdf-05db-4e59-93d4-5fb5ab49e815",
   "metadata": {},
   "outputs": [],
   "source": [
    "# benefits\n",
    "mental2017.loc[mental2017['benefits'].str.contains(\"I don't know\"), 'benefits'] = \"Don't know\"\n",
    "mental2017.loc[mental2017['benefits'].str.contains('Not eligible for coverage / NA'), 'benefits'] = 'Not eligible for coverage / N/A'\n",
    "# wellness_program\n",
    "mental2017.loc[mental2017['wellness_program'].str.contains(\"I don't know\"), 'wellness_program'] = \"Don't know\"\n",
    "\n",
    "# anonymity\n",
    "mental2017.loc[mental2017['anonymity'].str.contains(\"I don't know\"), 'anonymity'] = \"Don't know\"\n",
    "\n",
    "# leave\n",
    "mental2017.loc[mental2017['leave'].str.contains(\"I don't know\"), 'leave'] = \"Don't know\"\n",
    "mental2017.loc[mental2017['leave'].str.contains(\"Difficult\"), 'leave'] = \"Very difficult\"\n",
    "\n",
    "# coworkers\n",
    "mental2017.loc[mental2017['coworkers'].str.contains(\"I don't know\"), 'coworkers'] = \"Don't know\"\n",
    "\n",
    "# supervisor\n",
    "d_sup ={'Yes, all of my previous supervisors' : 'Yes', 'No, none of my previous supervisors' : 'No', 'Some of my previous supervisors' : 'Some of them',\n",
    "\"I don't know\" : 'Maybe'}\n",
    "for i in d_sup.keys():\n",
    "        mental2017.loc[mental2017['supervisor'].str.contains(i), 'supervisor'] = d_sup[i]\n"
   ]
  },
  {
   "cell_type": "code",
   "execution_count": 317,
   "id": "2b1904a2-115a-43f9-932a-b2ef13c34d3c",
   "metadata": {},
   "outputs": [],
   "source": [
    "# Country\n",
    "mental2017.Continent.replace({\"United States of America\":\"United States\"}, inplace= True)"
   ]
  },
  {
   "cell_type": "code",
   "execution_count": 318,
   "id": "498bb158-4398-4ad8-93fb-32bfb5ecf831",
   "metadata": {},
   "outputs": [],
   "source": [
    "continents = pd.read_csv('country_cont.csv', header=None)\n",
    "continents.columns = ['Continent', 'Continent_real']"
   ]
  },
  {
   "cell_type": "code",
   "execution_count": 319,
   "id": "833fe2fe-b083-4bf0-9b7b-aee54d473937",
   "metadata": {},
   "outputs": [],
   "source": [
    "mental2017 = pd.merge(mental2017, continents, on='Continent', how='left')"
   ]
  },
  {
   "cell_type": "code",
   "execution_count": 320,
   "id": "2710c794-eb41-4ca8-9823-b86160b0f4be",
   "metadata": {},
   "outputs": [
    {
     "name": "stdout",
     "output_type": "stream",
     "text": [
      "United States\n"
     ]
    }
   ],
   "source": [
    "for i in mental2017.Continent.unique().tolist():\n",
    "    if i not in continents.Continent.tolist():\n",
    "        print(i)"
   ]
  },
  {
   "cell_type": "code",
   "execution_count": 321,
   "id": "4f73bc59-7641-49e2-aa71-553c71c0971d",
   "metadata": {},
   "outputs": [],
   "source": [
    "# Fix the United States\n",
    "mental2017.loc[mental2017.Continent == 'United States', 'Continent_real'] = 'North America'"
   ]
  },
  {
   "cell_type": "code",
   "execution_count": 322,
   "id": "cec1b1a6-377b-4e54-982c-db4117642b1f",
   "metadata": {},
   "outputs": [
    {
     "data": {
      "text/html": [
       "<div>\n",
       "<style scoped>\n",
       "    .dataframe tbody tr th:only-of-type {\n",
       "        vertical-align: middle;\n",
       "    }\n",
       "\n",
       "    .dataframe tbody tr th {\n",
       "        vertical-align: top;\n",
       "    }\n",
       "\n",
       "    .dataframe thead th {\n",
       "        text-align: right;\n",
       "    }\n",
       "</style>\n",
       "<table border=\"1\" class=\"dataframe\">\n",
       "  <thead>\n",
       "    <tr style=\"text-align: right;\">\n",
       "      <th></th>\n",
       "      <th>Age</th>\n",
       "      <th>Gender</th>\n",
       "      <th>family_history</th>\n",
       "      <th>no_employees</th>\n",
       "      <th>benefits</th>\n",
       "      <th>care_options</th>\n",
       "      <th>wellness_program</th>\n",
       "      <th>anonymity</th>\n",
       "      <th>leave</th>\n",
       "      <th>coworkers</th>\n",
       "      <th>supervisor</th>\n",
       "      <th>phys_health_interview</th>\n",
       "      <th>work_treatment_interfere</th>\n",
       "      <th>work_no_treatment_interfere</th>\n",
       "      <th>Continent</th>\n",
       "      <th>treatment</th>\n",
       "    </tr>\n",
       "  </thead>\n",
       "  <tbody>\n",
       "    <tr>\n",
       "      <th>0</th>\n",
       "      <td>27.0</td>\n",
       "      <td>f</td>\n",
       "      <td>No</td>\n",
       "      <td>100-500</td>\n",
       "      <td>No</td>\n",
       "      <td>Yes</td>\n",
       "      <td>No</td>\n",
       "      <td>Don't know</td>\n",
       "      <td>Don't know</td>\n",
       "      <td>Yes</td>\n",
       "      <td>Yes</td>\n",
       "      <td>Yes</td>\n",
       "      <td>Sometimes</td>\n",
       "      <td>Sometimes</td>\n",
       "      <td>Europe</td>\n",
       "      <td>1</td>\n",
       "    </tr>\n",
       "    <tr>\n",
       "      <th>1</th>\n",
       "      <td>31.0</td>\n",
       "      <td>m</td>\n",
       "      <td>No</td>\n",
       "      <td>100-500</td>\n",
       "      <td>Yes</td>\n",
       "      <td>Yes</td>\n",
       "      <td>No</td>\n",
       "      <td>Don't know</td>\n",
       "      <td>Don't know</td>\n",
       "      <td>Yes</td>\n",
       "      <td>No</td>\n",
       "      <td>Yes</td>\n",
       "      <td>Not applicable to me</td>\n",
       "      <td>Sometimes</td>\n",
       "      <td>Europe</td>\n",
       "      <td>0</td>\n",
       "    </tr>\n",
       "    <tr>\n",
       "      <th>2</th>\n",
       "      <td>36.0</td>\n",
       "      <td>m</td>\n",
       "      <td>Yes</td>\n",
       "      <td>6-25</td>\n",
       "      <td>Don't know</td>\n",
       "      <td>No</td>\n",
       "      <td>Don't know</td>\n",
       "      <td>Yes</td>\n",
       "      <td>Very difficult</td>\n",
       "      <td>Maybe</td>\n",
       "      <td>No</td>\n",
       "      <td>Maybe</td>\n",
       "      <td>Sometimes</td>\n",
       "      <td>Sometimes</td>\n",
       "      <td>North America</td>\n",
       "      <td>1</td>\n",
       "    </tr>\n",
       "    <tr>\n",
       "      <th>3</th>\n",
       "      <td>22.0</td>\n",
       "      <td>m</td>\n",
       "      <td>I don't know</td>\n",
       "      <td>More than 1000</td>\n",
       "      <td>Yes</td>\n",
       "      <td>Yes</td>\n",
       "      <td>Don't know</td>\n",
       "      <td>Yes</td>\n",
       "      <td>Very difficult</td>\n",
       "      <td>Yes</td>\n",
       "      <td>Maybe</td>\n",
       "      <td>No</td>\n",
       "      <td>Sometimes</td>\n",
       "      <td>Often</td>\n",
       "      <td>North America</td>\n",
       "      <td>1</td>\n",
       "    </tr>\n",
       "    <tr>\n",
       "      <th>4</th>\n",
       "      <td>30.0</td>\n",
       "      <td>m</td>\n",
       "      <td>Yes</td>\n",
       "      <td>100-500</td>\n",
       "      <td>Yes</td>\n",
       "      <td>No</td>\n",
       "      <td>No</td>\n",
       "      <td>Yes</td>\n",
       "      <td>Somewhat easy</td>\n",
       "      <td>Maybe</td>\n",
       "      <td>Some of them</td>\n",
       "      <td>Maybe</td>\n",
       "      <td>Rarely</td>\n",
       "      <td>Not applicable to me</td>\n",
       "      <td>North America</td>\n",
       "      <td>0</td>\n",
       "    </tr>\n",
       "    <tr>\n",
       "      <th>...</th>\n",
       "      <td>...</td>\n",
       "      <td>...</td>\n",
       "      <td>...</td>\n",
       "      <td>...</td>\n",
       "      <td>...</td>\n",
       "      <td>...</td>\n",
       "      <td>...</td>\n",
       "      <td>...</td>\n",
       "      <td>...</td>\n",
       "      <td>...</td>\n",
       "      <td>...</td>\n",
       "      <td>...</td>\n",
       "      <td>...</td>\n",
       "      <td>...</td>\n",
       "      <td>...</td>\n",
       "      <td>...</td>\n",
       "    </tr>\n",
       "    <tr>\n",
       "      <th>638</th>\n",
       "      <td>29.0</td>\n",
       "      <td>m</td>\n",
       "      <td>Yes</td>\n",
       "      <td>26-100</td>\n",
       "      <td>Yes</td>\n",
       "      <td>Yes</td>\n",
       "      <td>No</td>\n",
       "      <td>Yes</td>\n",
       "      <td>Somewhat easy</td>\n",
       "      <td>Maybe</td>\n",
       "      <td>Maybe</td>\n",
       "      <td>Yes</td>\n",
       "      <td>Rarely</td>\n",
       "      <td>Often</td>\n",
       "      <td>North America</td>\n",
       "      <td>1</td>\n",
       "    </tr>\n",
       "    <tr>\n",
       "      <th>639</th>\n",
       "      <td>38.0</td>\n",
       "      <td>m</td>\n",
       "      <td>No</td>\n",
       "      <td>500-1000</td>\n",
       "      <td>Don't know</td>\n",
       "      <td>No</td>\n",
       "      <td>No</td>\n",
       "      <td>Don't know</td>\n",
       "      <td>Very difficult</td>\n",
       "      <td>Maybe</td>\n",
       "      <td>No</td>\n",
       "      <td>Yes</td>\n",
       "      <td>Rarely</td>\n",
       "      <td>Often</td>\n",
       "      <td>North America</td>\n",
       "      <td>1</td>\n",
       "    </tr>\n",
       "    <tr>\n",
       "      <th>640</th>\n",
       "      <td>41.0</td>\n",
       "      <td>m</td>\n",
       "      <td>No</td>\n",
       "      <td>26-100</td>\n",
       "      <td>Don't know</td>\n",
       "      <td>No</td>\n",
       "      <td>No</td>\n",
       "      <td>Yes</td>\n",
       "      <td>Very easy</td>\n",
       "      <td>Yes</td>\n",
       "      <td>Some of them</td>\n",
       "      <td>Maybe</td>\n",
       "      <td>Not applicable to me</td>\n",
       "      <td>Not applicable to me</td>\n",
       "      <td>Europe</td>\n",
       "      <td>1</td>\n",
       "    </tr>\n",
       "    <tr>\n",
       "      <th>641</th>\n",
       "      <td>40.0</td>\n",
       "      <td>m</td>\n",
       "      <td>No</td>\n",
       "      <td>6-25</td>\n",
       "      <td>Yes</td>\n",
       "      <td>No</td>\n",
       "      <td>Don't know</td>\n",
       "      <td>Yes</td>\n",
       "      <td>Very easy</td>\n",
       "      <td>Yes</td>\n",
       "      <td>Yes</td>\n",
       "      <td>Yes</td>\n",
       "      <td>Sometimes</td>\n",
       "      <td>Often</td>\n",
       "      <td>North America</td>\n",
       "      <td>1</td>\n",
       "    </tr>\n",
       "    <tr>\n",
       "      <th>642</th>\n",
       "      <td>30.0</td>\n",
       "      <td>m</td>\n",
       "      <td>No</td>\n",
       "      <td>26-100</td>\n",
       "      <td>Yes</td>\n",
       "      <td>Yes</td>\n",
       "      <td>No</td>\n",
       "      <td>No</td>\n",
       "      <td>Very easy</td>\n",
       "      <td>No</td>\n",
       "      <td>No</td>\n",
       "      <td>Maybe</td>\n",
       "      <td>Not applicable to me</td>\n",
       "      <td>Not applicable to me</td>\n",
       "      <td>North America</td>\n",
       "      <td>0</td>\n",
       "    </tr>\n",
       "  </tbody>\n",
       "</table>\n",
       "<p>643 rows × 16 columns</p>\n",
       "</div>"
      ],
      "text/plain": [
       "      Age Gender family_history    no_employees    benefits care_options  \\\n",
       "0    27.0      f             No         100-500          No          Yes   \n",
       "1    31.0      m             No         100-500         Yes          Yes   \n",
       "2    36.0      m            Yes            6-25  Don't know           No   \n",
       "3    22.0      m   I don't know  More than 1000         Yes          Yes   \n",
       "4    30.0      m            Yes         100-500         Yes           No   \n",
       "..    ...    ...            ...             ...         ...          ...   \n",
       "638  29.0      m            Yes          26-100         Yes          Yes   \n",
       "639  38.0      m             No        500-1000  Don't know           No   \n",
       "640  41.0      m             No          26-100  Don't know           No   \n",
       "641  40.0      m             No            6-25         Yes           No   \n",
       "642  30.0      m             No          26-100         Yes          Yes   \n",
       "\n",
       "    wellness_program   anonymity           leave coworkers    supervisor  \\\n",
       "0                 No  Don't know      Don't know       Yes           Yes   \n",
       "1                 No  Don't know      Don't know       Yes            No   \n",
       "2         Don't know         Yes  Very difficult     Maybe            No   \n",
       "3         Don't know         Yes  Very difficult       Yes         Maybe   \n",
       "4                 No         Yes   Somewhat easy     Maybe  Some of them   \n",
       "..               ...         ...             ...       ...           ...   \n",
       "638               No         Yes   Somewhat easy     Maybe         Maybe   \n",
       "639               No  Don't know  Very difficult     Maybe            No   \n",
       "640               No         Yes       Very easy       Yes  Some of them   \n",
       "641       Don't know         Yes       Very easy       Yes           Yes   \n",
       "642               No          No       Very easy        No            No   \n",
       "\n",
       "    phys_health_interview work_treatment_interfere  \\\n",
       "0                     Yes                Sometimes   \n",
       "1                     Yes     Not applicable to me   \n",
       "2                   Maybe                Sometimes   \n",
       "3                      No                Sometimes   \n",
       "4                   Maybe                   Rarely   \n",
       "..                    ...                      ...   \n",
       "638                   Yes                   Rarely   \n",
       "639                   Yes                   Rarely   \n",
       "640                 Maybe     Not applicable to me   \n",
       "641                   Yes                Sometimes   \n",
       "642                 Maybe     Not applicable to me   \n",
       "\n",
       "    work_no_treatment_interfere      Continent  treatment  \n",
       "0                     Sometimes         Europe          1  \n",
       "1                     Sometimes         Europe          0  \n",
       "2                     Sometimes  North America          1  \n",
       "3                         Often  North America          1  \n",
       "4          Not applicable to me  North America          0  \n",
       "..                          ...            ...        ...  \n",
       "638                       Often  North America          1  \n",
       "639                       Often  North America          1  \n",
       "640        Not applicable to me         Europe          1  \n",
       "641                       Often  North America          1  \n",
       "642        Not applicable to me  North America          0  \n",
       "\n",
       "[643 rows x 16 columns]"
      ]
     },
     "execution_count": 322,
     "metadata": {},
     "output_type": "execute_result"
    }
   ],
   "source": [
    "mental2017.Continent = mental2017.Continent_real\n",
    "mental2017.drop('Continent_real', axis=1, inplace= True)\n",
    "mental2017"
   ]
  },
  {
   "cell_type": "code",
   "execution_count": 323,
   "id": "28f79c7a-6a67-46cf-80d9-2ecebcf7dac7",
   "metadata": {},
   "outputs": [],
   "source": [
    "mental2017.to_csv('17_pre_Encoder.csv', index= False)"
   ]
  },
  {
   "cell_type": "code",
   "execution_count": null,
   "id": "5be1a261-d9e7-4e6a-9dea-bf226283fce9",
   "metadata": {},
   "outputs": [],
   "source": []
  }
 ],
 "metadata": {
  "kernelspec": {
   "display_name": "Python 3 (ipykernel)",
   "language": "python",
   "name": "python3"
  },
  "language_info": {
   "codemirror_mode": {
    "name": "ipython",
    "version": 3
   },
   "file_extension": ".py",
   "mimetype": "text/x-python",
   "name": "python",
   "nbconvert_exporter": "python",
   "pygments_lexer": "ipython3",
   "version": "3.9.13"
  }
 },
 "nbformat": 4,
 "nbformat_minor": 5
}
