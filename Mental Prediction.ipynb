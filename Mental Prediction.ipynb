{
 "cells": [
  {
   "cell_type": "code",
   "execution_count": 1,
   "id": "b52420b2",
   "metadata": {},
   "outputs": [],
   "source": [
    "%matplotlib inline\n"
   ]
  },
  {
   "cell_type": "code",
   "execution_count": 2,
   "id": "1288ed2f",
   "metadata": {
    "editable": true,
    "slideshow": {
     "slide_type": ""
    },
    "tags": []
   },
   "outputs": [],
   "source": [
    "import pandas as pd\n",
    "import numpy as np\n",
    "import matplotlib.pyplot as plt\n",
    "import seaborn as sns\n",
    "import sklearn as sk\n",
    "from sklearn.model_selection import train_test_split, cross_validate, GridSearchCV\n",
    "from sklearn import metrics\n",
    "from sklearn.metrics import accuracy_score, roc_curve, auc\n",
    "from sklearn.naive_bayes import MultinomialNB, GaussianNB, BernoulliNB\n",
    "from sklearn.linear_model import LogisticRegression, Lasso, SGDClassifier, PassiveAggressiveClassifier, Perceptron\n",
    "from sklearn.neighbors import KNeighborsClassifier\n",
    "from sklearn.svm import SVC\n",
    "from sklearn.preprocessing import StandardScaler, OrdinalEncoder, OneHotEncoder, MinMaxScaler\n",
    "from sklearn.ensemble import RandomForestClassifier\n",
    "from sklearn.feature_selection import SelectFromModel\n",
    "from sklearn.decomposition import PCA\n",
    "from sklearn.base import clone\n",
    "from sklearn.pipeline import Pipeline, make_pipeline\n",
    "from sklearn.compose import ColumnTransformer\n",
    "from itertools import combinations\n",
    "\n",
    "import ast\n",
    "import pickle\n"
   ]
  },
  {
   "cell_type": "code",
   "execution_count": 3,
   "id": "1288af2c-16c3-4457-9765-a62c2738bf55",
   "metadata": {},
   "outputs": [],
   "source": [
    "class SBS():\n",
    "    ''' Feature selection via sequential backward selection (SBS)\n",
    "    estimator : this is the Estimator/Model that we will use to calculate scores \n",
    "    k_features : number of minimum features (how many features should be left after we start exluding)\n",
    "    scoring : calc_metrics (this is a function i have created) but could be accuracy_score\n",
    "    scoring_metric : recall, precision, accuracy, f_score (default is recall)\n",
    "    test_size=0.33\n",
    "    random_state=42\n",
    "    '''\n",
    "    def __init__(self, estimator, k_features,\n",
    "        scoring=accuracy_score, scoring_metric = 'recall',\n",
    "        test_size=0.33, random_state=42):\n",
    "        self.scoring = scoring\n",
    "        self.estimator = clone(estimator)\n",
    "        self.k_features = k_features\n",
    "        self.test_size = test_size\n",
    "        self.random_state = random_state\n",
    "        self.scoring_metric = scoring_metric\n",
    "    def fit(self, X, y):\n",
    "        X_train, X_test, y_train, y_test = train_test_split(X, y, test_size=self.test_size, random_state=self.random_state)\n",
    "        dim = X_train.shape[1]\n",
    "        self.indices_ = tuple(range(dim))\n",
    "        self.subsets_ = [self.indices_]\n",
    "        # self.removed_ = []\n",
    "        score = self._calc_score(X_train, y_train, X_test, y_test, self.indices_)\n",
    "        self.scores_ = [score]\n",
    "        while dim > self.k_features:\n",
    "            scores = []\n",
    "            subsets = []\n",
    "            for p in combinations(self.indices_, r=dim - 1):\n",
    "                score = self._calc_score(X_train, y_train, X_test, y_test, p)\n",
    "                scores.append(score)\n",
    "                subsets.append(p)\n",
    "            best = np.argmax(scores)\n",
    "            self.indices_ = subsets[best]\n",
    "            self.subsets_.append(self.indices_)\n",
    "            dim -= 1\n",
    "            self.scores_.append(scores[best])\n",
    "        self.k_score_ = self.scores_[-1]\n",
    "        # self.removed_ = [item for item in self.indices_[-1] if item not in X.columns]\n",
    "        # print('done')\n",
    "        return self\n",
    "    def transform(self, X):\n",
    "        return X[:, self.indices_]\n",
    "    def _calc_score(self, X_train, y_train, X_test, y_test, indices):\n",
    "        # print(type(indices),indices)\n",
    "        self.estimator.fit(X_train.loc[:, indices], y_train)\n",
    "        y_pred = self.estimator.predict(X_test.loc[:, indices])\n",
    "        if self.scoring == accuracy_score: \n",
    "            score = self.scoring(y_test, y_pred)\n",
    "            self.scoring_metric = 'Accuracy'\n",
    "        else: score = self.scoring(metrics.confusion_matrix(y_test, y_pred), self.scoring_metric)\n",
    "        return score"
   ]
  },
  {
   "cell_type": "code",
   "execution_count": 4,
   "id": "f47aac9c-ffa5-4516-9652-3092dd2065ca",
   "metadata": {},
   "outputs": [],
   "source": [
    "class SetCategorii:\n",
    "    \"\"\"Select the Dataframe for which you want to create categories. The used method is OrdinalEncoder(handle_unknown=\"error\").\n",
    "    If no dataframe is selected the ordered categories that i have selected manually will be used. (they are specifically for teh Mental Health project)\n",
    "    \n",
    "    \"\"\"\n",
    "    \n",
    "    def __init__(self, dataframe = None):\n",
    "        '''text2'''\n",
    "        self._dataframe = dataframe\n",
    "        self._enc = OrdinalEncoder(handle_unknown=\"error\")\n",
    "        self._categorii = []\n",
    "        self._features = []\n",
    "        self._ordered_feature_names = ['Age', 'Gender', 'self_employed', 'family_history', 'treatment', 'no_employees', 'remote_work', 'tech_company', 'benefits',\n",
    "       'care_options', 'wellness_program', 'seek_help', 'anonymity', 'leave', 'mental_health_consequence', 'phys_health_consequence',\n",
    "       'coworkers', 'supervisor', 'mental_health_interview', 'phys_health_interview', 'mental_vs_physical', 'obs_consequence',\n",
    "       'year', 'work_treatment_interfere', 'work_no_treatment_interfere', 'Continent']\n",
    "        self._ordered_categorii = [np.array([18, 19, 20, 21, 22, 23, 24, 25, 26, 27, 28, 29, 30, 31, 32, 33, 34, 35, 36, 37, 38, 39, 40, 41, 42, 43, 44, 45, 46, 47, 48, 49, 50, 51, 52, 53, 54, 55, 56, 57, 58, 59, 60, 61, 62, 63, 65, 66, 70], dtype=int),\n",
    " np.array(['f', 'other', 'm'], dtype=object),\n",
    " np.array(['No', 'Yes'], dtype=object),\n",
    " np.array(['No', \"I don't know\", 'Yes'], dtype=object),\n",
    " np.array([0, 1], dtype=int),\n",
    " np.array(['1-5', '6-25','26-100','100-500', '500-1000',  'More than 1000'], dtype=object),\n",
    " np.array(['Never', 'Sometimes', 'Always'], dtype=object),\n",
    " np.array([0., 1.]),\n",
    " np.array(['No', 'Not eligible for coverage / N/A', \"Don't know\", 'Yes'], dtype=object),\n",
    " np.array(['No', 'Not sure', 'Yes'], dtype=object),\n",
    " np.array(['No', \"Don't know\", 'Yes'], dtype=object),\n",
    " np.array(['No', \"Don't know\", 'Yes'], dtype=object),\n",
    " np.array(['No', \"Don't know\", 'Yes'], dtype=object),\n",
    " np.array(['Very difficult', 'Somewhat difficult', 'Neither easy nor difficult', \"Don't know\", 'Somewhat easy',  'Very easy'], dtype=object),\n",
    " np.array(['No', 'Maybe', 'Yes'], dtype=object),\n",
    " np.array(['No', 'Maybe', 'Yes'], dtype=object),\n",
    " np.array(['No', 'Maybe', 'Some of them', 'Yes'], dtype=object),\n",
    " np.array(['No', 'Maybe', 'Some of them', 'Yes'], dtype=object),\n",
    " np.array(['No', 'Maybe', 'Yes'], dtype=object),\n",
    " np.array(['No', 'Maybe', 'Yes'], dtype=object),\n",
    " np.array(['No', \"Don't know\", 'Yes'], dtype=object),\n",
    " np.array([0., 1.]),\n",
    " np.array(['Never', 'Rarely', 'Not applicable to me', 'Sometimes', 'Often'], dtype=object),\n",
    " np.array(['Never', 'Rarely', 'Not applicable to me', 'Sometimes', 'Often'], dtype=object),\n",
    " np.array(['Africa', 'Asia', 'Europe', 'North America', 'Oceania', 'South America'], dtype=object)]\n",
    "        \n",
    "        self.fit(dataframe)\n",
    "        \n",
    "    def fit(self, dataframe = None):\n",
    "        ''' Create categorii from the dataframe, \n",
    "        if no dataframe is given we will work with the ordered categorii i created for my particular case'''\n",
    "        dataframe = self._dataframe\n",
    "        if type(dataframe) == pd.DataFrame:\n",
    "            self._enc.fit(dataframe)\n",
    "            self._categorii = self._enc.categories_\n",
    "            self._features = self._enc.feature_names_in_.tolist()\n",
    "        else:\n",
    "            self._categorii = self._ordered_categorii\n",
    "            self._features = self._ordered_feature_names\n",
    "        \n",
    "    \n",
    "    def check_gategorii(self,feature = [], num = \"no\"):\n",
    "        ''' num = you can address the features by number of the column or name of teh column. The default is 'no' - meaning by the name of the column'''\n",
    "        if num == 'yes' : \n",
    "            if all(ele < len(self._features) for ele in feature):\n",
    "                feature = [self._features[i] for i in feature]\n",
    "            else: \n",
    "                return print('Wrong Feature numbers')\n",
    "        if len(feature) == 0:\n",
    "            data = {self._features[i]: list(self._categorii[i]) for i in range(len(self._features))}\n",
    "            return data\n",
    "        else:\n",
    "            if all(ele in self._features for ele in feature) == False:\n",
    "                return print('Wrong Feature names')\n",
    "            data = {i : list(self._categorii[self._features.index(i)]) for i in feature}\n",
    "            # data = self._features\n",
    "            # print(type(data))\n",
    "            return data\n",
    "            \n",
    "    def change_categorii_order(self, feature = []):\n",
    "        ''' if no features are mentioned it will prompt teh change of all features\n",
    "        Features can be listed only as column names'''\n",
    "        if feature == [] : feature = self._features\n",
    "        for i in self.check_gategorii(feature).keys():\n",
    "            print(f' Please provide a list of the desired order:\\n Example : [\\'m\\',\\'f\\',\\'other\\'] \\n Categories for column {i} are as follows. \\n {self.check_gategorii([i]).values()}')\n",
    "            data =  input()\n",
    "            data = ast.literal_eval(data)\n",
    "            if all(ele in self._categorii[self._features.index(i)] for ele in data) == False:\n",
    "                return print('Wrong categorie names')\n",
    "            self._categorii[self._features.index(i)] = np.array(data)\n",
    "            \n",
    "        return self.check_gategorii(feature)\n",
    "\n",
    "    def get(self):\n",
    "        return self._categorii"
   ]
  },
  {
   "cell_type": "code",
   "execution_count": 5,
   "id": "c82cdc31-0ddf-4bf6-b4d7-a23bce4546b3",
   "metadata": {
    "editable": true,
    "slideshow": {
     "slide_type": ""
    },
    "tags": []
   },
   "outputs": [],
   "source": [
    "def create_categor_dataset(dataset, categorii = 'auto'):\n",
    "    '''This will convert categorical columns using OrdinalEncoder with a pre-defined Ordering on the values(categories) in each column'''\n",
    "    dataset = dataset.copy()\n",
    "    enc = OrdinalEncoder(handle_unknown=\"error\", categories = categorii)\n",
    "    dataset = enc.fit_transform(dataset)\n",
    "    return pd.DataFrame(dataset, columns= enc.feature_names_in_)\n",
    "\n",
    "def compare_matrix(matrix1, matrix2, abs = 'no'):\n",
    "    ''' this will compare matrix1 and matrix 2 by subtracting the values in the 2 matrixes cell by cell in the format matrix1 - matrix2.\n",
    "    matrix1 = first matrix (subtract from)\n",
    "    matrix2 = second matrix\n",
    "    abs =  note if the values should be in absolute values, default is 'no'. if 'yes' the values wil be in absolute values\n",
    "    '''\n",
    "    compare = matrix1 - matrix2\n",
    "    plt.figure(figsize=(18, 16))\n",
    "    sns.heatmap(compare, annot=True, cmap='coolwarm', center=0)\n",
    "    plt.title(\"Correlation Heatmap\")\n",
    "    plt.xticks(rotation = 75)\n",
    "    return plt.show()\n",
    "\n",
    "def plot_heatmap(correlation_matrix):\n",
    "    '''plots a heatmap given a matrix'''\n",
    "    plt.figure(figsize=(18, 16))\n",
    "    sns.heatmap(correlation_matrix, annot=True, cmap='coolwarm', center=0)\n",
    "    plt.title(\"Correlation Heatmap\")\n",
    "    plt.xticks(rotation = 75)\n",
    "    plt.show()\n",
    "\n",
    "def check_answers(dataset, feature =[]):\n",
    "    ''' provide the unique answers for a feature in a dataset.\n",
    "    Features should be list like'''\n",
    "    for i in feature :\n",
    "        print('Unique values for \"{}\"'.format(i))\n",
    "        print(dataset[i].unique())\n",
    "        print('---------------------------------------------------------------------------------\\n')\n",
    "\n",
    "def getting_x_y(dataframe):\n",
    "    '''Givven a Dataframe for our scenario, this will provide:\n",
    "    X = intependant variables (NOT scaled)\n",
    "    X_norm = Independant variables (Scaled with StandardScaler)\n",
    "    y  = dependant variable'''\n",
    "    scaler = StandardScaler()\n",
    "    data_norm =  pd.DataFrame(scaler.fit_transform(dataframe), columns= dataframe.columns)\n",
    "    X_norm = data_norm.drop('treatment', axis = 1)\n",
    "    X = dataframe.drop('treatment', axis = 1)\n",
    "    y = dataframe['treatment']\n",
    "    return X_norm, X, y\n",
    "\n",
    "def calc_metrics(matrix, score):\n",
    "    '''Thgis needs a correlation Martix and will return one of the available scores. The function is build to facilitate tests.\n",
    "    score = recall, precision, accuracy, f_score\n",
    "    \n",
    "    '''\n",
    "    tp = matrix[1][1]\n",
    "    fn = matrix[1][0]\n",
    "    tn = matrix[0][0]\n",
    "    fp = matrix[0][1]\n",
    "    recall = tp/(tp+fn)\n",
    "    precision = tp/(tp+fp)\n",
    "    accuracy = (tp + tn)/(tp+tn+fp+fn)\n",
    "    f_score =2*(precision*recall)/(precision+recall)\n",
    "    scores = {'recall' : recall, 'precision': precision, 'accuracy' : accuracy, 'f_score' : f_score}\n",
    "    return scores[score]\n",
    "\n",
    "def cross_valid_mean(model, X, y, scoring = ['recall', 'f1'], cv = 5):\n",
    "    '''\n",
    "    This will help us compare the means of the CV between diffeent models.\n",
    "    \n",
    "    cv = Determines the cross-validation splitting strategy. (default = 5)\n",
    "    scoring = Strategy to evaluate the performance of the cross-validated model on the test set. (default = ['recall', 'f1'])\n",
    "    '''\n",
    "    model_cvm_mean = {}\n",
    "    model = model\n",
    "    model_cvm = cross_validate(model, X, y, scoring= scoring, cv = cv)\n",
    "    for i in model_cvm:\n",
    "        model_cvm_mean[i] = model_cvm[i].mean()\n",
    "    return model_cvm_mean\n",
    "\n",
    "def tomi_make_pipe(columns,  model_name):\n",
    "    ''' As we are using the same Column transformation but intend to test different pipelines. \n",
    "    This function will help us save some time, and will keep the code clean \n",
    "    for the column \"Age\" we use StandardScaler.\n",
    "    for the rest of the columns that are categorical we use OneHotEncoder\n",
    "    columns : those are teh columns that will be used by the model\n",
    "    model_name : this is teh model used for this pipeline\n",
    "    '''\n",
    "    cat_col = [i for i in columns if i not in ['Age','treatment']]\n",
    "    num_col = ['Age']\n",
    "    target='treatment'\n",
    "    pl_scaler = StandardScaler()\n",
    "    pl_encoder = OneHotEncoder()\n",
    "# putting numeric columns to scaler and categorical to encoder\n",
    "    num_transformer = make_pipeline(pl_scaler)\n",
    "    cat_transformer = make_pipeline(pl_encoder)\n",
    "# getting together our scaler and encoder with preprocessor\n",
    "    preprocessor = ColumnTransformer(\n",
    "        transformers=[('num', num_transformer, num_col),\n",
    "                    ('cat', cat_transformer, cat_col)])\n",
    "\n",
    "# giving all values to pipeline\n",
    "    # return make_pipeline(preprocessor,model_name)\n",
    "    return Pipeline([('preproc',preprocessor),('est',model_name)])\n",
    "\n",
    "def partial_pipe_fit(pipeline_obj, x, y):\n",
    "    # here we use .transform because in the new dataset we might have some categorical answers missing and we don't want this to affect our pipeline\n",
    "    X = pipeline_obj.named_steps['preproc'].transform(x)\n",
    "    # print(X.shape) # for testing purposes\n",
    "    Y = y\n",
    "    pipeline_obj.named_steps['est'].partial_fit(X,Y)"
   ]
  },
  {
   "cell_type": "markdown",
   "id": "40b58a4f",
   "metadata": {
    "editable": true,
    "slideshow": {
     "slide_type": ""
    },
    "tags": []
   },
   "source": [
    "# Mental health in the Tech industry - Prediction\n",
    "   ### by Tomislav Vasilev\n",
    "\n",
    "This project is continuation of my previous project \"Mental health in the Tech industry\". I want to work on the Dataset i had previously created and expand its scope. <br>\n",
    "\n",
    "\n"
   ]
  },
  {
   "cell_type": "markdown",
   "id": "6bce3615-5135-437e-828f-601fdccda6db",
   "metadata": {
    "editable": true,
    "slideshow": {
     "slide_type": ""
    },
    "tags": []
   },
   "source": [
    "## Abstract\n",
    "\n",
    "We will have the assumption that the participants in each year were part of different and independent sets of participants and there is no overlapping between them.<br>\n",
    "The dataset used for the initial training has been pre-processed in my previous Project \"Mental health in the Tech industry\". From there we know our dataset is relatively balanced and we should treat it as a balanced problem.<br>\n",
    "\n",
    "\n",
    "In this project we will:<br>\n",
    "1. Try to create a predictive model that is able to determine if an individual has looked for help based on the environment and conditions of his work (or at least how the individual perceives and picture this environment through the questions asked). We will experiment with a couple of different approaches<br>\n",
    "If our model manages to give a proper prediction result. We can focus on the False Positive results, as those might be people who need help but have not yet addressed it.<br>\n",
    "2. We will create a pipeline<br>\n",
    "3. We will get new data for the year 2017 and:<br>\n",
    "    3.1. train our model on 2014/2016 and test it on 2017<br>\n",
    "    3.2. apply continues training on our model with 2017 and test it on 2017 using Incremental training<br>\n",
    "\n"
   ]
  },
  {
   "cell_type": "markdown",
   "id": "1364b1d3-dd5a-4589-bc23-00f75096eec1",
   "metadata": {
    "editable": true,
    "slideshow": {
     "slide_type": ""
    },
    "tags": []
   },
   "source": [
    "## References\n",
    "\n",
    "[Feature-selection-using-regularisation](https://towardsdatascience.com/feature-selection-using-regularisation-a3678b71e499)<br>\n",
    "<b>Python Machine Learning</b> by Sebastian Raschka and Vahid Mirjalilin<br>\n",
    "[Building a Machine Learning Pipeline with Scikit-Learn](https://towardsdatascience.com/building-a-machine-learning-pipeline-3bba20c2352b)<br>\n",
    "[Are you sure that's a probability?](https://kiwidamien.github.io/are-you-sure-thats-a-probability.html)"
   ]
  },
  {
   "cell_type": "markdown",
   "id": "974fa448-f004-46a3-ac91-e0a64969d8f2",
   "metadata": {
    "editable": true,
    "slideshow": {
     "slide_type": ""
    },
    "tags": []
   },
   "source": [
    "<a id='topi'></a>\n",
    "## Content\n",
    "\n",
    "* [Loading and Reviewing the Data](#ld)\n",
    "* [Feature encoding and Correlation Matrix](#encoding)\n",
    "* [Choose the right metrics and Features](#metrics)\n",
    "    * [Feature selection via Lasso](#lasso)\n",
    "    * [Feature selection via sequential backward selection (SBS)](#sbs)\n",
    "    * [Feature selection via Random Forest](#forest)\n",
    "    * [Choosing the features to remove](#choose)\n",
    "* [Choosing Dataset and Models](#choose_data)\n",
    "* [Fine Tuning the Models (GridSearchCV is used here and the code is #commented to avoid time delay in case all the cells are run)](#tune)\n",
    "* [PCA, Bagging and Boosting ?](#pca)\n",
    "* [Creating PipeLine](#pipeline)\n",
    "* [Use the data from 2017 as a test set](#2017)\n",
    "* [ROC curve for Random Forest](#roc)\n",
    "* [Create pickle file](#pickle)\n",
    "* [Incremental learning](#online-learn)\n",
    "* [Conclusion](#con)"
   ]
  },
  {
   "cell_type": "markdown",
   "id": "13e02b9f-fd49-4b4e-8e82-059bca1263b1",
   "metadata": {
    "editable": true,
    "slideshow": {
     "slide_type": ""
    },
    "tags": []
   },
   "source": [
    "[TOP](#topi)\n",
    "\n",
    "## Loading and Reviewing the Data\n",
    "Let us load the dataset and remind ourselves what were the features.\n",
    "\n",
    "### Legend of the columns\n",
    "\n",
    "<b>'Age'\t\t\t:</b> Age<br>\n",
    "<b>'Gender'\t\t:</b> Gender<br>\n",
    "<b>'self_employed'\t:</b> Are you self-employed?<br>\n",
    "<b>'family_history':</b> Do you have a family history of mental illness?<br>\n",
    "<b>'treatment'\t\t:</b> Have you sought treatment for a mental health condition?<br>\n",
    "<b>'no_employees'\t:</b> How many employees does your company or organization have?<br>\n",
    "<b>'remote_work'\t:</b> Do you work remotely (outside of an office) at least 50% of the time?<br>\n",
    "<b>'tech_company'\t:</b> Is your employer primarily a tech company/organization?<br>\n",
    "<b>'benefits'\t\t:</b> Does your employer provide mental health benefits?<br>\n",
    "<b>'care_options'\t:</b> Do you know the options for mental health care your employer provides?<br>\n",
    "<b>'wellness_program' :</b> Has your employer ever discussed mental health as part of an employee wellness program?<br>\n",
    "<b>'seek_help'\t\t:</b> Does your employer provide resources to learn more about mental health issues and how to seek help?<br>\n",
    "<b>'anonymity'\t\t:</b> Is your anonymity protected if you choose to take advantage of mental health or substance abuse treatment resources?<br>\n",
    "<b>'leave'\t\t\t:</b> How easy is it for you to take medical leave for a mental health condition?<br>\n",
    "<b>'mental_health_consequence' :</b> Do you think that discussing a mental health issue with your employer would have negative consequences?<br>\n",
    "<b>'phys_health_consequence' :</b> Do you think that discussing a physical health issue with your employer would have negative consequences?<br>\n",
    "<b>'coworkers' \t:</b> Would you be willing to discuss a mental health issue with your coworkers?<br>\n",
    "<b>'supervisor' \t:</b> Would you be willing to discuss a mental health issue with your direct supervisor(s)?<br>\n",
    "<b>'mental_health_interview ':</b> Would you bring up a mental health issue with a potential employer in an interview?<br>\n",
    "<b>'phys_health_interview' :</b> Would you bring up a physical health issue with a potential employer in an interview?<br>\n",
    "<b>'mental_vs_physical' :</b> Do you feel that your employer takes mental health as seriously as physical health?<br>\n",
    "<b>'obs_consequence' :</b> Have you heard of or observed negative consequences for coworkers with mental health conditions in your workplace?<br>\n",
    "<b>'work_treatment_interfere':</b> If you have a mental health issue, do you feel that it interferes with your work when being treated effectively?<br>\n",
    "<b>'work_no_treatment_interfere':</b> If you have a mental health issue, do you feel that it interferes with your work when NOT being treated effectively? <br>\n",
    "<b>'Continent':</b> The continent where the participant lives"
   ]
  },
  {
   "cell_type": "code",
   "execution_count": 6,
   "id": "f87ecb92",
   "metadata": {
    "scrolled": true
   },
   "outputs": [
    {
     "data": {
      "text/html": [
       "<div>\n",
       "<style scoped>\n",
       "    .dataframe tbody tr th:only-of-type {\n",
       "        vertical-align: middle;\n",
       "    }\n",
       "\n",
       "    .dataframe tbody tr th {\n",
       "        vertical-align: top;\n",
       "    }\n",
       "\n",
       "    .dataframe thead th {\n",
       "        text-align: right;\n",
       "    }\n",
       "</style>\n",
       "<table border=\"1\" class=\"dataframe\">\n",
       "  <thead>\n",
       "    <tr style=\"text-align: right;\">\n",
       "      <th></th>\n",
       "      <th>Age</th>\n",
       "      <th>Gender</th>\n",
       "      <th>self_employed</th>\n",
       "      <th>family_history</th>\n",
       "      <th>treatment</th>\n",
       "      <th>no_employees</th>\n",
       "      <th>remote_work</th>\n",
       "      <th>tech_company</th>\n",
       "      <th>benefits</th>\n",
       "      <th>care_options</th>\n",
       "      <th>...</th>\n",
       "      <th>phys_health_consequence</th>\n",
       "      <th>coworkers</th>\n",
       "      <th>supervisor</th>\n",
       "      <th>mental_health_interview</th>\n",
       "      <th>phys_health_interview</th>\n",
       "      <th>mental_vs_physical</th>\n",
       "      <th>obs_consequence</th>\n",
       "      <th>work_treatment_interfere</th>\n",
       "      <th>work_no_treatment_interfere</th>\n",
       "      <th>Continent</th>\n",
       "    </tr>\n",
       "  </thead>\n",
       "  <tbody>\n",
       "    <tr>\n",
       "      <th>0</th>\n",
       "      <td>37</td>\n",
       "      <td>f</td>\n",
       "      <td>No</td>\n",
       "      <td>No</td>\n",
       "      <td>1</td>\n",
       "      <td>6-25</td>\n",
       "      <td>Never</td>\n",
       "      <td>1.0</td>\n",
       "      <td>Yes</td>\n",
       "      <td>Not sure</td>\n",
       "      <td>...</td>\n",
       "      <td>No</td>\n",
       "      <td>Some of them</td>\n",
       "      <td>Yes</td>\n",
       "      <td>No</td>\n",
       "      <td>Maybe</td>\n",
       "      <td>Yes</td>\n",
       "      <td>0.0</td>\n",
       "      <td>Often</td>\n",
       "      <td>Often</td>\n",
       "      <td>North America</td>\n",
       "    </tr>\n",
       "    <tr>\n",
       "      <th>1</th>\n",
       "      <td>44</td>\n",
       "      <td>m</td>\n",
       "      <td>No</td>\n",
       "      <td>No</td>\n",
       "      <td>0</td>\n",
       "      <td>More than 1000</td>\n",
       "      <td>Never</td>\n",
       "      <td>0.0</td>\n",
       "      <td>Don't know</td>\n",
       "      <td>No</td>\n",
       "      <td>...</td>\n",
       "      <td>No</td>\n",
       "      <td>No</td>\n",
       "      <td>No</td>\n",
       "      <td>No</td>\n",
       "      <td>No</td>\n",
       "      <td>Don't know</td>\n",
       "      <td>0.0</td>\n",
       "      <td>Rarely</td>\n",
       "      <td>Rarely</td>\n",
       "      <td>North America</td>\n",
       "    </tr>\n",
       "    <tr>\n",
       "      <th>2</th>\n",
       "      <td>32</td>\n",
       "      <td>m</td>\n",
       "      <td>No</td>\n",
       "      <td>No</td>\n",
       "      <td>0</td>\n",
       "      <td>6-25</td>\n",
       "      <td>Never</td>\n",
       "      <td>1.0</td>\n",
       "      <td>No</td>\n",
       "      <td>No</td>\n",
       "      <td>...</td>\n",
       "      <td>No</td>\n",
       "      <td>Yes</td>\n",
       "      <td>Yes</td>\n",
       "      <td>Yes</td>\n",
       "      <td>Yes</td>\n",
       "      <td>No</td>\n",
       "      <td>0.0</td>\n",
       "      <td>Rarely</td>\n",
       "      <td>Rarely</td>\n",
       "      <td>North America</td>\n",
       "    </tr>\n",
       "  </tbody>\n",
       "</table>\n",
       "<p>3 rows × 25 columns</p>\n",
       "</div>"
      ],
      "text/plain": [
       "   Age Gender self_employed family_history  treatment    no_employees  \\\n",
       "0   37      f            No             No          1            6-25   \n",
       "1   44      m            No             No          0  More than 1000   \n",
       "2   32      m            No             No          0            6-25   \n",
       "\n",
       "  remote_work  tech_company    benefits care_options  ...  \\\n",
       "0       Never           1.0         Yes     Not sure  ...   \n",
       "1       Never           0.0  Don't know           No  ...   \n",
       "2       Never           1.0          No           No  ...   \n",
       "\n",
       "  phys_health_consequence     coworkers supervisor mental_health_interview  \\\n",
       "0                      No  Some of them        Yes                      No   \n",
       "1                      No            No         No                      No   \n",
       "2                      No           Yes        Yes                     Yes   \n",
       "\n",
       "  phys_health_interview mental_vs_physical obs_consequence  \\\n",
       "0                 Maybe                Yes             0.0   \n",
       "1                    No         Don't know             0.0   \n",
       "2                   Yes                 No             0.0   \n",
       "\n",
       "  work_treatment_interfere work_no_treatment_interfere      Continent  \n",
       "0                    Often                       Often  North America  \n",
       "1                   Rarely                      Rarely  North America  \n",
       "2                   Rarely                      Rarely  North America  \n",
       "\n",
       "[3 rows x 25 columns]"
      ]
     },
     "execution_count": 6,
     "metadata": {},
     "output_type": "execute_result"
    }
   ],
   "source": [
    "# We are loading the data in the state just before executing the categorical features encoding \n",
    "# that was needed to start applying a Prediction models.\n",
    "al_mental = pd.read_csv('14_16_pre_Encoder.csv')\n",
    "# we will remove the 'year' feature as we don't want our model to depend on that\n",
    "al_mental = al_mental.drop('year', axis = 1)\n",
    "al_mental.head(3)"
   ]
  },
  {
   "cell_type": "markdown",
   "id": "816704bf-2b1b-481e-9d62-8d492d2cace8",
   "metadata": {
    "editable": true,
    "slideshow": {
     "slide_type": ""
    },
    "tags": []
   },
   "source": [
    "[TOP](#topi)\n",
    "\n",
    "<a id='encoding'></a>\n",
    "## Feature encoding and Correlation Matrix\n",
    "We will notice that the correlation matrix looks different, depending on that how we encoded the features and what correlation methods are used: \n",
    "\n",
    "As we are only interested in the \"treatment\" feature and to save some space i will show only the correlation between treatment and the other features.\n",
    "\n",
    "We will create the following Matrices with the categorical data converted to numbers:\n",
    "1. *_def_correlation_matrix   - convert the categories of the features without ordering the answers\n",
    "2. *_mid_correlation_matrix   - convert the categories of the features by ordering the answers (from 'bad' to 'good') so that \"don't know\", \"Other\"  are in the middle\n",
    "3. *_left_correlation_matrix  - convert the categories of the features by ordering the answers(from 'bad' to 'good') so that \"don't know\", \"Other\"  are on the left\n",
    "4. *_right_correlation_matrix - convert the categories of the features by ordering the answers(from 'bad' to 'good') so that \"don't know\", \"Other\"  are on the right\n",
    "\n",
    "We will also use two different correlation methods : 'kendall', 'pearson' and 'spearman'"
   ]
  },
  {
   "cell_type": "code",
   "execution_count": 7,
   "id": "b077bba9-48f6-4302-859c-a973e42ed36c",
   "metadata": {
    "editable": true,
    "slideshow": {
     "slide_type": ""
    },
    "tags": []
   },
   "outputs": [],
   "source": [
    "# Lets create the categories\n",
    "def_categorii = SetCategorii(al_mental).get()\n",
    "mid_categorii = SetCategorii().get()"
   ]
  },
  {
   "cell_type": "code",
   "execution_count": 8,
   "id": "f7b36c26-ed06-4f86-8ac9-3ed9a036c6ab",
   "metadata": {},
   "outputs": [],
   "source": [
    "# I have already played with the categories and as configuring new categories requires input, i will set the values directly. \n",
    "# Playing with the order of categories combined with understanding of how the correlation methods work might result in some fun time :)\n",
    "\n",
    "left_categorii = [np.array([18, 19, 20, 21, 22, 23, 24, 25, 26, 27, 28, 29, 30, 31, 32, 33, 34, 35, 36, 37, 38, 39, 40, 41, 42, 43, 44, 45, 46, 47, 48, 49, 50, 51, 52, 53, 54, 55, 56, 57, 58, 59, 60, 61, 62, 63, 65, 66, 70], dtype=int), np.array([ 'other', 'f', 'm'], dtype=object), np.array(['No', 'Yes'], dtype=object), np.array([\"I don't know\", 'No', 'Yes'], dtype=object), np.array([0, 1], dtype=int), np.array(['1-5', '100-500', '26-100', '500-1000', '6-25', 'More than 1000'], dtype=object), np.array(['Never', 'Sometimes', 'Always'], dtype=object), np.array([0., 1.]), np.array([\"Don't know\", 'Not eligible for coverage / N/A', 'No', 'Yes'], dtype=object), np.array(['Not sure', 'No', 'Yes'], dtype=object), np.array([\"Don't know\", 'No', 'Yes'], dtype=object), np.array([\"Don't know\", 'No', 'Yes'], dtype=object), \n",
    "                  np.array([\"Don't know\", 'No', 'Yes'], dtype=object), np.array([\"Don't know\", 'Very difficult', 'Somewhat difficult', 'Neither easy nor difficult', 'Somewhat easy', 'Very easy'], dtype=object), np.array(['No', 'Maybe', 'Yes'], dtype=object), np.array(['No', 'Maybe', 'Yes'], dtype=object), np.array(['No', 'Maybe', 'Some of them', 'Yes'], dtype=object), np.array(['No', 'Maybe', 'Some of them', 'Yes'], dtype=object), np.array(['No', 'Maybe', 'Yes'], dtype=object), np.array(['No', 'Maybe', 'Yes'], dtype=object), np.array([\"Don't know\", 'No', 'Yes'], dtype=object), np.array([0., 1.]), np.array(['Not applicable to me', 'Never', 'Rarely', 'Sometimes', 'Often'], dtype=object), np.array(['Not applicable to me', 'Never', 'Rarely', 'Sometimes', 'Often'], dtype=object), np.array(['Africa', 'Asia', 'Europe', 'North America', 'Oceania', 'South America'], dtype=object)]\n",
    "\n",
    "right_categorii = [np.array([18, 19, 20, 21, 22, 23, 24, 25, 26, 27, 28, 29, 30, 31, 32, 33, 34, 35, 36, 37, 38, 39, 40, 41, 42, 43, 44, 45, 46, 47, 48, 49, 50, 51, 52, 53, 54, 55, 56, 57, 58, 59, 60, 61, 62, 63, 65, 66, 70], dtype=int), np.array(['f', 'm', 'other'], dtype=object), np.array(['No', 'Yes'], dtype=object), np.array(['No', 'Yes', \"I don't know\"], dtype=object), np.array([0, 1], dtype=int), np.array(['1-5', '100-500', '26-100', '500-1000', '6-25', 'More than 1000'], dtype=object), np.array(['Never', 'Sometimes', 'Always'], dtype=object), np.array([0., 1.]), np.array(['Not eligible for coverage / N/A', 'No', 'Yes', \"Don't know\"], dtype=object), np.array(['No', 'Yes', 'Not sure'], dtype=object), np.array(['No', 'Yes', \"Don't know\"], dtype=object), np.array(['No', 'Yes', \"Don't know\"], dtype=object), \n",
    "                   np.array(['No', 'Yes', \"Don't know\"], dtype=object), np.array(['Very difficult', 'Somewhat difficult', 'Neither easy nor difficult', 'Somewhat easy', 'Very easy', \"Don't know\"], dtype=object), np.array(['No', 'Maybe', 'Yes'], dtype=object), np.array(['No', 'Maybe', 'Yes'], dtype=object), np.array(['No', 'Maybe', 'Some of them', 'Yes'], dtype=object), np.array(['No', 'Maybe', 'Some of them', 'Yes'], dtype=object), np.array(['No', 'Maybe', 'Yes'], dtype=object), np.array(['No', 'Maybe', 'Yes'], dtype=object), np.array(['No', 'Yes', \"Don't know\"], dtype=object), np.array([0., 1.]), np.array(['Never', 'Rarely', 'Sometimes', 'Often', 'Not applicable to me'], dtype=object), np.array(['Never', 'Rarely', 'Sometimes', 'Often', 'Not applicable to me'], dtype=object), np.array(['Africa', 'Asia', 'Europe', 'North America', 'Oceania', 'South America'], dtype=object)]"
   ]
  },
  {
   "cell_type": "code",
   "execution_count": 9,
   "id": "b2dd0faa-32a1-4217-b92b-37637b931ad7",
   "metadata": {
    "editable": true,
    "slideshow": {
     "slide_type": ""
    },
    "tags": []
   },
   "outputs": [],
   "source": [
    "# Convert the dataset according to those categories \n",
    "def_categorii_data = create_categor_dataset(al_mental, categorii= def_categorii)\n",
    "mid_categorii_data = create_categor_dataset(al_mental, categorii= mid_categorii)\n",
    "left_categorii_data = create_categor_dataset(al_mental, categorii= left_categorii)\n",
    "right_categorii_data = create_categor_dataset(al_mental, categorii= right_categorii)\n",
    "\n",
    "# Create the correlation matrix for each with method= 'kendall'\n",
    "k_def_correlation_matrix = def_categorii_data.corr(method= 'kendall' , numeric_only = True)\n",
    "k_mid_correlation_matrix = mid_categorii_data.corr(method= 'kendall' , numeric_only = True)\n",
    "k_left_correlation_matrix = left_categorii_data.corr(method= 'kendall' , numeric_only = True)\n",
    "k_right_correlation_matrix = right_categorii_data.corr(method= 'kendall' , numeric_only = True)\n"
   ]
  },
  {
   "cell_type": "code",
   "execution_count": 10,
   "id": "a76a2cd5-e102-4a98-9fc6-f53ca919826f",
   "metadata": {
    "editable": true,
    "slideshow": {
     "slide_type": ""
    },
    "tags": []
   },
   "outputs": [
    {
     "data": {
      "image/png": "[encoded data removed]",
      "text/plain": [
       "<Figure size 800x800 with 5 Axes>"
      ]
     },
     "metadata": {},
     "output_type": "display_data"
    }
   ],
   "source": [
    "#plot the correlation matrices in respect to \"treatment\"\n",
    "fig, ((ax1, ax2, ax3, ax4)) = plt.subplots(1, 4, figsize=(8, 8))\n",
    "\n",
    "fig.suptitle('Kendall correlation betwen \"treatment\" and the other features', fontsize=16)\n",
    "fig.tight_layout(pad=2.0)\n",
    "\n",
    "g1 = sns.heatmap(k_def_correlation_matrix[['treatment']], annot=True, cmap='coolwarm', center=0, annot_kws={\"size\": 8}, fmt = '.2g', ax = ax1, cbar = False)\n",
    "g1.set_title( label = f'Default categories')\n",
    "\n",
    "g2 = sns.heatmap(k_left_correlation_matrix[['treatment']], annot=True, cmap='coolwarm', center=0, annot_kws={\"size\": 8}, fmt = '.2g', ax = ax2, yticklabels=False, cbar = False)\n",
    "g2.set_title( label = f'Ambiguous answers\\n on the left')\n",
    "\n",
    "g3 = sns.heatmap(k_mid_correlation_matrix[['treatment']], annot=True, cmap='coolwarm', center=0, annot_kws={\"size\": 8}, fmt = '.2g', ax = ax3, yticklabels=False, cbar = False)\n",
    "g3.set_title( label = f'Ambiguous answers\\n in the middle')\n",
    "\n",
    "g4 = sns.heatmap(k_right_correlation_matrix[['treatment']], annot=True, cmap='coolwarm', center=0, annot_kws={\"size\": 8}, fmt = '.2g', ax = ax4, yticklabels=False, cbar = True)\n",
    "g4.set_title( label = f'Ambiguous answers\\n on the right')\n",
    "\n",
    "plt.show()"
   ]
  },
  {
   "cell_type": "markdown",
   "id": "b4e2e438-3ffb-4aed-a20f-00cffdcd6825",
   "metadata": {
    "editable": true,
    "slideshow": {
     "slide_type": ""
    },
    "tags": []
   },
   "source": [
    "We can see there a some Features where order really changes the magnitude of the calculated relation. We are not so interested in the sign (positive or negative), but rather in the strength of the relation, as this will most probably affect the way some of the prediction models work. Bellow are show the answers for features mostly affected by the order.<br><br>\n",
    "We can identify that \"Left\" and \"Middle\" approach are better that the \"Right one\". From the \"Kendall\" method i select the left."
   ]
  },
  {
   "cell_type": "code",
   "execution_count": 11,
   "id": "13d177a4-a320-4178-b10b-01ab7ef5c5f9",
   "metadata": {},
   "outputs": [
    {
     "name": "stdout",
     "output_type": "stream",
     "text": [
      "Unique values for \"remote_work\"\n",
      "['Never' 'Sometimes' 'Always']\n",
      "---------------------------------------------------------------------------------\n",
      "\n",
      "Unique values for \"mental_health_consequence\"\n",
      "['No' 'Maybe' 'Yes']\n",
      "---------------------------------------------------------------------------------\n",
      "\n",
      "Unique values for \"mental_vs_physical\"\n",
      "['Yes' \"Don't know\" 'No']\n",
      "---------------------------------------------------------------------------------\n",
      "\n",
      "Unique values for \"work_treatment_interfere\"\n",
      "['Often' 'Rarely' 'Never' 'Sometimes' 'Not applicable to me']\n",
      "---------------------------------------------------------------------------------\n",
      "\n",
      "Unique values for \"work_no_treatment_interfere\"\n",
      "['Often' 'Rarely' 'Never' 'Sometimes' 'Not applicable to me']\n",
      "---------------------------------------------------------------------------------\n",
      "\n",
      "Unique values for \"leave\"\n",
      "['Somewhat easy' \"Don't know\" 'Somewhat difficult' 'Very difficult'\n",
      " 'Very easy' 'Neither easy nor difficult']\n",
      "---------------------------------------------------------------------------------\n",
      "\n"
     ]
    }
   ],
   "source": [
    "check_answers(al_mental,['remote_work', 'mental_health_consequence','mental_vs_physical', 'work_treatment_interfere', 'work_no_treatment_interfere', 'leave'])"
   ]
  },
  {
   "cell_type": "code",
   "execution_count": 12,
   "id": "a257e9bd-d7c5-467a-baba-bfa6f35e587d",
   "metadata": {},
   "outputs": [],
   "source": [
    "# Now lets compare the \"Left Kendall\" method with the \"Pearson method\" and \"Spearman method\"\n",
    "s_left_correlation_matrix = left_categorii_data.corr(method= 'spearman' , numeric_only = True)\n",
    "p_left_correlation_matrix = left_categorii_data.corr(method= 'pearson' , numeric_only = True)\n",
    "p_mid_correlation_matrix = mid_categorii_data.corr(method= 'pearson' , numeric_only = True)"
   ]
  },
  {
   "cell_type": "code",
   "execution_count": 13,
   "id": "956b0ae6-17cf-4b3a-97e7-bb75cc1d4c96",
   "metadata": {},
   "outputs": [
    {
     "data": {
      "image/png": "[encoded data removed]",
      "text/plain": [
       "<Figure size 800x800 with 5 Axes>"
      ]
     },
     "metadata": {},
     "output_type": "display_data"
    }
   ],
   "source": [
    "#plot the correlation matrices in respect to \"treatment\"\n",
    "fig, ((ax1, ax2, ax3, ax4)) = plt.subplots(1, 4, figsize=(8, 8))\n",
    "\n",
    "fig.suptitle('Kendall/Pearson/Spearman correlation betwen \"treatment\" and the other features', fontsize=16)\n",
    "fig.tight_layout(pad=2.0)\n",
    "\n",
    "g1 = sns.heatmap(k_left_correlation_matrix[['treatment']], annot=True, cmap='coolwarm', center=0, annot_kws={\"size\": 8}, fmt = '.2g', ax = ax1, cbar = False)\n",
    "g1.set_title( label = f'Kendall method\\n Left')\n",
    "\n",
    "g2 = sns.heatmap(s_left_correlation_matrix[['treatment']], annot=True, cmap='coolwarm', center=0, annot_kws={\"size\": 8}, fmt = '.2g', ax = ax2, yticklabels=False, cbar = False)\n",
    "g2.set_title( label = f'Spearman method\\n Left')\n",
    "\n",
    "g3 = sns.heatmap(p_left_correlation_matrix[['treatment']], annot=True, cmap='coolwarm', center=0, annot_kws={\"size\": 8}, fmt = '.2g', ax = ax3, yticklabels=False, cbar = False)\n",
    "g3.set_title( label = f'Pearson method\\n Left')\n",
    "\n",
    "g4 = sns.heatmap(p_mid_correlation_matrix[['treatment']], annot=True, cmap='coolwarm', center=0, annot_kws={\"size\": 8}, fmt = '.2g', ax = ax4, yticklabels=False, cbar = True)\n",
    "g4.set_title( label = f'Pearson method\\n Middle')\n",
    "\n",
    "plt.show()"
   ]
  },
  {
   "cell_type": "markdown",
   "id": "64cb6348-3a4c-4c17-9c77-49505fb4ac2a",
   "metadata": {},
   "source": [
    "Again the \"Left\" and \"Middle\" approach are better (This of course has all to do with the way those methods calculate correlations.).<br> <b>I will keep the categorically encoded dataset where the ambiguous answers are on the Left!"
   ]
  },
  {
   "cell_type": "markdown",
   "id": "9e786008-bf62-4bca-b5bc-a9535c5f9755",
   "metadata": {
    "editable": true,
    "slideshow": {
     "slide_type": ""
    },
    "tags": []
   },
   "source": [
    "[TOP](#topi)\n",
    "<a id='metrics'></a>\n",
    "# Choose the right metrics and Features\n",
    "\n",
    "We want to create a model that predicts who of our participants has asked for help based on the conditions he is working in. Our ultimate goal is to find individuals who might need help but still haven't asked for it, as those would be the people we have to address in the future and try to help them.<br>\n",
    "Thus lets make up our minds what we want our model to do:<br>\n",
    "1. We want high <b>Recall</b> - meaning we want to mach all the people who has asked for a treatment.\n",
    "2. We can accept medium Precision as this could mean we have identified people who need help but haven't looked for it yet - those False Positives might need to become True Positives \n",
    "3. Accuracy is still a good measure, we want to have high Accuracy, but it is really the Recall that i think we should try to improve!\n",
    "4. <b>F-score</b> is also good measure as it takes under consideration the recall and precision"
   ]
  },
  {
   "cell_type": "code",
   "execution_count": 14,
   "id": "795043f9-91b9-4b6a-ad8e-b309557c49b1",
   "metadata": {},
   "outputs": [],
   "source": [
    "l_X_norm, l_X, y = getting_x_y(left_categorii_data)"
   ]
  },
  {
   "cell_type": "markdown",
   "id": "98dec3ab-057d-4c17-9fa5-0826798c19dd",
   "metadata": {},
   "source": [
    "[TOP](#topi)\n",
    "<a id='lasso'></a>\n",
    "### Feature Selection via Lasso\n",
    "\n",
    "We will use Logistic regression as This is one of the models i have considered appropriate for the task. Further in the project we will discuss the Models i have selected."
   ]
  },
  {
   "cell_type": "code",
   "execution_count": 15,
   "id": "5404d637-d311-472b-84de-7b8645e22051",
   "metadata": {},
   "outputs": [
    {
     "name": "stdout",
     "output_type": "stream",
     "text": [
      "For regularization L1 with C = 0.3, we can remove the following features: ['self_employed']\n",
      "--------------------\n",
      "For regularization L1 with C = 0.2, we can remove the following features: ['self_employed', 'leave']\n",
      "--------------------\n",
      "For regularization L1 with C = 0.1, we can remove the following features: ['self_employed', 'leave', 'mental_health_consequence', 'mental_health_interview']\n",
      "--------------------\n",
      "For regularization L1 with C = 0.05, we can remove the following features: ['self_employed', 'tech_company', 'seek_help', 'leave', 'mental_health_consequence', 'coworkers', 'mental_health_interview', 'obs_consequence']\n",
      "--------------------\n",
      "For regularization L1 with C = 0.01, we can remove the following features: ['Age', 'self_employed', 'no_employees', 'remote_work', 'tech_company', 'benefits', 'care_options', 'wellness_program', 'seek_help', 'anonymity', 'leave', 'mental_health_consequence', 'phys_health_consequence', 'coworkers', 'supervisor', 'mental_health_interview', 'phys_health_interview', 'mental_vs_physical', 'obs_consequence', 'Continent']\n",
      "--------------------\n"
     ]
    }
   ],
   "source": [
    "# By decreasing C, we increase the regularization alpha => thus reducing more and more features(making them less important). Bellow are listed the the features that we can skip, based on the level of regularization\n",
    "for i in [0.3,0.2,0.1,0.05, 0.01]:\n",
    "    sel = SelectFromModel(estimator = LogisticRegression(C=i, class_weight= None, dual = False, fit_intercept= True, intercept_scaling= 1 , \n",
    "    max_iter= 100, multi_class= 'ovr', n_jobs=1, random_state=42, tol= 0.0001, verbose=0, warm_start= False, penalty='l1', solver = 'liblinear'),\n",
    "    prefit=False, threshold=None)\n",
    "    sel.fit(l_X_norm, y)\n",
    "    rfl1 = l_X_norm.columns[(sel.estimator_.coef_ == 0).ravel().tolist()]\n",
    "    print(f'For regularization L1 with C = {i}, we can remove the following features: {list(rfl1)}')\n",
    "    print(20*'-')\n",
    "    if i == 0.05 : removed_features_l1 = list(rfl1)"
   ]
  },
  {
   "cell_type": "markdown",
   "id": "006b7c7b-2d39-40ae-b638-3873d1c382f6",
   "metadata": {},
   "source": [
    "[TOP](#topi)\n",
    "\n",
    "<a id='sbs'></a>\n",
    "## Feature selection via sequential backward selection (SBS)\n",
    "\n",
    "A classic sequential feature selection algorithm is sequential backward selection (SBS), which aims to reduce the dimensionality of the initial feature subspace with minimum decay in the performance of the classifier to improve upon computation l efficiency. In certain cases, SBS can even improve the predictive power of the model if a model suffers overfit."
   ]
  },
  {
   "cell_type": "markdown",
   "id": "d190e2dc-3143-40a3-a7be-fb27651b87a8",
   "metadata": {},
   "source": [
    "I don't want to remove more than 30% of the features, as i am just not feeling comfortable with the idea of removing too many features. Thus i will run the SBS with the desire to leave at least 16 features in."
   ]
  },
  {
   "cell_type": "code",
   "execution_count": 16,
   "id": "6ed5d854-d34b-4ecb-94d4-8aed52123749",
   "metadata": {},
   "outputs": [
    {
     "data": {
      "image/png": "[encoded data removed]",
      "text/plain": [
       "<Figure size 1000x400 with 2 Axes>"
      ]
     },
     "metadata": {},
     "output_type": "display_data"
    }
   ],
   "source": [
    "# I want to rename the Column names to numbers so that i can easily execute the script\n",
    "X_sbs = l_X_norm.copy()\n",
    "X_sbs.columns = [i for i in range(X_sbs.shape[1])]\n",
    "\n",
    "# I will use again Logistic regression\n",
    "lg_sbs = LogisticRegression()\n",
    "sbs = SBS(lg_sbs, k_features=16, scoring = calc_metrics, scoring_metric= 'recall')\n",
    "sbs_accuracy = SBS(lg_sbs, k_features=16)\n",
    "sbs.fit(X_sbs, y)\n",
    "sbs_accuracy.fit(X_sbs, y)\n",
    "\n",
    "# and will plot the results\n",
    "k_feat = [len(k) for k in sbs.subsets_]\n",
    "k_feat_a = [len(k) for k in sbs_accuracy.subsets_]\n",
    "\n",
    "fig, (ax1, ax2) = plt.subplots(1, 2, figsize=(10, 4))\n",
    "\n",
    "ax1.plot(k_feat, sbs.scores_, marker='o')\n",
    "ax1.set_ylim([0.7, 1.02])\n",
    "ax1.set_ylabel(f'{sbs.scoring_metric}')\n",
    "ax1.set_xlabel('Number of features')\n",
    "ax1.grid()\n",
    "\n",
    "ax2.plot(k_feat, sbs_accuracy.scores_, marker='o')\n",
    "ax2.set_ylim([0.7, 1.02])\n",
    "ax2.set_ylabel(f'{sbs_accuracy.scoring_metric}')\n",
    "ax2.set_xlabel('Number of features')\n",
    "ax2.grid()\n",
    "\n",
    "plt.tight_layout()  \n",
    "\n",
    "plt.show()"
   ]
  },
  {
   "cell_type": "markdown",
   "id": "4733abc4-0af0-4646-824a-6040ec833447",
   "metadata": {},
   "source": [
    "<b> Please keep in mind that based on the Metric we use as a scoring metric, different features might get removed.<br>\n",
    "Meaning that the 16 features kept with metric = Recall are are different from the 16 features with metric = Accuracy</b><br>\n",
    "I have also checked the F_score and it stays stable."
   ]
  },
  {
   "cell_type": "code",
   "execution_count": 17,
   "id": "bf800c63-818b-4c07-977e-7fda2ffa2f62",
   "metadata": {},
   "outputs": [
    {
     "name": "stdout",
     "output_type": "stream",
     "text": [
      "8 ['Age', 'Gender', 'family_history', 'mental_health_consequence', 'supervisor', 'mental_health_interview', 'mental_vs_physical', 'Continent']\n"
     ]
    }
   ],
   "source": [
    "# removed features with metric = Recall:\n",
    "removed_features_sbs = [i for i in X_sbs.columns if i not in sbs.subsets_[-1]]\n",
    "removed_features_sbs = list(l_X_norm.columns[removed_features_sbs])\n",
    "print(len(removed_features_sbs), removed_features_sbs)"
   ]
  },
  {
   "cell_type": "code",
   "execution_count": 18,
   "id": "129f9593-d529-443c-97ed-a5667c639a28",
   "metadata": {},
   "outputs": [
    {
     "name": "stdout",
     "output_type": "stream",
     "text": [
      "16 ['self_employed', 'no_employees', 'remote_work', 'tech_company', 'benefits', 'care_options', 'wellness_program', 'seek_help', 'anonymity', 'leave', 'phys_health_consequence', 'coworkers', 'phys_health_interview', 'obs_consequence', 'work_treatment_interfere', 'work_no_treatment_interfere']\n"
     ]
    }
   ],
   "source": [
    "# Kept features with metric = Recall\n",
    "kept_features_sbs = list(sbs.subsets_[-1])\n",
    "print(len(l_X_norm.columns[kept_features_sbs]),list(l_X_norm.columns[kept_features_sbs]))"
   ]
  },
  {
   "cell_type": "markdown",
   "id": "f2c124ff-1c94-47e8-a462-9ce7eb5d1304",
   "metadata": {},
   "source": [
    "[TOP](#topi)\n",
    "<a id='forest'></a>\n",
    "### Feature Selection via Random Forest\n",
    "\n",
    "Random Forest is very good Model to be used when most of the data is categorical, thus we will definitely test a RF model. Using \n",
    "a random forest, we can measure the feature importance as the averaged impurit \r\n",
    "decrease computed from all decision trees in the fore.st"
   ]
  },
  {
   "cell_type": "code",
   "execution_count": 19,
   "id": "17186cd3-2b92-4cd3-9d2a-3fa551b0c158",
   "metadata": {},
   "outputs": [
    {
     "data": {
      "image/png": "[encoded data removed]",
      "text/plain": [
       "<Figure size 640x480 with 1 Axes>"
      ]
     },
     "metadata": {},
     "output_type": "display_data"
    }
   ],
   "source": [
    "feat_labels = l_X.columns\n",
    "removed_features_rf = []\n",
    "forest = RandomForestClassifier(n_estimators=500, random_state=42)\n",
    "l_X_train, l_X_test, l_y_train, l_y_test = train_test_split(l_X, y, test_size=0.33, random_state=42)\n",
    "\n",
    "forest.fit(l_X_train, l_y_train)\n",
    "\n",
    "importances = forest.feature_importances_\n",
    "indices = np.argsort(importances)[::-1]\n",
    "\n",
    "for f in range(l_X_train.shape[1]):\n",
    "    if importances[indices[f]] <0.02 : removed_features_rf.append(feat_labels[indices[f]])\n",
    "    # print(\"%2d) %-*s %f\" % (f + 1, 30, feat_labels[indices[f]], importances[indices[f]]))\n",
    "    \n",
    "plt.title('Feature Importance')\n",
    "plt.bar(range(l_X_train.shape[1]), importances[indices], align='center')\n",
    "plt.xticks(range(l_X_train.shape[1]), feat_labels[indices], rotation=90)\n",
    "plt.xlim([-1, l_X_train.shape[1]])\n",
    "plt.tight_layout()"
   ]
  },
  {
   "cell_type": "code",
   "execution_count": 20,
   "id": "e15a8f6a-1c31-44b5-b794-8529b29eb31a",
   "metadata": {},
   "outputs": [
    {
     "name": "stdout",
     "output_type": "stream",
     "text": [
      "seek_help\n",
      "mental_health_interview\n",
      "wellness_program\n",
      "phys_health_consequence\n",
      "anonymity\n",
      "tech_company\n",
      "obs_consequence\n",
      "self_employed\n"
     ]
    }
   ],
   "source": [
    "for f in range(l_X_train.shape[1]):\n",
    "    if importances[indices[f]] <0.02 : print(feat_labels[indices[f]])"
   ]
  },
  {
   "cell_type": "code",
   "execution_count": 21,
   "id": "e5587db7-aa0e-44d0-983d-ee7ba1055722",
   "metadata": {},
   "outputs": [
    {
     "data": {
      "text/plain": [
       "['seek_help',\n",
       " 'mental_health_interview',\n",
       " 'wellness_program',\n",
       " 'phys_health_consequence',\n",
       " 'anonymity',\n",
       " 'tech_company',\n",
       " 'obs_consequence',\n",
       " 'self_employed']"
      ]
     },
     "execution_count": 21,
     "metadata": {},
     "output_type": "execute_result"
    }
   ],
   "source": [
    "# We can see which are the most important features according to Random Forest Model in the chart above.\n",
    "# we can see bellow which features are bellow the 0.02 bar of importance I decided to use and could be removed \n",
    "list(removed_features_rf)"
   ]
  },
  {
   "cell_type": "markdown",
   "id": "08accfa7-1aa0-48b4-bfad-99de94a29ddc",
   "metadata": {},
   "source": [
    "[TOP](#topi)\n",
    "<a id='choose'></a>\n",
    "### Choosing the features to remove\n",
    "in conclusion i will cross reference the features from all the results above and will decide. I don't want to remove more than 8 features because i am worried. I don't know why i am worried, but it just feels risky to remove more than 33% of your features, even though for sure there are many Datasets for which this applies."
   ]
  },
  {
   "cell_type": "code",
   "execution_count": 22,
   "id": "ce9a633b-c558-497d-8ac0-205384ec9d3d",
   "metadata": {},
   "outputs": [
    {
     "name": "stdout",
     "output_type": "stream",
     "text": [
      "There are 17 features that are not so important according to the combined information. \n",
      "The following : ['tech_company', 'mental_health_interview', 'obs_consequence', 'mental_health_consequence', 'seek_help', 'self_employed'] \n",
      "are duplicated and I feel safe to remove them. Even though they are just 6, I do believe this is progress :)\n"
     ]
    }
   ],
   "source": [
    "# print(removed_features_rf)\n",
    "# print(removed_features_l1)\n",
    "# print(removed_features_sbs)\n",
    "rem_f_all = removed_features_rf+removed_features_l1+removed_features_sbs\n",
    "rem_f_dup = list(set([i for i in rem_f_all if rem_f_all.count(i) > 1]))\n",
    "print(f'There are {len(set(rem_f_all))} features that are not so important according to the combined information. ')\n",
    "print(f'The following : {rem_f_dup} \\nare duplicated and I feel safe to remove them. Even though they are just {len(rem_f_dup)}, I do believe this is progress :)')"
   ]
  },
  {
   "cell_type": "markdown",
   "id": "fb7d3c5b-ac94-4241-9413-d191306b30bf",
   "metadata": {},
   "source": [
    "<b>I will remove the features mentioned above</b>"
   ]
  },
  {
   "cell_type": "markdown",
   "id": "77332577-7a8e-4945-b969-51c55476ca54",
   "metadata": {},
   "source": [
    "[TOP](#topi)\n",
    "<a id='choose_data'></a>\n",
    "## Choosing Dataset and Model\n",
    "So far we have created a Dataset where we encoded the ambiguous answers on the left , thus giving them low value in the encoding. After we have completed the feature reduction i would like to create another Dataset using different Encoding.\n",
    "I also did some experiments with different models, that i will not add in this project and choose 3 of them: RandomForest, LogistigRegression and SupportVectorMachine. <br><br>\n",
    "I have made some tests and i prefer to do One Hot Encoding on all features in the dataset <b>but</b> the \"Age\" column. The reason is that if we OHE the age column this will lead to High Cardinality as the \"Age\" column has many unique values. In the previous project we noticed some strong dependencies between the some of the features, thus we also have Violation of the Independence Assumption, keeping the Age and normalizing the data we will be able to further use SVM model in our project.<br><br>\n",
    "As Random Forest doesn't care if the data is normalized or not, we will normalize the data. \n"
   ]
  },
  {
   "cell_type": "code",
   "execution_count": 23,
   "id": "56a81813-388a-4dc9-b3d6-54d6d88c1f1d",
   "metadata": {},
   "outputs": [
    {
     "data": {
      "text/html": [
       "<div>\n",
       "<style scoped>\n",
       "    .dataframe tbody tr th:only-of-type {\n",
       "        vertical-align: middle;\n",
       "    }\n",
       "\n",
       "    .dataframe tbody tr th {\n",
       "        vertical-align: top;\n",
       "    }\n",
       "\n",
       "    .dataframe thead th {\n",
       "        text-align: right;\n",
       "    }\n",
       "</style>\n",
       "<table border=\"1\" class=\"dataframe\">\n",
       "  <thead>\n",
       "    <tr style=\"text-align: right;\">\n",
       "      <th></th>\n",
       "      <th>Age</th>\n",
       "      <th>Gender</th>\n",
       "      <th>family_history</th>\n",
       "      <th>no_employees</th>\n",
       "      <th>remote_work</th>\n",
       "      <th>benefits</th>\n",
       "      <th>care_options</th>\n",
       "      <th>wellness_program</th>\n",
       "      <th>anonymity</th>\n",
       "      <th>leave</th>\n",
       "      <th>phys_health_consequence</th>\n",
       "      <th>coworkers</th>\n",
       "      <th>supervisor</th>\n",
       "      <th>phys_health_interview</th>\n",
       "      <th>mental_vs_physical</th>\n",
       "      <th>work_treatment_interfere</th>\n",
       "      <th>work_no_treatment_interfere</th>\n",
       "      <th>Continent</th>\n",
       "    </tr>\n",
       "  </thead>\n",
       "  <tbody>\n",
       "    <tr>\n",
       "      <th>0</th>\n",
       "      <td>0.502485</td>\n",
       "      <td>-1.604969</td>\n",
       "      <td>-0.503382</td>\n",
       "      <td>0.836159</td>\n",
       "      <td>-0.978573</td>\n",
       "      <td>1.070073</td>\n",
       "      <td>-1.071965</td>\n",
       "      <td>0.071925</td>\n",
       "      <td>1.639550</td>\n",
       "      <td>0.957125</td>\n",
       "      <td>-0.685943</td>\n",
       "      <td>0.558075</td>\n",
       "      <td>1.183238</td>\n",
       "      <td>0.192863</td>\n",
       "      <td>1.489966</td>\n",
       "      <td>1.653677</td>\n",
       "      <td>1.159304</td>\n",
       "      <td>0.472788</td>\n",
       "    </tr>\n",
       "    <tr>\n",
       "      <th>1</th>\n",
       "      <td>1.411669</td>\n",
       "      <td>0.535523</td>\n",
       "      <td>-0.503382</td>\n",
       "      <td>1.389597</td>\n",
       "      <td>-0.978573</td>\n",
       "      <td>-1.200860</td>\n",
       "      <td>0.152484</td>\n",
       "      <td>-1.544269</td>\n",
       "      <td>-0.654019</td>\n",
       "      <td>-1.080170</td>\n",
       "      <td>-0.685943</td>\n",
       "      <td>-1.351449</td>\n",
       "      <td>-1.277088</td>\n",
       "      <td>-1.171463</td>\n",
       "      <td>-0.899341</td>\n",
       "      <td>0.197178</td>\n",
       "      <td>-0.117458</td>\n",
       "      <td>0.472788</td>\n",
       "    </tr>\n",
       "    <tr>\n",
       "      <th>2</th>\n",
       "      <td>-0.146932</td>\n",
       "      <td>0.535523</td>\n",
       "      <td>-0.503382</td>\n",
       "      <td>0.836159</td>\n",
       "      <td>-0.978573</td>\n",
       "      <td>0.313095</td>\n",
       "      <td>0.152484</td>\n",
       "      <td>0.071925</td>\n",
       "      <td>-0.654019</td>\n",
       "      <td>-0.061523</td>\n",
       "      <td>-0.685943</td>\n",
       "      <td>1.512837</td>\n",
       "      <td>1.183238</td>\n",
       "      <td>1.557188</td>\n",
       "      <td>0.295313</td>\n",
       "      <td>0.197178</td>\n",
       "      <td>-0.117458</td>\n",
       "      <td>0.472788</td>\n",
       "    </tr>\n",
       "  </tbody>\n",
       "</table>\n",
       "</div>"
      ],
      "text/plain": [
       "        Age    Gender  family_history  no_employees  remote_work  benefits  \\\n",
       "0  0.502485 -1.604969       -0.503382      0.836159    -0.978573  1.070073   \n",
       "1  1.411669  0.535523       -0.503382      1.389597    -0.978573 -1.200860   \n",
       "2 -0.146932  0.535523       -0.503382      0.836159    -0.978573  0.313095   \n",
       "\n",
       "   care_options  wellness_program  anonymity     leave  \\\n",
       "0     -1.071965          0.071925   1.639550  0.957125   \n",
       "1      0.152484         -1.544269  -0.654019 -1.080170   \n",
       "2      0.152484          0.071925  -0.654019 -0.061523   \n",
       "\n",
       "   phys_health_consequence  coworkers  supervisor  phys_health_interview  \\\n",
       "0                -0.685943   0.558075    1.183238               0.192863   \n",
       "1                -0.685943  -1.351449   -1.277088              -1.171463   \n",
       "2                -0.685943   1.512837    1.183238               1.557188   \n",
       "\n",
       "   mental_vs_physical  work_treatment_interfere  work_no_treatment_interfere  \\\n",
       "0            1.489966                  1.653677                     1.159304   \n",
       "1           -0.899341                  0.197178                    -0.117458   \n",
       "2            0.295313                  0.197178                    -0.117458   \n",
       "\n",
       "   Continent  \n",
       "0   0.472788  \n",
       "1   0.472788  \n",
       "2   0.472788  "
      ]
     },
     "execution_count": 23,
     "metadata": {},
     "output_type": "execute_result"
    }
   ],
   "source": [
    "# Here is the encoding we aready used\n",
    "scaler = StandardScaler()\n",
    "\n",
    "ord_enc_data = left_categorii_data.drop(rem_f_dup, axis = 1).copy()\n",
    "ord_enc_data_y = ord_enc_data.treatment.copy()\n",
    "ord_enc_data = ord_enc_data.drop('treatment', axis = 1).copy()\n",
    "ord_enc_data =  pd.DataFrame(scaler.fit_transform(ord_enc_data), columns= ord_enc_data.columns)\n",
    "ord_enc_data.head(3)"
   ]
  },
  {
   "cell_type": "code",
   "execution_count": 24,
   "id": "68043de2-142b-44c2-a3c9-d144adae2196",
   "metadata": {},
   "outputs": [
    {
     "name": "stdout",
     "output_type": "stream",
     "text": [
      " The following features will be used :\n",
      "['Age', 'Gender', 'family_history', 'no_employees', 'remote_work', 'benefits', 'care_options', 'wellness_program', 'anonymity', 'leave', 'phys_health_consequence', 'coworkers', 'supervisor', 'phys_health_interview', 'mental_vs_physical', 'work_treatment_interfere', 'work_no_treatment_interfere', 'Continent']\n"
     ]
    }
   ],
   "source": [
    "features_to_be_used = list(ord_enc_data.columns)\n",
    "print(f' The following features will be used :\\n{features_to_be_used}')"
   ]
  },
  {
   "cell_type": "code",
   "execution_count": 25,
   "id": "f803ec0f-db8a-4908-bc59-626a2eefcecb",
   "metadata": {},
   "outputs": [
    {
     "name": "stdout",
     "output_type": "stream",
     "text": [
      "Shape of the new OHE DataFrame (2674, 68)\n"
     ]
    },
    {
     "data": {
      "text/html": [
       "<div>\n",
       "<style scoped>\n",
       "    .dataframe tbody tr th:only-of-type {\n",
       "        vertical-align: middle;\n",
       "    }\n",
       "\n",
       "    .dataframe tbody tr th {\n",
       "        vertical-align: top;\n",
       "    }\n",
       "\n",
       "    .dataframe thead th {\n",
       "        text-align: right;\n",
       "    }\n",
       "</style>\n",
       "<table border=\"1\" class=\"dataframe\">\n",
       "  <thead>\n",
       "    <tr style=\"text-align: right;\">\n",
       "      <th></th>\n",
       "      <th>Age</th>\n",
       "      <th>Gender_f</th>\n",
       "      <th>Gender_m</th>\n",
       "      <th>Gender_other</th>\n",
       "      <th>family_history_I don't know</th>\n",
       "      <th>family_history_No</th>\n",
       "      <th>family_history_Yes</th>\n",
       "      <th>no_employees_1-5</th>\n",
       "      <th>no_employees_100-500</th>\n",
       "      <th>no_employees_26-100</th>\n",
       "      <th>...</th>\n",
       "      <th>work_no_treatment_interfere_Not applicable to me</th>\n",
       "      <th>work_no_treatment_interfere_Often</th>\n",
       "      <th>work_no_treatment_interfere_Rarely</th>\n",
       "      <th>work_no_treatment_interfere_Sometimes</th>\n",
       "      <th>Continent_Africa</th>\n",
       "      <th>Continent_Asia</th>\n",
       "      <th>Continent_Europe</th>\n",
       "      <th>Continent_North America</th>\n",
       "      <th>Continent_Oceania</th>\n",
       "      <th>Continent_South America</th>\n",
       "    </tr>\n",
       "  </thead>\n",
       "  <tbody>\n",
       "    <tr>\n",
       "      <th>0</th>\n",
       "      <td>0.501403</td>\n",
       "      <td>1.0</td>\n",
       "      <td>0.0</td>\n",
       "      <td>0.0</td>\n",
       "      <td>0.0</td>\n",
       "      <td>1.0</td>\n",
       "      <td>0.0</td>\n",
       "      <td>0.0</td>\n",
       "      <td>0.0</td>\n",
       "      <td>0.0</td>\n",
       "      <td>...</td>\n",
       "      <td>0.0</td>\n",
       "      <td>1.0</td>\n",
       "      <td>0.0</td>\n",
       "      <td>0.0</td>\n",
       "      <td>0.0</td>\n",
       "      <td>0.0</td>\n",
       "      <td>0.0</td>\n",
       "      <td>1.0</td>\n",
       "      <td>0.0</td>\n",
       "      <td>0.0</td>\n",
       "    </tr>\n",
       "    <tr>\n",
       "      <th>1</th>\n",
       "      <td>1.409245</td>\n",
       "      <td>0.0</td>\n",
       "      <td>1.0</td>\n",
       "      <td>0.0</td>\n",
       "      <td>0.0</td>\n",
       "      <td>1.0</td>\n",
       "      <td>0.0</td>\n",
       "      <td>0.0</td>\n",
       "      <td>0.0</td>\n",
       "      <td>0.0</td>\n",
       "      <td>...</td>\n",
       "      <td>0.0</td>\n",
       "      <td>0.0</td>\n",
       "      <td>1.0</td>\n",
       "      <td>0.0</td>\n",
       "      <td>0.0</td>\n",
       "      <td>0.0</td>\n",
       "      <td>0.0</td>\n",
       "      <td>1.0</td>\n",
       "      <td>0.0</td>\n",
       "      <td>0.0</td>\n",
       "    </tr>\n",
       "    <tr>\n",
       "      <th>2</th>\n",
       "      <td>-0.147055</td>\n",
       "      <td>0.0</td>\n",
       "      <td>1.0</td>\n",
       "      <td>0.0</td>\n",
       "      <td>0.0</td>\n",
       "      <td>1.0</td>\n",
       "      <td>0.0</td>\n",
       "      <td>0.0</td>\n",
       "      <td>0.0</td>\n",
       "      <td>0.0</td>\n",
       "      <td>...</td>\n",
       "      <td>0.0</td>\n",
       "      <td>0.0</td>\n",
       "      <td>1.0</td>\n",
       "      <td>0.0</td>\n",
       "      <td>0.0</td>\n",
       "      <td>0.0</td>\n",
       "      <td>0.0</td>\n",
       "      <td>1.0</td>\n",
       "      <td>0.0</td>\n",
       "      <td>0.0</td>\n",
       "    </tr>\n",
       "  </tbody>\n",
       "</table>\n",
       "<p>3 rows × 68 columns</p>\n",
       "</div>"
      ],
      "text/plain": [
       "        Age  Gender_f  Gender_m  Gender_other  family_history_I don't know  \\\n",
       "0  0.501403       1.0       0.0           0.0                          0.0   \n",
       "1  1.409245       0.0       1.0           0.0                          0.0   \n",
       "2 -0.147055       0.0       1.0           0.0                          0.0   \n",
       "\n",
       "   family_history_No  family_history_Yes  no_employees_1-5  \\\n",
       "0                1.0                 0.0               0.0   \n",
       "1                1.0                 0.0               0.0   \n",
       "2                1.0                 0.0               0.0   \n",
       "\n",
       "   no_employees_100-500  no_employees_26-100  ...  \\\n",
       "0                   0.0                  0.0  ...   \n",
       "1                   0.0                  0.0  ...   \n",
       "2                   0.0                  0.0  ...   \n",
       "\n",
       "   work_no_treatment_interfere_Not applicable to me  \\\n",
       "0                                               0.0   \n",
       "1                                               0.0   \n",
       "2                                               0.0   \n",
       "\n",
       "   work_no_treatment_interfere_Often  work_no_treatment_interfere_Rarely  \\\n",
       "0                                1.0                                 0.0   \n",
       "1                                0.0                                 1.0   \n",
       "2                                0.0                                 1.0   \n",
       "\n",
       "   work_no_treatment_interfere_Sometimes  Continent_Africa  Continent_Asia  \\\n",
       "0                                    0.0               0.0             0.0   \n",
       "1                                    0.0               0.0             0.0   \n",
       "2                                    0.0               0.0             0.0   \n",
       "\n",
       "   Continent_Europe  Continent_North America  Continent_Oceania  \\\n",
       "0               0.0                      1.0                0.0   \n",
       "1               0.0                      1.0                0.0   \n",
       "2               0.0                      1.0                0.0   \n",
       "\n",
       "   Continent_South America  \n",
       "0                      0.0  \n",
       "1                      0.0  \n",
       "2                      0.0  \n",
       "\n",
       "[3 rows x 68 columns]"
      ]
     },
     "execution_count": 25,
     "metadata": {},
     "output_type": "execute_result"
    }
   ],
   "source": [
    "#  Here we will use OneHotEncoding \n",
    "\n",
    "one_hot_enc_data = al_mental.drop(rem_f_dup, axis = 1).copy()\n",
    "one_hot_enc_data_y = one_hot_enc_data.treatment.copy()\n",
    "one_hot_enc_data = one_hot_enc_data.drop('treatment', axis = 1).copy()\n",
    "\n",
    "# There is no need to encode the Age column\n",
    "oh_enc = OneHotEncoder()\n",
    "one_hot_enc_data = pd.concat([one_hot_enc_data.iloc[:,0],pd.DataFrame(oh_enc.fit_transform(one_hot_enc_data.iloc[:,1:]).toarray(), \n",
    "                                                                      columns= oh_enc.get_feature_names_out())], axis = 1)\n",
    "one_hot_enc_data['Age'] =  scaler.fit_transform(one_hot_enc_data['Age'].values.reshape(-1, 1))\n",
    "\n",
    "\n",
    "print(f'Shape of the new OHE DataFrame {one_hot_enc_data.shape}')\n",
    "one_hot_enc_data.head(3)"
   ]
  },
  {
   "cell_type": "code",
   "execution_count": 26,
   "id": "db7eded4-3db3-4ef5-b5f8-48ce6d0db3df",
   "metadata": {},
   "outputs": [],
   "source": [
    "d_one_hot = {}\n",
    "d_ord_enc = {}\n",
    "for i in [LogisticRegression(), RandomForestClassifier(),SVC()]:\n",
    "    cv = cross_valid_mean(i, one_hot_enc_data, one_hot_enc_data_y)\n",
    "    d_one_hot[f\"{i} mean recall\"] = cv['test_recall']\n",
    "    d_one_hot[f\"{i} mean f1\"] = cv['test_f1']\n",
    "    cv1 = cross_valid_mean(i, ord_enc_data, ord_enc_data_y)\n",
    "    d_ord_enc[f\"{i} mean recall\"] = cv1['test_recall']\n",
    "    d_ord_enc[f\"{i} mean f1\"] = cv1['test_f1']"
   ]
  },
  {
   "cell_type": "code",
   "execution_count": 27,
   "id": "d6915ea2-c046-4688-b40b-3f8629827cae",
   "metadata": {},
   "outputs": [
    {
     "data": {
      "text/html": [
       "<div>\n",
       "<style scoped>\n",
       "    .dataframe tbody tr th:only-of-type {\n",
       "        vertical-align: middle;\n",
       "    }\n",
       "\n",
       "    .dataframe tbody tr th {\n",
       "        vertical-align: top;\n",
       "    }\n",
       "\n",
       "    .dataframe thead th {\n",
       "        text-align: right;\n",
       "    }\n",
       "</style>\n",
       "<table border=\"1\" class=\"dataframe\">\n",
       "  <thead>\n",
       "    <tr style=\"text-align: right;\">\n",
       "      <th></th>\n",
       "      <th>LogisticRegression() mean recall</th>\n",
       "      <th>LogisticRegression() mean f1</th>\n",
       "      <th>RandomForestClassifier() mean recall</th>\n",
       "      <th>RandomForestClassifier() mean f1</th>\n",
       "      <th>SVC() mean recall</th>\n",
       "      <th>SVC() mean f1</th>\n",
       "    </tr>\n",
       "  </thead>\n",
       "  <tbody>\n",
       "    <tr>\n",
       "      <th>One Hot Encoded data</th>\n",
       "      <td>0.876308</td>\n",
       "      <td>0.847335</td>\n",
       "      <td>0.887229</td>\n",
       "      <td>0.847540</td>\n",
       "      <td>0.913855</td>\n",
       "      <td>0.859985</td>\n",
       "    </tr>\n",
       "    <tr>\n",
       "      <th>Ordenary Encooded data</th>\n",
       "      <td>0.877638</td>\n",
       "      <td>0.842668</td>\n",
       "      <td>0.881762</td>\n",
       "      <td>0.845619</td>\n",
       "      <td>0.898836</td>\n",
       "      <td>0.849447</td>\n",
       "    </tr>\n",
       "  </tbody>\n",
       "</table>\n",
       "</div>"
      ],
      "text/plain": [
       "                        LogisticRegression() mean recall  \\\n",
       "One Hot Encoded data                            0.876308   \n",
       "Ordenary Encooded data                          0.877638   \n",
       "\n",
       "                        LogisticRegression() mean f1  \\\n",
       "One Hot Encoded data                        0.847335   \n",
       "Ordenary Encooded data                      0.842668   \n",
       "\n",
       "                        RandomForestClassifier() mean recall  \\\n",
       "One Hot Encoded data                                0.887229   \n",
       "Ordenary Encooded data                              0.881762   \n",
       "\n",
       "                        RandomForestClassifier() mean f1  SVC() mean recall  \\\n",
       "One Hot Encoded data                            0.847540           0.913855   \n",
       "Ordenary Encooded data                          0.845619           0.898836   \n",
       "\n",
       "                        SVC() mean f1  \n",
       "One Hot Encoded data         0.859985  \n",
       "Ordenary Encooded data       0.849447  "
      ]
     },
     "execution_count": 27,
     "metadata": {},
     "output_type": "execute_result"
    }
   ],
   "source": [
    "pd.concat([pd.DataFrame(d_one_hot, index=['One Hot Encoded data ']), pd.DataFrame(d_ord_enc, index = ['Ordenary Encooded data'])])"
   ]
  },
  {
   "cell_type": "markdown",
   "id": "36b8a80e-a58d-4088-af2d-8274752221c4",
   "metadata": {},
   "source": [
    "In the table above we can compare the mean Recall and F_score for those 3 models using the two datasets. The tests were performed with 5 Cross validation sets, and the mean of the results was taken. We used the default parameters for the models.<br>\n",
    "We can see that the One Hot Encoded data brings just a bit better results and that Random Forest and SVM are better than Logistic Regression.<br>\n",
    "Thus we will use the One Hot Encoded dataset from this point on.\n"
   ]
  },
  {
   "cell_type": "markdown",
   "id": "6fff730b-e9e0-4d18-8fa8-d68acdc54613",
   "metadata": {},
   "source": [
    "[TOP](#topi)\n",
    "<a id=\"tune\"></a>\n",
    "## Fine Tuning the Models"
   ]
  },
  {
   "cell_type": "code",
   "execution_count": 28,
   "id": "1e426cfc-5914-41ac-beee-921bf48661a7",
   "metadata": {},
   "outputs": [],
   "source": [
    "X_train, X_test, y_train, y_test = train_test_split(one_hot_enc_data, one_hot_enc_data_y, test_size=0.25, random_state=42)"
   ]
  },
  {
   "cell_type": "markdown",
   "id": "cbc8542f-65f0-451d-ac10-89d54986b8ad",
   "metadata": {},
   "source": [
    "### Random Forest\n",
    "We will use GridSearchCV. I have played for some time with Different parameters and have read a bit about how to work with Random Forest.<br>\n",
    "I decided to explore low \"depth\" options as i want to avoid over fitting and also my data is not really that much. I also decided to use $max\\_features=log_2(n\\_features)$ as a number of feature to take a splitting decision.<br>\n",
    "\n",
    "\n",
    "Also we want the fit to be determined by the Recall score.\n"
   ]
  },
  {
   "cell_type": "code",
   "execution_count": 29,
   "id": "bd57d980-6eee-45b4-87b9-9529c93380ab",
   "metadata": {},
   "outputs": [
    {
     "data": {
      "text/html": [
       "<style>#sk-container-id-1 {color: black;background-color: white;}#sk-container-id-1 pre{padding: 0;}#sk-container-id-1 div.sk-toggleable {background-color: white;}#sk-container-id-1 label.sk-toggleable__label {cursor: pointer;display: block;width: 100%;margin-bottom: 0;padding: 0.3em;box-sizing: border-box;text-align: center;}#sk-container-id-1 label.sk-toggleable__label-arrow:before {content: \"▸\";float: left;margin-right: 0.25em;color: #696969;}#sk-container-id-1 label.sk-toggleable__label-arrow:hover:before {color: black;}#sk-container-id-1 div.sk-estimator:hover label.sk-toggleable__label-arrow:before {color: black;}#sk-container-id-1 div.sk-toggleable__content {max-height: 0;max-width: 0;overflow: hidden;text-align: left;background-color: #f0f8ff;}#sk-container-id-1 div.sk-toggleable__content pre {margin: 0.2em;color: black;border-radius: 0.25em;background-color: #f0f8ff;}#sk-container-id-1 input.sk-toggleable__control:checked~div.sk-toggleable__content {max-height: 200px;max-width: 100%;overflow: auto;}#sk-container-id-1 input.sk-toggleable__control:checked~label.sk-toggleable__label-arrow:before {content: \"▾\";}#sk-container-id-1 div.sk-estimator input.sk-toggleable__control:checked~label.sk-toggleable__label {background-color: #d4ebff;}#sk-container-id-1 div.sk-label input.sk-toggleable__control:checked~label.sk-toggleable__label {background-color: #d4ebff;}#sk-container-id-1 input.sk-hidden--visually {border: 0;clip: rect(1px 1px 1px 1px);clip: rect(1px, 1px, 1px, 1px);height: 1px;margin: -1px;overflow: hidden;padding: 0;position: absolute;width: 1px;}#sk-container-id-1 div.sk-estimator {font-family: monospace;background-color: #f0f8ff;border: 1px dotted black;border-radius: 0.25em;box-sizing: border-box;margin-bottom: 0.5em;}#sk-container-id-1 div.sk-estimator:hover {background-color: #d4ebff;}#sk-container-id-1 div.sk-parallel-item::after {content: \"\";width: 100%;border-bottom: 1px solid gray;flex-grow: 1;}#sk-container-id-1 div.sk-label:hover label.sk-toggleable__label {background-color: #d4ebff;}#sk-container-id-1 div.sk-serial::before {content: \"\";position: absolute;border-left: 1px solid gray;box-sizing: border-box;top: 0;bottom: 0;left: 50%;z-index: 0;}#sk-container-id-1 div.sk-serial {display: flex;flex-direction: column;align-items: center;background-color: white;padding-right: 0.2em;padding-left: 0.2em;position: relative;}#sk-container-id-1 div.sk-item {position: relative;z-index: 1;}#sk-container-id-1 div.sk-parallel {display: flex;align-items: stretch;justify-content: center;background-color: white;position: relative;}#sk-container-id-1 div.sk-item::before, #sk-container-id-1 div.sk-parallel-item::before {content: \"\";position: absolute;border-left: 1px solid gray;box-sizing: border-box;top: 0;bottom: 0;left: 50%;z-index: -1;}#sk-container-id-1 div.sk-parallel-item {display: flex;flex-direction: column;z-index: 1;position: relative;background-color: white;}#sk-container-id-1 div.sk-parallel-item:first-child::after {align-self: flex-end;width: 50%;}#sk-container-id-1 div.sk-parallel-item:last-child::after {align-self: flex-start;width: 50%;}#sk-container-id-1 div.sk-parallel-item:only-child::after {width: 0;}#sk-container-id-1 div.sk-dashed-wrapped {border: 1px dashed gray;margin: 0 0.4em 0.5em 0.4em;box-sizing: border-box;padding-bottom: 0.4em;background-color: white;}#sk-container-id-1 div.sk-label label {font-family: monospace;font-weight: bold;display: inline-block;line-height: 1.2em;}#sk-container-id-1 div.sk-label-container {text-align: center;}#sk-container-id-1 div.sk-container {/* jupyter's `normalize.less` sets `[hidden] { display: none; }` but bootstrap.min.css set `[hidden] { display: none !important; }` so we also need the `!important` here to be able to override the default hidden behavior on the sphinx rendered scikit-learn.org. See: https://github.com/scikit-learn/scikit-learn/issues/21755 */display: inline-block !important;position: relative;}#sk-container-id-1 div.sk-text-repr-fallback {display: none;}</style><div id=\"sk-container-id-1\" class=\"sk-top-container\"><div class=\"sk-text-repr-fallback\"><pre>GridSearchCV(estimator=RandomForestClassifier(max_features=&#x27;log2&#x27;),\n",
       "             param_grid={&#x27;max_depth&#x27;: [2, 3, 5, 7],\n",
       "                         &#x27;max_leaf_nodes&#x27;: [3, 9, 15, None],\n",
       "                         &#x27;max_samples&#x27;: [0.25, 0.5, 0.75],\n",
       "                         &#x27;n_estimators&#x27;: [50, 75, 125], &#x27;random_state&#x27;: [42]},\n",
       "             refit=&#x27;recall&#x27;, scoring=[&#x27;recall&#x27;, &#x27;f1&#x27;])</pre><b>In a Jupyter environment, please rerun this cell to show the HTML representation or trust the notebook. <br />On GitHub, the HTML representation is unable to render, please try loading this page with nbviewer.org.</b></div><div class=\"sk-container\" hidden><div class=\"sk-item sk-dashed-wrapped\"><div class=\"sk-label-container\"><div class=\"sk-label sk-toggleable\"><input class=\"sk-toggleable__control sk-hidden--visually\" id=\"sk-estimator-id-1\" type=\"checkbox\" ><label for=\"sk-estimator-id-1\" class=\"sk-toggleable__label sk-toggleable__label-arrow\">GridSearchCV</label><div class=\"sk-toggleable__content\"><pre>GridSearchCV(estimator=RandomForestClassifier(max_features=&#x27;log2&#x27;),\n",
       "             param_grid={&#x27;max_depth&#x27;: [2, 3, 5, 7],\n",
       "                         &#x27;max_leaf_nodes&#x27;: [3, 9, 15, None],\n",
       "                         &#x27;max_samples&#x27;: [0.25, 0.5, 0.75],\n",
       "                         &#x27;n_estimators&#x27;: [50, 75, 125], &#x27;random_state&#x27;: [42]},\n",
       "             refit=&#x27;recall&#x27;, scoring=[&#x27;recall&#x27;, &#x27;f1&#x27;])</pre></div></div></div><div class=\"sk-parallel\"><div class=\"sk-parallel-item\"><div class=\"sk-item\"><div class=\"sk-label-container\"><div class=\"sk-label sk-toggleable\"><input class=\"sk-toggleable__control sk-hidden--visually\" id=\"sk-estimator-id-2\" type=\"checkbox\" ><label for=\"sk-estimator-id-2\" class=\"sk-toggleable__label sk-toggleable__label-arrow\">estimator: RandomForestClassifier</label><div class=\"sk-toggleable__content\"><pre>RandomForestClassifier(max_features=&#x27;log2&#x27;)</pre></div></div></div><div class=\"sk-serial\"><div class=\"sk-item\"><div class=\"sk-estimator sk-toggleable\"><input class=\"sk-toggleable__control sk-hidden--visually\" id=\"sk-estimator-id-3\" type=\"checkbox\" ><label for=\"sk-estimator-id-3\" class=\"sk-toggleable__label sk-toggleable__label-arrow\">RandomForestClassifier</label><div class=\"sk-toggleable__content\"><pre>RandomForestClassifier(max_features=&#x27;log2&#x27;)</pre></div></div></div></div></div></div></div></div></div></div>"
      ],
      "text/plain": [
       "GridSearchCV(estimator=RandomForestClassifier(max_features='log2'),\n",
       "             param_grid={'max_depth': [2, 3, 5, 7],\n",
       "                         'max_leaf_nodes': [3, 9, 15, None],\n",
       "                         'max_samples': [0.25, 0.5, 0.75],\n",
       "                         'n_estimators': [50, 75, 125], 'random_state': [42]},\n",
       "             refit='recall', scoring=['recall', 'f1'])"
      ]
     },
     "execution_count": 29,
     "metadata": {},
     "output_type": "execute_result"
    }
   ],
   "source": [
    "# ###########  the code bellow is commented in order to be loose time when the code is rerun ##########\n",
    "# rf_parameters = {'n_estimators' : [50,75,125], 'random_state' : [42], 'max_samples' : [0.25,0.5,0.75], 'max_depth' : [2,3,5,7], \n",
    "#                  'max_leaf_nodes' : [3,9,15,None]}\n",
    "# rand_forest = RandomForestClassifier(max_features = \"log2\")\n",
    "# gs_rf = GridSearchCV(rand_forest, rf_parameters, scoring = ['recall', 'f1'], refit = 'recall')\n",
    "# gs_rf.fit(X_train, y_train)"
   ]
  },
  {
   "cell_type": "code",
   "execution_count": 30,
   "id": "46715c71-624d-4378-a488-d2599ede9eaa",
   "metadata": {},
   "outputs": [
    {
     "name": "stdout",
     "output_type": "stream",
     "text": [
      "Best Recall score = 0.9301018898237011 , achieved with the following model on the training data:\n"
     ]
    },
    {
     "data": {
      "text/html": [
       "<style>#sk-container-id-2 {color: black;background-color: white;}#sk-container-id-2 pre{padding: 0;}#sk-container-id-2 div.sk-toggleable {background-color: white;}#sk-container-id-2 label.sk-toggleable__label {cursor: pointer;display: block;width: 100%;margin-bottom: 0;padding: 0.3em;box-sizing: border-box;text-align: center;}#sk-container-id-2 label.sk-toggleable__label-arrow:before {content: \"▸\";float: left;margin-right: 0.25em;color: #696969;}#sk-container-id-2 label.sk-toggleable__label-arrow:hover:before {color: black;}#sk-container-id-2 div.sk-estimator:hover label.sk-toggleable__label-arrow:before {color: black;}#sk-container-id-2 div.sk-toggleable__content {max-height: 0;max-width: 0;overflow: hidden;text-align: left;background-color: #f0f8ff;}#sk-container-id-2 div.sk-toggleable__content pre {margin: 0.2em;color: black;border-radius: 0.25em;background-color: #f0f8ff;}#sk-container-id-2 input.sk-toggleable__control:checked~div.sk-toggleable__content {max-height: 200px;max-width: 100%;overflow: auto;}#sk-container-id-2 input.sk-toggleable__control:checked~label.sk-toggleable__label-arrow:before {content: \"▾\";}#sk-container-id-2 div.sk-estimator input.sk-toggleable__control:checked~label.sk-toggleable__label {background-color: #d4ebff;}#sk-container-id-2 div.sk-label input.sk-toggleable__control:checked~label.sk-toggleable__label {background-color: #d4ebff;}#sk-container-id-2 input.sk-hidden--visually {border: 0;clip: rect(1px 1px 1px 1px);clip: rect(1px, 1px, 1px, 1px);height: 1px;margin: -1px;overflow: hidden;padding: 0;position: absolute;width: 1px;}#sk-container-id-2 div.sk-estimator {font-family: monospace;background-color: #f0f8ff;border: 1px dotted black;border-radius: 0.25em;box-sizing: border-box;margin-bottom: 0.5em;}#sk-container-id-2 div.sk-estimator:hover {background-color: #d4ebff;}#sk-container-id-2 div.sk-parallel-item::after {content: \"\";width: 100%;border-bottom: 1px solid gray;flex-grow: 1;}#sk-container-id-2 div.sk-label:hover label.sk-toggleable__label {background-color: #d4ebff;}#sk-container-id-2 div.sk-serial::before {content: \"\";position: absolute;border-left: 1px solid gray;box-sizing: border-box;top: 0;bottom: 0;left: 50%;z-index: 0;}#sk-container-id-2 div.sk-serial {display: flex;flex-direction: column;align-items: center;background-color: white;padding-right: 0.2em;padding-left: 0.2em;position: relative;}#sk-container-id-2 div.sk-item {position: relative;z-index: 1;}#sk-container-id-2 div.sk-parallel {display: flex;align-items: stretch;justify-content: center;background-color: white;position: relative;}#sk-container-id-2 div.sk-item::before, #sk-container-id-2 div.sk-parallel-item::before {content: \"\";position: absolute;border-left: 1px solid gray;box-sizing: border-box;top: 0;bottom: 0;left: 50%;z-index: -1;}#sk-container-id-2 div.sk-parallel-item {display: flex;flex-direction: column;z-index: 1;position: relative;background-color: white;}#sk-container-id-2 div.sk-parallel-item:first-child::after {align-self: flex-end;width: 50%;}#sk-container-id-2 div.sk-parallel-item:last-child::after {align-self: flex-start;width: 50%;}#sk-container-id-2 div.sk-parallel-item:only-child::after {width: 0;}#sk-container-id-2 div.sk-dashed-wrapped {border: 1px dashed gray;margin: 0 0.4em 0.5em 0.4em;box-sizing: border-box;padding-bottom: 0.4em;background-color: white;}#sk-container-id-2 div.sk-label label {font-family: monospace;font-weight: bold;display: inline-block;line-height: 1.2em;}#sk-container-id-2 div.sk-label-container {text-align: center;}#sk-container-id-2 div.sk-container {/* jupyter's `normalize.less` sets `[hidden] { display: none; }` but bootstrap.min.css set `[hidden] { display: none !important; }` so we also need the `!important` here to be able to override the default hidden behavior on the sphinx rendered scikit-learn.org. See: https://github.com/scikit-learn/scikit-learn/issues/21755 */display: inline-block !important;position: relative;}#sk-container-id-2 div.sk-text-repr-fallback {display: none;}</style><div id=\"sk-container-id-2\" class=\"sk-top-container\"><div class=\"sk-text-repr-fallback\"><pre>RandomForestClassifier(max_depth=2, max_features=&#x27;log2&#x27;, max_leaf_nodes=9,\n",
       "                       max_samples=0.25, n_estimators=75, random_state=42)</pre><b>In a Jupyter environment, please rerun this cell to show the HTML representation or trust the notebook. <br />On GitHub, the HTML representation is unable to render, please try loading this page with nbviewer.org.</b></div><div class=\"sk-container\" hidden><div class=\"sk-item\"><div class=\"sk-estimator sk-toggleable\"><input class=\"sk-toggleable__control sk-hidden--visually\" id=\"sk-estimator-id-4\" type=\"checkbox\" checked><label for=\"sk-estimator-id-4\" class=\"sk-toggleable__label sk-toggleable__label-arrow\">RandomForestClassifier</label><div class=\"sk-toggleable__content\"><pre>RandomForestClassifier(max_depth=2, max_features=&#x27;log2&#x27;, max_leaf_nodes=9,\n",
       "                       max_samples=0.25, n_estimators=75, random_state=42)</pre></div></div></div></div></div>"
      ],
      "text/plain": [
       "RandomForestClassifier(max_depth=2, max_features='log2', max_leaf_nodes=9,\n",
       "                       max_samples=0.25, n_estimators=75, random_state=42)"
      ]
     },
     "execution_count": 30,
     "metadata": {},
     "output_type": "execute_result"
    }
   ],
   "source": [
    "# ###########  the code bellow is commented in order to be loose time when the code is rerun ##########\n",
    "# print(f'Best Recall score = {gs_rf.best_score_} , achieved with the following model on the training data:') \n",
    "# gs_rf.best_estimator_"
   ]
  },
  {
   "cell_type": "code",
   "execution_count": 31,
   "id": "574ae0b2-2820-4366-80a9-a9f444580b06",
   "metadata": {},
   "outputs": [
    {
     "name": "stdout",
     "output_type": "stream",
     "text": [
      "On the Test set this model achieved:\n",
      " Recall = 0.9627659574468085\n",
      " F score = 0.8722891566265061\n",
      " Accuracy = 0.8415545590433483\n"
     ]
    }
   ],
   "source": [
    "# ###########  the code bellow is commented in order to be loose time when the code is rerun ##########\n",
    "# y_rand_forest = gs_rf.predict(X_test)\n",
    "# print(f'On the Test set this model achieved:\\n Recall = {metrics.recall_score(y_test, y_rand_forest)}\\n'\n",
    "#     f' F score = {metrics.f1_score(y_test, y_rand_forest)}\\n Accuracy = {metrics.accuracy_score(y_test, y_rand_forest)}')"
   ]
  },
  {
   "cell_type": "markdown",
   "id": "54cfc120-719f-4447-85a7-ba8691528247",
   "metadata": {},
   "source": [
    "### SVM\n",
    "We will use GridSearchCV. I have played for some time with Different parameters and have read a bit about how to work with SVM.<br>\n",
    "\n",
    "\n",
    "Also we want the fit to be determined by the Recall score. Yet when i run it asking for the best recall the model simply predicted all categories as \"1\". So I decided to run with F1 score.\n"
   ]
  },
  {
   "cell_type": "code",
   "execution_count": 32,
   "id": "d9f5e28f-21d4-43bd-9d97-7faf51d31884",
   "metadata": {},
   "outputs": [
    {
     "name": "stdout",
     "output_type": "stream",
     "text": [
      "[LibSVM][LibSVM][LibSVM][LibSVM][LibSVM][LibSVM][LibSVM][LibSVM][LibSVM][LibSVM][LibSVM][LibSVM][LibSVM][LibSVM][LibSVM][LibSVM][LibSVM][LibSVM][LibSVM][LibSVM][LibSVM][LibSVM][LibSVM][LibSVM][LibSVM][LibSVM][LibSVM][LibSVM][LibSVM][LibSVM][LibSVM][LibSVM][LibSVM][LibSVM][LibSVM][LibSVM][LibSVM][LibSVM][LibSVM][LibSVM][LibSVM][LibSVM][LibSVM][LibSVM][LibSVM][LibSVM][LibSVM][LibSVM][LibSVM][LibSVM][LibSVM][LibSVM][LibSVM][LibSVM][LibSVM][LibSVM][LibSVM][LibSVM][LibSVM][LibSVM][LibSVM][LibSVM][LibSVM][LibSVM][LibSVM][LibSVM][LibSVM][LibSVM][LibSVM][LibSVM][LibSVM][LibSVM][LibSVM][LibSVM][LibSVM][LibSVM][LibSVM][LibSVM][LibSVM][LibSVM][LibSVM][LibSVM][LibSVM][LibSVM][LibSVM][LibSVM][LibSVM][LibSVM][LibSVM][LibSVM][LibSVM]"
     ]
    },
    {
     "data": {
      "text/html": [
       "<style>#sk-container-id-3 {color: black;background-color: white;}#sk-container-id-3 pre{padding: 0;}#sk-container-id-3 div.sk-toggleable {background-color: white;}#sk-container-id-3 label.sk-toggleable__label {cursor: pointer;display: block;width: 100%;margin-bottom: 0;padding: 0.3em;box-sizing: border-box;text-align: center;}#sk-container-id-3 label.sk-toggleable__label-arrow:before {content: \"▸\";float: left;margin-right: 0.25em;color: #696969;}#sk-container-id-3 label.sk-toggleable__label-arrow:hover:before {color: black;}#sk-container-id-3 div.sk-estimator:hover label.sk-toggleable__label-arrow:before {color: black;}#sk-container-id-3 div.sk-toggleable__content {max-height: 0;max-width: 0;overflow: hidden;text-align: left;background-color: #f0f8ff;}#sk-container-id-3 div.sk-toggleable__content pre {margin: 0.2em;color: black;border-radius: 0.25em;background-color: #f0f8ff;}#sk-container-id-3 input.sk-toggleable__control:checked~div.sk-toggleable__content {max-height: 200px;max-width: 100%;overflow: auto;}#sk-container-id-3 input.sk-toggleable__control:checked~label.sk-toggleable__label-arrow:before {content: \"▾\";}#sk-container-id-3 div.sk-estimator input.sk-toggleable__control:checked~label.sk-toggleable__label {background-color: #d4ebff;}#sk-container-id-3 div.sk-label input.sk-toggleable__control:checked~label.sk-toggleable__label {background-color: #d4ebff;}#sk-container-id-3 input.sk-hidden--visually {border: 0;clip: rect(1px 1px 1px 1px);clip: rect(1px, 1px, 1px, 1px);height: 1px;margin: -1px;overflow: hidden;padding: 0;position: absolute;width: 1px;}#sk-container-id-3 div.sk-estimator {font-family: monospace;background-color: #f0f8ff;border: 1px dotted black;border-radius: 0.25em;box-sizing: border-box;margin-bottom: 0.5em;}#sk-container-id-3 div.sk-estimator:hover {background-color: #d4ebff;}#sk-container-id-3 div.sk-parallel-item::after {content: \"\";width: 100%;border-bottom: 1px solid gray;flex-grow: 1;}#sk-container-id-3 div.sk-label:hover label.sk-toggleable__label {background-color: #d4ebff;}#sk-container-id-3 div.sk-serial::before {content: \"\";position: absolute;border-left: 1px solid gray;box-sizing: border-box;top: 0;bottom: 0;left: 50%;z-index: 0;}#sk-container-id-3 div.sk-serial {display: flex;flex-direction: column;align-items: center;background-color: white;padding-right: 0.2em;padding-left: 0.2em;position: relative;}#sk-container-id-3 div.sk-item {position: relative;z-index: 1;}#sk-container-id-3 div.sk-parallel {display: flex;align-items: stretch;justify-content: center;background-color: white;position: relative;}#sk-container-id-3 div.sk-item::before, #sk-container-id-3 div.sk-parallel-item::before {content: \"\";position: absolute;border-left: 1px solid gray;box-sizing: border-box;top: 0;bottom: 0;left: 50%;z-index: -1;}#sk-container-id-3 div.sk-parallel-item {display: flex;flex-direction: column;z-index: 1;position: relative;background-color: white;}#sk-container-id-3 div.sk-parallel-item:first-child::after {align-self: flex-end;width: 50%;}#sk-container-id-3 div.sk-parallel-item:last-child::after {align-self: flex-start;width: 50%;}#sk-container-id-3 div.sk-parallel-item:only-child::after {width: 0;}#sk-container-id-3 div.sk-dashed-wrapped {border: 1px dashed gray;margin: 0 0.4em 0.5em 0.4em;box-sizing: border-box;padding-bottom: 0.4em;background-color: white;}#sk-container-id-3 div.sk-label label {font-family: monospace;font-weight: bold;display: inline-block;line-height: 1.2em;}#sk-container-id-3 div.sk-label-container {text-align: center;}#sk-container-id-3 div.sk-container {/* jupyter's `normalize.less` sets `[hidden] { display: none; }` but bootstrap.min.css set `[hidden] { display: none !important; }` so we also need the `!important` here to be able to override the default hidden behavior on the sphinx rendered scikit-learn.org. See: https://github.com/scikit-learn/scikit-learn/issues/21755 */display: inline-block !important;position: relative;}#sk-container-id-3 div.sk-text-repr-fallback {display: none;}</style><div id=\"sk-container-id-3\" class=\"sk-top-container\"><div class=\"sk-text-repr-fallback\"><pre>GridSearchCV(estimator=SVC(class_weight=&#x27;balanced&#x27;, probability=True,\n",
       "                           random_state=42),\n",
       "             param_grid={&#x27;C&#x27;: [0.01, 0.05, 5], &#x27;degree&#x27;: [2],\n",
       "                         &#x27;gamma&#x27;: (&#x27;scale&#x27;, &#x27;auto&#x27;, 10),\n",
       "                         &#x27;kernel&#x27;: (&#x27;poly&#x27;, &#x27;rbf&#x27;), &#x27;verbose&#x27;: (True, False)},\n",
       "             refit=&#x27;f1&#x27;, scoring=[&#x27;recall&#x27;, &#x27;f1&#x27;])</pre><b>In a Jupyter environment, please rerun this cell to show the HTML representation or trust the notebook. <br />On GitHub, the HTML representation is unable to render, please try loading this page with nbviewer.org.</b></div><div class=\"sk-container\" hidden><div class=\"sk-item sk-dashed-wrapped\"><div class=\"sk-label-container\"><div class=\"sk-label sk-toggleable\"><input class=\"sk-toggleable__control sk-hidden--visually\" id=\"sk-estimator-id-5\" type=\"checkbox\" ><label for=\"sk-estimator-id-5\" class=\"sk-toggleable__label sk-toggleable__label-arrow\">GridSearchCV</label><div class=\"sk-toggleable__content\"><pre>GridSearchCV(estimator=SVC(class_weight=&#x27;balanced&#x27;, probability=True,\n",
       "                           random_state=42),\n",
       "             param_grid={&#x27;C&#x27;: [0.01, 0.05, 5], &#x27;degree&#x27;: [2],\n",
       "                         &#x27;gamma&#x27;: (&#x27;scale&#x27;, &#x27;auto&#x27;, 10),\n",
       "                         &#x27;kernel&#x27;: (&#x27;poly&#x27;, &#x27;rbf&#x27;), &#x27;verbose&#x27;: (True, False)},\n",
       "             refit=&#x27;f1&#x27;, scoring=[&#x27;recall&#x27;, &#x27;f1&#x27;])</pre></div></div></div><div class=\"sk-parallel\"><div class=\"sk-parallel-item\"><div class=\"sk-item\"><div class=\"sk-label-container\"><div class=\"sk-label sk-toggleable\"><input class=\"sk-toggleable__control sk-hidden--visually\" id=\"sk-estimator-id-6\" type=\"checkbox\" ><label for=\"sk-estimator-id-6\" class=\"sk-toggleable__label sk-toggleable__label-arrow\">estimator: SVC</label><div class=\"sk-toggleable__content\"><pre>SVC(class_weight=&#x27;balanced&#x27;, probability=True, random_state=42)</pre></div></div></div><div class=\"sk-serial\"><div class=\"sk-item\"><div class=\"sk-estimator sk-toggleable\"><input class=\"sk-toggleable__control sk-hidden--visually\" id=\"sk-estimator-id-7\" type=\"checkbox\" ><label for=\"sk-estimator-id-7\" class=\"sk-toggleable__label sk-toggleable__label-arrow\">SVC</label><div class=\"sk-toggleable__content\"><pre>SVC(class_weight=&#x27;balanced&#x27;, probability=True, random_state=42)</pre></div></div></div></div></div></div></div></div></div></div>"
      ],
      "text/plain": [
       "GridSearchCV(estimator=SVC(class_weight='balanced', probability=True,\n",
       "                           random_state=42),\n",
       "             param_grid={'C': [0.01, 0.05, 5], 'degree': [2],\n",
       "                         'gamma': ('scale', 'auto', 10),\n",
       "                         'kernel': ('poly', 'rbf'), 'verbose': (True, False)},\n",
       "             refit='f1', scoring=['recall', 'f1'])"
      ]
     },
     "execution_count": 32,
     "metadata": {},
     "output_type": "execute_result"
    }
   ],
   "source": [
    "# ###########  the code bellow is commented in order to be loose time when the code is rerun ##########\n",
    "# svc_parameters = {'C' : [0.01, 0.05,5], 'kernel' : (\"poly\", \"rbf\"), 'degree' : [2], 'gamma' : (\"scale\", \"auto\", 10), 'verbose' : (True, False)}\n",
    "# svc = SVC(probability = True, class_weight = 'balanced', random_state = 42)\n",
    "# gs_svc = GridSearchCV(svc, svc_parameters, scoring = ['recall', 'f1'], refit = 'f1')\n",
    "# gs_svc.fit(X_train, y_train)"
   ]
  },
  {
   "cell_type": "code",
   "execution_count": 33,
   "id": "a31bf3bd-ae4c-4765-8806-45894ac64c7b",
   "metadata": {},
   "outputs": [
    {
     "name": "stdout",
     "output_type": "stream",
     "text": [
      "Best F1 score = 0.8579071870054886 , achieved with the following model:\n"
     ]
    },
    {
     "data": {
      "text/html": [
       "<style>#sk-container-id-4 {color: black;background-color: white;}#sk-container-id-4 pre{padding: 0;}#sk-container-id-4 div.sk-toggleable {background-color: white;}#sk-container-id-4 label.sk-toggleable__label {cursor: pointer;display: block;width: 100%;margin-bottom: 0;padding: 0.3em;box-sizing: border-box;text-align: center;}#sk-container-id-4 label.sk-toggleable__label-arrow:before {content: \"▸\";float: left;margin-right: 0.25em;color: #696969;}#sk-container-id-4 label.sk-toggleable__label-arrow:hover:before {color: black;}#sk-container-id-4 div.sk-estimator:hover label.sk-toggleable__label-arrow:before {color: black;}#sk-container-id-4 div.sk-toggleable__content {max-height: 0;max-width: 0;overflow: hidden;text-align: left;background-color: #f0f8ff;}#sk-container-id-4 div.sk-toggleable__content pre {margin: 0.2em;color: black;border-radius: 0.25em;background-color: #f0f8ff;}#sk-container-id-4 input.sk-toggleable__control:checked~div.sk-toggleable__content {max-height: 200px;max-width: 100%;overflow: auto;}#sk-container-id-4 input.sk-toggleable__control:checked~label.sk-toggleable__label-arrow:before {content: \"▾\";}#sk-container-id-4 div.sk-estimator input.sk-toggleable__control:checked~label.sk-toggleable__label {background-color: #d4ebff;}#sk-container-id-4 div.sk-label input.sk-toggleable__control:checked~label.sk-toggleable__label {background-color: #d4ebff;}#sk-container-id-4 input.sk-hidden--visually {border: 0;clip: rect(1px 1px 1px 1px);clip: rect(1px, 1px, 1px, 1px);height: 1px;margin: -1px;overflow: hidden;padding: 0;position: absolute;width: 1px;}#sk-container-id-4 div.sk-estimator {font-family: monospace;background-color: #f0f8ff;border: 1px dotted black;border-radius: 0.25em;box-sizing: border-box;margin-bottom: 0.5em;}#sk-container-id-4 div.sk-estimator:hover {background-color: #d4ebff;}#sk-container-id-4 div.sk-parallel-item::after {content: \"\";width: 100%;border-bottom: 1px solid gray;flex-grow: 1;}#sk-container-id-4 div.sk-label:hover label.sk-toggleable__label {background-color: #d4ebff;}#sk-container-id-4 div.sk-serial::before {content: \"\";position: absolute;border-left: 1px solid gray;box-sizing: border-box;top: 0;bottom: 0;left: 50%;z-index: 0;}#sk-container-id-4 div.sk-serial {display: flex;flex-direction: column;align-items: center;background-color: white;padding-right: 0.2em;padding-left: 0.2em;position: relative;}#sk-container-id-4 div.sk-item {position: relative;z-index: 1;}#sk-container-id-4 div.sk-parallel {display: flex;align-items: stretch;justify-content: center;background-color: white;position: relative;}#sk-container-id-4 div.sk-item::before, #sk-container-id-4 div.sk-parallel-item::before {content: \"\";position: absolute;border-left: 1px solid gray;box-sizing: border-box;top: 0;bottom: 0;left: 50%;z-index: -1;}#sk-container-id-4 div.sk-parallel-item {display: flex;flex-direction: column;z-index: 1;position: relative;background-color: white;}#sk-container-id-4 div.sk-parallel-item:first-child::after {align-self: flex-end;width: 50%;}#sk-container-id-4 div.sk-parallel-item:last-child::after {align-self: flex-start;width: 50%;}#sk-container-id-4 div.sk-parallel-item:only-child::after {width: 0;}#sk-container-id-4 div.sk-dashed-wrapped {border: 1px dashed gray;margin: 0 0.4em 0.5em 0.4em;box-sizing: border-box;padding-bottom: 0.4em;background-color: white;}#sk-container-id-4 div.sk-label label {font-family: monospace;font-weight: bold;display: inline-block;line-height: 1.2em;}#sk-container-id-4 div.sk-label-container {text-align: center;}#sk-container-id-4 div.sk-container {/* jupyter's `normalize.less` sets `[hidden] { display: none; }` but bootstrap.min.css set `[hidden] { display: none !important; }` so we also need the `!important` here to be able to override the default hidden behavior on the sphinx rendered scikit-learn.org. See: https://github.com/scikit-learn/scikit-learn/issues/21755 */display: inline-block !important;position: relative;}#sk-container-id-4 div.sk-text-repr-fallback {display: none;}</style><div id=\"sk-container-id-4\" class=\"sk-top-container\"><div class=\"sk-text-repr-fallback\"><pre>SVC(C=0.05, class_weight=&#x27;balanced&#x27;, degree=2, kernel=&#x27;poly&#x27;, probability=True,\n",
       "    random_state=42, verbose=True)</pre><b>In a Jupyter environment, please rerun this cell to show the HTML representation or trust the notebook. <br />On GitHub, the HTML representation is unable to render, please try loading this page with nbviewer.org.</b></div><div class=\"sk-container\" hidden><div class=\"sk-item\"><div class=\"sk-estimator sk-toggleable\"><input class=\"sk-toggleable__control sk-hidden--visually\" id=\"sk-estimator-id-8\" type=\"checkbox\" checked><label for=\"sk-estimator-id-8\" class=\"sk-toggleable__label sk-toggleable__label-arrow\">SVC</label><div class=\"sk-toggleable__content\"><pre>SVC(C=0.05, class_weight=&#x27;balanced&#x27;, degree=2, kernel=&#x27;poly&#x27;, probability=True,\n",
       "    random_state=42, verbose=True)</pre></div></div></div></div></div>"
      ],
      "text/plain": [
       "SVC(C=0.05, class_weight='balanced', degree=2, kernel='poly', probability=True,\n",
       "    random_state=42, verbose=True)"
      ]
     },
     "execution_count": 33,
     "metadata": {},
     "output_type": "execute_result"
    }
   ],
   "source": [
    "# ###########  the code bellow is commented in order to be loose time when the code is rerun ##########\n",
    "# print(f'Best F1 score = {gs_svc.best_score_} , achieved with the following model:') \n",
    "# gs_svc.best_estimator_"
   ]
  },
  {
   "cell_type": "code",
   "execution_count": 34,
   "id": "65a3b159-d6ae-40d4-85c0-2e194eccb69b",
   "metadata": {},
   "outputs": [
    {
     "name": "stdout",
     "output_type": "stream",
     "text": [
      "On the Test set this model achieved:\n",
      " Recall = 0.9468085106382979\n",
      " F score = 0.8704156479217603\n",
      " Accuracy = 0.8415545590433483\n"
     ]
    }
   ],
   "source": [
    "# ###########  the code bellow is commented in order to be loose time when the code is rerun ##########\n",
    "# y_svc = gs_svc.predict(X_test)\n",
    "# print(f'On the Test set this model achieved:\\n Recall = {metrics.recall_score(y_test, y_svc)}\\n' \n",
    "# f' F score = {metrics.f1_score(y_test, y_svc)}\\n Accuracy = {metrics.accuracy_score(y_test, y_svc)}')"
   ]
  },
  {
   "cell_type": "markdown",
   "id": "6e7be51a-9266-48b8-ab43-13ca2b8ce6fa",
   "metadata": {},
   "source": [
    "[TOP](#topi)\n",
    "<a id='pca'></a>\n",
    "\n",
    "## PCA, Bagging and Boosting?\n",
    "\n",
    "After i decided to use OneHotEncoding the result is sparse data set. This makes impossible the use of PCA, yet i can still use KernelPCA.<br>\n",
    "I have made some tests in \"Test PCA.ipynb\" but overall i don't feel like i am getting better models, also my dataset is not really that big.<br>\n",
    "Overall I have decided that PCA is not a good fit for my approach so far, and i will not show any PCA results here.<br>\n",
    "I will not use Bagging or Boosting because i am satisfied with the models I have, and there is no need to add complexity, i dont think there is an issue with the Bias or Variance, so i will keep it as is for now."
   ]
  },
  {
   "cell_type": "markdown",
   "id": "024d2eea-8d00-4564-8609-675d34e317db",
   "metadata": {},
   "source": [
    "[TOP](#topi)\n",
    "<a id='pipeline'></a>\n",
    "\n",
    "## Creating PipeLine\n",
    "\n",
    "#### One Hot Encoder with SVC"
   ]
  },
  {
   "cell_type": "code",
   "execution_count": 35,
   "id": "84a30db7-3f16-4163-b3da-dd2961cc5f71",
   "metadata": {},
   "outputs": [],
   "source": [
    "pipe_dataset = pd.read_csv('14_16_pre_Encoder.csv')"
   ]
  },
  {
   "cell_type": "code",
   "execution_count": 36,
   "id": "f1e1dc0e-606c-4e22-ac95-d0d736f59670",
   "metadata": {},
   "outputs": [],
   "source": [
    "cat_col = ['Gender', 'family_history', 'no_employees', 'remote_work', 'benefits', 'care_options', 'wellness_program', 'anonymity', 'leave', \n",
    "           'phys_health_consequence', 'coworkers', 'supervisor', 'phys_health_interview', 'mental_vs_physical', 'work_treatment_interfere', \n",
    "           'work_no_treatment_interfere', 'Continent']\n",
    "              \n",
    "num_col = ['Age']\n",
    "target='treatment'"
   ]
  },
  {
   "cell_type": "code",
   "execution_count": 37,
   "id": "4439cc58-6cb1-49b9-b712-39e55af43eda",
   "metadata": {},
   "outputs": [],
   "source": [
    "used_cols = [i for i in pipe_dataset.columns.tolist() if i not in [target]]\n",
    "pl_X=pipe_dataset[used_cols]\n",
    "pl_y=pipe_dataset[target]\n",
    "pl_X_train, pl_X_test, pl_y_train, pl_y_test = train_test_split(pl_X, pl_y, test_size=0.2, random_state=42)"
   ]
  },
  {
   "cell_type": "code",
   "execution_count": 38,
   "id": "8d9d73b0-d82c-452b-ade1-e776f2baab66",
   "metadata": {},
   "outputs": [
    {
     "name": "stdout",
     "output_type": "stream",
     "text": [
      "[LibSVM]"
     ]
    },
    {
     "data": {
      "text/html": [
       "<style>#sk-container-id-5 {color: black;background-color: white;}#sk-container-id-5 pre{padding: 0;}#sk-container-id-5 div.sk-toggleable {background-color: white;}#sk-container-id-5 label.sk-toggleable__label {cursor: pointer;display: block;width: 100%;margin-bottom: 0;padding: 0.3em;box-sizing: border-box;text-align: center;}#sk-container-id-5 label.sk-toggleable__label-arrow:before {content: \"▸\";float: left;margin-right: 0.25em;color: #696969;}#sk-container-id-5 label.sk-toggleable__label-arrow:hover:before {color: black;}#sk-container-id-5 div.sk-estimator:hover label.sk-toggleable__label-arrow:before {color: black;}#sk-container-id-5 div.sk-toggleable__content {max-height: 0;max-width: 0;overflow: hidden;text-align: left;background-color: #f0f8ff;}#sk-container-id-5 div.sk-toggleable__content pre {margin: 0.2em;color: black;border-radius: 0.25em;background-color: #f0f8ff;}#sk-container-id-5 input.sk-toggleable__control:checked~div.sk-toggleable__content {max-height: 200px;max-width: 100%;overflow: auto;}#sk-container-id-5 input.sk-toggleable__control:checked~label.sk-toggleable__label-arrow:before {content: \"▾\";}#sk-container-id-5 div.sk-estimator input.sk-toggleable__control:checked~label.sk-toggleable__label {background-color: #d4ebff;}#sk-container-id-5 div.sk-label input.sk-toggleable__control:checked~label.sk-toggleable__label {background-color: #d4ebff;}#sk-container-id-5 input.sk-hidden--visually {border: 0;clip: rect(1px 1px 1px 1px);clip: rect(1px, 1px, 1px, 1px);height: 1px;margin: -1px;overflow: hidden;padding: 0;position: absolute;width: 1px;}#sk-container-id-5 div.sk-estimator {font-family: monospace;background-color: #f0f8ff;border: 1px dotted black;border-radius: 0.25em;box-sizing: border-box;margin-bottom: 0.5em;}#sk-container-id-5 div.sk-estimator:hover {background-color: #d4ebff;}#sk-container-id-5 div.sk-parallel-item::after {content: \"\";width: 100%;border-bottom: 1px solid gray;flex-grow: 1;}#sk-container-id-5 div.sk-label:hover label.sk-toggleable__label {background-color: #d4ebff;}#sk-container-id-5 div.sk-serial::before {content: \"\";position: absolute;border-left: 1px solid gray;box-sizing: border-box;top: 0;bottom: 0;left: 50%;z-index: 0;}#sk-container-id-5 div.sk-serial {display: flex;flex-direction: column;align-items: center;background-color: white;padding-right: 0.2em;padding-left: 0.2em;position: relative;}#sk-container-id-5 div.sk-item {position: relative;z-index: 1;}#sk-container-id-5 div.sk-parallel {display: flex;align-items: stretch;justify-content: center;background-color: white;position: relative;}#sk-container-id-5 div.sk-item::before, #sk-container-id-5 div.sk-parallel-item::before {content: \"\";position: absolute;border-left: 1px solid gray;box-sizing: border-box;top: 0;bottom: 0;left: 50%;z-index: -1;}#sk-container-id-5 div.sk-parallel-item {display: flex;flex-direction: column;z-index: 1;position: relative;background-color: white;}#sk-container-id-5 div.sk-parallel-item:first-child::after {align-self: flex-end;width: 50%;}#sk-container-id-5 div.sk-parallel-item:last-child::after {align-self: flex-start;width: 50%;}#sk-container-id-5 div.sk-parallel-item:only-child::after {width: 0;}#sk-container-id-5 div.sk-dashed-wrapped {border: 1px dashed gray;margin: 0 0.4em 0.5em 0.4em;box-sizing: border-box;padding-bottom: 0.4em;background-color: white;}#sk-container-id-5 div.sk-label label {font-family: monospace;font-weight: bold;display: inline-block;line-height: 1.2em;}#sk-container-id-5 div.sk-label-container {text-align: center;}#sk-container-id-5 div.sk-container {/* jupyter's `normalize.less` sets `[hidden] { display: none; }` but bootstrap.min.css set `[hidden] { display: none !important; }` so we also need the `!important` here to be able to override the default hidden behavior on the sphinx rendered scikit-learn.org. See: https://github.com/scikit-learn/scikit-learn/issues/21755 */display: inline-block !important;position: relative;}#sk-container-id-5 div.sk-text-repr-fallback {display: none;}</style><div id=\"sk-container-id-5\" class=\"sk-top-container\"><div class=\"sk-text-repr-fallback\"><pre>Pipeline(steps=[(&#x27;preproc&#x27;,\n",
       "                 ColumnTransformer(transformers=[(&#x27;num&#x27;,\n",
       "                                                  Pipeline(steps=[(&#x27;standardscaler&#x27;,\n",
       "                                                                   StandardScaler())]),\n",
       "                                                  [&#x27;Age&#x27;]),\n",
       "                                                 (&#x27;cat&#x27;,\n",
       "                                                  Pipeline(steps=[(&#x27;onehotencoder&#x27;,\n",
       "                                                                   OneHotEncoder())]),\n",
       "                                                  [&#x27;Gender&#x27;, &#x27;family_history&#x27;,\n",
       "                                                   &#x27;no_employees&#x27;,\n",
       "                                                   &#x27;remote_work&#x27;, &#x27;benefits&#x27;,\n",
       "                                                   &#x27;care_options&#x27;,\n",
       "                                                   &#x27;wellness_program&#x27;,\n",
       "                                                   &#x27;anonymity&#x27;, &#x27;leave&#x27;,\n",
       "                                                   &#x27;phys_health_consequence&#x27;,\n",
       "                                                   &#x27;coworkers&#x27;, &#x27;supervisor&#x27;,\n",
       "                                                   &#x27;phys_health_interview&#x27;,\n",
       "                                                   &#x27;mental_vs_physical&#x27;,\n",
       "                                                   &#x27;work_treatment_interfere&#x27;,\n",
       "                                                   &#x27;work_no_treatment_interfere&#x27;,\n",
       "                                                   &#x27;Continent&#x27;])])),\n",
       "                (&#x27;est&#x27;,\n",
       "                 SVC(C=0.05, class_weight=&#x27;balanced&#x27;, degree=2, kernel=&#x27;poly&#x27;,\n",
       "                     probability=True, random_state=42, verbose=True))])</pre><b>In a Jupyter environment, please rerun this cell to show the HTML representation or trust the notebook. <br />On GitHub, the HTML representation is unable to render, please try loading this page with nbviewer.org.</b></div><div class=\"sk-container\" hidden><div class=\"sk-item sk-dashed-wrapped\"><div class=\"sk-label-container\"><div class=\"sk-label sk-toggleable\"><input class=\"sk-toggleable__control sk-hidden--visually\" id=\"sk-estimator-id-9\" type=\"checkbox\" ><label for=\"sk-estimator-id-9\" class=\"sk-toggleable__label sk-toggleable__label-arrow\">Pipeline</label><div class=\"sk-toggleable__content\"><pre>Pipeline(steps=[(&#x27;preproc&#x27;,\n",
       "                 ColumnTransformer(transformers=[(&#x27;num&#x27;,\n",
       "                                                  Pipeline(steps=[(&#x27;standardscaler&#x27;,\n",
       "                                                                   StandardScaler())]),\n",
       "                                                  [&#x27;Age&#x27;]),\n",
       "                                                 (&#x27;cat&#x27;,\n",
       "                                                  Pipeline(steps=[(&#x27;onehotencoder&#x27;,\n",
       "                                                                   OneHotEncoder())]),\n",
       "                                                  [&#x27;Gender&#x27;, &#x27;family_history&#x27;,\n",
       "                                                   &#x27;no_employees&#x27;,\n",
       "                                                   &#x27;remote_work&#x27;, &#x27;benefits&#x27;,\n",
       "                                                   &#x27;care_options&#x27;,\n",
       "                                                   &#x27;wellness_program&#x27;,\n",
       "                                                   &#x27;anonymity&#x27;, &#x27;leave&#x27;,\n",
       "                                                   &#x27;phys_health_consequence&#x27;,\n",
       "                                                   &#x27;coworkers&#x27;, &#x27;supervisor&#x27;,\n",
       "                                                   &#x27;phys_health_interview&#x27;,\n",
       "                                                   &#x27;mental_vs_physical&#x27;,\n",
       "                                                   &#x27;work_treatment_interfere&#x27;,\n",
       "                                                   &#x27;work_no_treatment_interfere&#x27;,\n",
       "                                                   &#x27;Continent&#x27;])])),\n",
       "                (&#x27;est&#x27;,\n",
       "                 SVC(C=0.05, class_weight=&#x27;balanced&#x27;, degree=2, kernel=&#x27;poly&#x27;,\n",
       "                     probability=True, random_state=42, verbose=True))])</pre></div></div></div><div class=\"sk-serial\"><div class=\"sk-item sk-dashed-wrapped\"><div class=\"sk-label-container\"><div class=\"sk-label sk-toggleable\"><input class=\"sk-toggleable__control sk-hidden--visually\" id=\"sk-estimator-id-10\" type=\"checkbox\" ><label for=\"sk-estimator-id-10\" class=\"sk-toggleable__label sk-toggleable__label-arrow\">preproc: ColumnTransformer</label><div class=\"sk-toggleable__content\"><pre>ColumnTransformer(transformers=[(&#x27;num&#x27;,\n",
       "                                 Pipeline(steps=[(&#x27;standardscaler&#x27;,\n",
       "                                                  StandardScaler())]),\n",
       "                                 [&#x27;Age&#x27;]),\n",
       "                                (&#x27;cat&#x27;,\n",
       "                                 Pipeline(steps=[(&#x27;onehotencoder&#x27;,\n",
       "                                                  OneHotEncoder())]),\n",
       "                                 [&#x27;Gender&#x27;, &#x27;family_history&#x27;, &#x27;no_employees&#x27;,\n",
       "                                  &#x27;remote_work&#x27;, &#x27;benefits&#x27;, &#x27;care_options&#x27;,\n",
       "                                  &#x27;wellness_program&#x27;, &#x27;anonymity&#x27;, &#x27;leave&#x27;,\n",
       "                                  &#x27;phys_health_consequence&#x27;, &#x27;coworkers&#x27;,\n",
       "                                  &#x27;supervisor&#x27;, &#x27;phys_health_interview&#x27;,\n",
       "                                  &#x27;mental_vs_physical&#x27;,\n",
       "                                  &#x27;work_treatment_interfere&#x27;,\n",
       "                                  &#x27;work_no_treatment_interfere&#x27;,\n",
       "                                  &#x27;Continent&#x27;])])</pre></div></div></div><div class=\"sk-parallel\"><div class=\"sk-parallel-item\"><div class=\"sk-item\"><div class=\"sk-label-container\"><div class=\"sk-label sk-toggleable\"><input class=\"sk-toggleable__control sk-hidden--visually\" id=\"sk-estimator-id-11\" type=\"checkbox\" ><label for=\"sk-estimator-id-11\" class=\"sk-toggleable__label sk-toggleable__label-arrow\">num</label><div class=\"sk-toggleable__content\"><pre>[&#x27;Age&#x27;]</pre></div></div></div><div class=\"sk-serial\"><div class=\"sk-item\"><div class=\"sk-serial\"><div class=\"sk-item\"><div class=\"sk-estimator sk-toggleable\"><input class=\"sk-toggleable__control sk-hidden--visually\" id=\"sk-estimator-id-12\" type=\"checkbox\" ><label for=\"sk-estimator-id-12\" class=\"sk-toggleable__label sk-toggleable__label-arrow\">StandardScaler</label><div class=\"sk-toggleable__content\"><pre>StandardScaler()</pre></div></div></div></div></div></div></div></div><div class=\"sk-parallel-item\"><div class=\"sk-item\"><div class=\"sk-label-container\"><div class=\"sk-label sk-toggleable\"><input class=\"sk-toggleable__control sk-hidden--visually\" id=\"sk-estimator-id-13\" type=\"checkbox\" ><label for=\"sk-estimator-id-13\" class=\"sk-toggleable__label sk-toggleable__label-arrow\">cat</label><div class=\"sk-toggleable__content\"><pre>[&#x27;Gender&#x27;, &#x27;family_history&#x27;, &#x27;no_employees&#x27;, &#x27;remote_work&#x27;, &#x27;benefits&#x27;, &#x27;care_options&#x27;, &#x27;wellness_program&#x27;, &#x27;anonymity&#x27;, &#x27;leave&#x27;, &#x27;phys_health_consequence&#x27;, &#x27;coworkers&#x27;, &#x27;supervisor&#x27;, &#x27;phys_health_interview&#x27;, &#x27;mental_vs_physical&#x27;, &#x27;work_treatment_interfere&#x27;, &#x27;work_no_treatment_interfere&#x27;, &#x27;Continent&#x27;]</pre></div></div></div><div class=\"sk-serial\"><div class=\"sk-item\"><div class=\"sk-serial\"><div class=\"sk-item\"><div class=\"sk-estimator sk-toggleable\"><input class=\"sk-toggleable__control sk-hidden--visually\" id=\"sk-estimator-id-14\" type=\"checkbox\" ><label for=\"sk-estimator-id-14\" class=\"sk-toggleable__label sk-toggleable__label-arrow\">OneHotEncoder</label><div class=\"sk-toggleable__content\"><pre>OneHotEncoder()</pre></div></div></div></div></div></div></div></div></div></div><div class=\"sk-item\"><div class=\"sk-estimator sk-toggleable\"><input class=\"sk-toggleable__control sk-hidden--visually\" id=\"sk-estimator-id-15\" type=\"checkbox\" ><label for=\"sk-estimator-id-15\" class=\"sk-toggleable__label sk-toggleable__label-arrow\">SVC</label><div class=\"sk-toggleable__content\"><pre>SVC(C=0.05, class_weight=&#x27;balanced&#x27;, degree=2, kernel=&#x27;poly&#x27;, probability=True,\n",
       "    random_state=42, verbose=True)</pre></div></div></div></div></div></div></div>"
      ],
      "text/plain": [
       "Pipeline(steps=[('preproc',\n",
       "                 ColumnTransformer(transformers=[('num',\n",
       "                                                  Pipeline(steps=[('standardscaler',\n",
       "                                                                   StandardScaler())]),\n",
       "                                                  ['Age']),\n",
       "                                                 ('cat',\n",
       "                                                  Pipeline(steps=[('onehotencoder',\n",
       "                                                                   OneHotEncoder())]),\n",
       "                                                  ['Gender', 'family_history',\n",
       "                                                   'no_employees',\n",
       "                                                   'remote_work', 'benefits',\n",
       "                                                   'care_options',\n",
       "                                                   'wellness_program',\n",
       "                                                   'anonymity', 'leave',\n",
       "                                                   'phys_health_consequence',\n",
       "                                                   'coworkers', 'supervisor',\n",
       "                                                   'phys_health_interview',\n",
       "                                                   'mental_vs_physical',\n",
       "                                                   'work_treatment_interfere',\n",
       "                                                   'work_no_treatment_interfere',\n",
       "                                                   'Continent'])])),\n",
       "                ('est',\n",
       "                 SVC(C=0.05, class_weight='balanced', degree=2, kernel='poly',\n",
       "                     probability=True, random_state=42, verbose=True))])"
      ]
     },
     "execution_count": 38,
     "metadata": {},
     "output_type": "execute_result"
    }
   ],
   "source": [
    "model_name_svc =SVC(C=0.05, class_weight='balanced', degree=2, kernel='poly', probability=True, random_state=42, verbose=True)\n",
    "pipe_svc = tomi_make_pipe(cat_col, model_name_svc) \n",
    "pipe_svc.fit(pl_X_train, pl_y_train)"
   ]
  },
  {
   "cell_type": "code",
   "execution_count": 39,
   "id": "eb90021f-4e48-4e22-8dda-00cbf43ec3b0",
   "metadata": {},
   "outputs": [],
   "source": [
    "# make predictions on training set\n",
    "pl_y_pred_svc = pipe_svc.predict(pl_X_train)\n",
    "\n",
    "# make predictions on test set\n",
    "pl_y_pred_test_svc = pipe_svc.predict(pl_X_test)"
   ]
  },
  {
   "cell_type": "markdown",
   "id": "7c9fc552-b0af-4d12-9463-9351c0c90513",
   "metadata": {},
   "source": [
    "#### One Hot Encoder with Random Forest"
   ]
  },
  {
   "cell_type": "code",
   "execution_count": 40,
   "id": "7e68699d-61de-403f-8d90-60ad1e22e517",
   "metadata": {},
   "outputs": [
    {
     "data": {
      "text/html": [
       "<style>#sk-container-id-6 {color: black;background-color: white;}#sk-container-id-6 pre{padding: 0;}#sk-container-id-6 div.sk-toggleable {background-color: white;}#sk-container-id-6 label.sk-toggleable__label {cursor: pointer;display: block;width: 100%;margin-bottom: 0;padding: 0.3em;box-sizing: border-box;text-align: center;}#sk-container-id-6 label.sk-toggleable__label-arrow:before {content: \"▸\";float: left;margin-right: 0.25em;color: #696969;}#sk-container-id-6 label.sk-toggleable__label-arrow:hover:before {color: black;}#sk-container-id-6 div.sk-estimator:hover label.sk-toggleable__label-arrow:before {color: black;}#sk-container-id-6 div.sk-toggleable__content {max-height: 0;max-width: 0;overflow: hidden;text-align: left;background-color: #f0f8ff;}#sk-container-id-6 div.sk-toggleable__content pre {margin: 0.2em;color: black;border-radius: 0.25em;background-color: #f0f8ff;}#sk-container-id-6 input.sk-toggleable__control:checked~div.sk-toggleable__content {max-height: 200px;max-width: 100%;overflow: auto;}#sk-container-id-6 input.sk-toggleable__control:checked~label.sk-toggleable__label-arrow:before {content: \"▾\";}#sk-container-id-6 div.sk-estimator input.sk-toggleable__control:checked~label.sk-toggleable__label {background-color: #d4ebff;}#sk-container-id-6 div.sk-label input.sk-toggleable__control:checked~label.sk-toggleable__label {background-color: #d4ebff;}#sk-container-id-6 input.sk-hidden--visually {border: 0;clip: rect(1px 1px 1px 1px);clip: rect(1px, 1px, 1px, 1px);height: 1px;margin: -1px;overflow: hidden;padding: 0;position: absolute;width: 1px;}#sk-container-id-6 div.sk-estimator {font-family: monospace;background-color: #f0f8ff;border: 1px dotted black;border-radius: 0.25em;box-sizing: border-box;margin-bottom: 0.5em;}#sk-container-id-6 div.sk-estimator:hover {background-color: #d4ebff;}#sk-container-id-6 div.sk-parallel-item::after {content: \"\";width: 100%;border-bottom: 1px solid gray;flex-grow: 1;}#sk-container-id-6 div.sk-label:hover label.sk-toggleable__label {background-color: #d4ebff;}#sk-container-id-6 div.sk-serial::before {content: \"\";position: absolute;border-left: 1px solid gray;box-sizing: border-box;top: 0;bottom: 0;left: 50%;z-index: 0;}#sk-container-id-6 div.sk-serial {display: flex;flex-direction: column;align-items: center;background-color: white;padding-right: 0.2em;padding-left: 0.2em;position: relative;}#sk-container-id-6 div.sk-item {position: relative;z-index: 1;}#sk-container-id-6 div.sk-parallel {display: flex;align-items: stretch;justify-content: center;background-color: white;position: relative;}#sk-container-id-6 div.sk-item::before, #sk-container-id-6 div.sk-parallel-item::before {content: \"\";position: absolute;border-left: 1px solid gray;box-sizing: border-box;top: 0;bottom: 0;left: 50%;z-index: -1;}#sk-container-id-6 div.sk-parallel-item {display: flex;flex-direction: column;z-index: 1;position: relative;background-color: white;}#sk-container-id-6 div.sk-parallel-item:first-child::after {align-self: flex-end;width: 50%;}#sk-container-id-6 div.sk-parallel-item:last-child::after {align-self: flex-start;width: 50%;}#sk-container-id-6 div.sk-parallel-item:only-child::after {width: 0;}#sk-container-id-6 div.sk-dashed-wrapped {border: 1px dashed gray;margin: 0 0.4em 0.5em 0.4em;box-sizing: border-box;padding-bottom: 0.4em;background-color: white;}#sk-container-id-6 div.sk-label label {font-family: monospace;font-weight: bold;display: inline-block;line-height: 1.2em;}#sk-container-id-6 div.sk-label-container {text-align: center;}#sk-container-id-6 div.sk-container {/* jupyter's `normalize.less` sets `[hidden] { display: none; }` but bootstrap.min.css set `[hidden] { display: none !important; }` so we also need the `!important` here to be able to override the default hidden behavior on the sphinx rendered scikit-learn.org. See: https://github.com/scikit-learn/scikit-learn/issues/21755 */display: inline-block !important;position: relative;}#sk-container-id-6 div.sk-text-repr-fallback {display: none;}</style><div id=\"sk-container-id-6\" class=\"sk-top-container\"><div class=\"sk-text-repr-fallback\"><pre>Pipeline(steps=[(&#x27;preproc&#x27;,\n",
       "                 ColumnTransformer(transformers=[(&#x27;num&#x27;,\n",
       "                                                  Pipeline(steps=[(&#x27;standardscaler&#x27;,\n",
       "                                                                   StandardScaler())]),\n",
       "                                                  [&#x27;Age&#x27;]),\n",
       "                                                 (&#x27;cat&#x27;,\n",
       "                                                  Pipeline(steps=[(&#x27;onehotencoder&#x27;,\n",
       "                                                                   OneHotEncoder())]),\n",
       "                                                  [&#x27;Gender&#x27;, &#x27;family_history&#x27;,\n",
       "                                                   &#x27;no_employees&#x27;,\n",
       "                                                   &#x27;remote_work&#x27;, &#x27;benefits&#x27;,\n",
       "                                                   &#x27;care_options&#x27;,\n",
       "                                                   &#x27;wellness_program&#x27;,\n",
       "                                                   &#x27;anonymity&#x27;, &#x27;leave&#x27;,\n",
       "                                                   &#x27;phys_health_consequence&#x27;,\n",
       "                                                   &#x27;coworkers&#x27;, &#x27;supervisor&#x27;,\n",
       "                                                   &#x27;phys_health_interview&#x27;,\n",
       "                                                   &#x27;mental_vs_physical&#x27;,\n",
       "                                                   &#x27;work_treatment_interfere&#x27;,\n",
       "                                                   &#x27;work_no_treatment_interfere&#x27;,\n",
       "                                                   &#x27;Continent&#x27;])])),\n",
       "                (&#x27;est&#x27;,\n",
       "                 RandomForestClassifier(max_depth=2, max_features=&#x27;log2&#x27;,\n",
       "                                        max_leaf_nodes=9, max_samples=0.25,\n",
       "                                        n_estimators=75, random_state=42))])</pre><b>In a Jupyter environment, please rerun this cell to show the HTML representation or trust the notebook. <br />On GitHub, the HTML representation is unable to render, please try loading this page with nbviewer.org.</b></div><div class=\"sk-container\" hidden><div class=\"sk-item sk-dashed-wrapped\"><div class=\"sk-label-container\"><div class=\"sk-label sk-toggleable\"><input class=\"sk-toggleable__control sk-hidden--visually\" id=\"sk-estimator-id-16\" type=\"checkbox\" ><label for=\"sk-estimator-id-16\" class=\"sk-toggleable__label sk-toggleable__label-arrow\">Pipeline</label><div class=\"sk-toggleable__content\"><pre>Pipeline(steps=[(&#x27;preproc&#x27;,\n",
       "                 ColumnTransformer(transformers=[(&#x27;num&#x27;,\n",
       "                                                  Pipeline(steps=[(&#x27;standardscaler&#x27;,\n",
       "                                                                   StandardScaler())]),\n",
       "                                                  [&#x27;Age&#x27;]),\n",
       "                                                 (&#x27;cat&#x27;,\n",
       "                                                  Pipeline(steps=[(&#x27;onehotencoder&#x27;,\n",
       "                                                                   OneHotEncoder())]),\n",
       "                                                  [&#x27;Gender&#x27;, &#x27;family_history&#x27;,\n",
       "                                                   &#x27;no_employees&#x27;,\n",
       "                                                   &#x27;remote_work&#x27;, &#x27;benefits&#x27;,\n",
       "                                                   &#x27;care_options&#x27;,\n",
       "                                                   &#x27;wellness_program&#x27;,\n",
       "                                                   &#x27;anonymity&#x27;, &#x27;leave&#x27;,\n",
       "                                                   &#x27;phys_health_consequence&#x27;,\n",
       "                                                   &#x27;coworkers&#x27;, &#x27;supervisor&#x27;,\n",
       "                                                   &#x27;phys_health_interview&#x27;,\n",
       "                                                   &#x27;mental_vs_physical&#x27;,\n",
       "                                                   &#x27;work_treatment_interfere&#x27;,\n",
       "                                                   &#x27;work_no_treatment_interfere&#x27;,\n",
       "                                                   &#x27;Continent&#x27;])])),\n",
       "                (&#x27;est&#x27;,\n",
       "                 RandomForestClassifier(max_depth=2, max_features=&#x27;log2&#x27;,\n",
       "                                        max_leaf_nodes=9, max_samples=0.25,\n",
       "                                        n_estimators=75, random_state=42))])</pre></div></div></div><div class=\"sk-serial\"><div class=\"sk-item sk-dashed-wrapped\"><div class=\"sk-label-container\"><div class=\"sk-label sk-toggleable\"><input class=\"sk-toggleable__control sk-hidden--visually\" id=\"sk-estimator-id-17\" type=\"checkbox\" ><label for=\"sk-estimator-id-17\" class=\"sk-toggleable__label sk-toggleable__label-arrow\">preproc: ColumnTransformer</label><div class=\"sk-toggleable__content\"><pre>ColumnTransformer(transformers=[(&#x27;num&#x27;,\n",
       "                                 Pipeline(steps=[(&#x27;standardscaler&#x27;,\n",
       "                                                  StandardScaler())]),\n",
       "                                 [&#x27;Age&#x27;]),\n",
       "                                (&#x27;cat&#x27;,\n",
       "                                 Pipeline(steps=[(&#x27;onehotencoder&#x27;,\n",
       "                                                  OneHotEncoder())]),\n",
       "                                 [&#x27;Gender&#x27;, &#x27;family_history&#x27;, &#x27;no_employees&#x27;,\n",
       "                                  &#x27;remote_work&#x27;, &#x27;benefits&#x27;, &#x27;care_options&#x27;,\n",
       "                                  &#x27;wellness_program&#x27;, &#x27;anonymity&#x27;, &#x27;leave&#x27;,\n",
       "                                  &#x27;phys_health_consequence&#x27;, &#x27;coworkers&#x27;,\n",
       "                                  &#x27;supervisor&#x27;, &#x27;phys_health_interview&#x27;,\n",
       "                                  &#x27;mental_vs_physical&#x27;,\n",
       "                                  &#x27;work_treatment_interfere&#x27;,\n",
       "                                  &#x27;work_no_treatment_interfere&#x27;,\n",
       "                                  &#x27;Continent&#x27;])])</pre></div></div></div><div class=\"sk-parallel\"><div class=\"sk-parallel-item\"><div class=\"sk-item\"><div class=\"sk-label-container\"><div class=\"sk-label sk-toggleable\"><input class=\"sk-toggleable__control sk-hidden--visually\" id=\"sk-estimator-id-18\" type=\"checkbox\" ><label for=\"sk-estimator-id-18\" class=\"sk-toggleable__label sk-toggleable__label-arrow\">num</label><div class=\"sk-toggleable__content\"><pre>[&#x27;Age&#x27;]</pre></div></div></div><div class=\"sk-serial\"><div class=\"sk-item\"><div class=\"sk-serial\"><div class=\"sk-item\"><div class=\"sk-estimator sk-toggleable\"><input class=\"sk-toggleable__control sk-hidden--visually\" id=\"sk-estimator-id-19\" type=\"checkbox\" ><label for=\"sk-estimator-id-19\" class=\"sk-toggleable__label sk-toggleable__label-arrow\">StandardScaler</label><div class=\"sk-toggleable__content\"><pre>StandardScaler()</pre></div></div></div></div></div></div></div></div><div class=\"sk-parallel-item\"><div class=\"sk-item\"><div class=\"sk-label-container\"><div class=\"sk-label sk-toggleable\"><input class=\"sk-toggleable__control sk-hidden--visually\" id=\"sk-estimator-id-20\" type=\"checkbox\" ><label for=\"sk-estimator-id-20\" class=\"sk-toggleable__label sk-toggleable__label-arrow\">cat</label><div class=\"sk-toggleable__content\"><pre>[&#x27;Gender&#x27;, &#x27;family_history&#x27;, &#x27;no_employees&#x27;, &#x27;remote_work&#x27;, &#x27;benefits&#x27;, &#x27;care_options&#x27;, &#x27;wellness_program&#x27;, &#x27;anonymity&#x27;, &#x27;leave&#x27;, &#x27;phys_health_consequence&#x27;, &#x27;coworkers&#x27;, &#x27;supervisor&#x27;, &#x27;phys_health_interview&#x27;, &#x27;mental_vs_physical&#x27;, &#x27;work_treatment_interfere&#x27;, &#x27;work_no_treatment_interfere&#x27;, &#x27;Continent&#x27;]</pre></div></div></div><div class=\"sk-serial\"><div class=\"sk-item\"><div class=\"sk-serial\"><div class=\"sk-item\"><div class=\"sk-estimator sk-toggleable\"><input class=\"sk-toggleable__control sk-hidden--visually\" id=\"sk-estimator-id-21\" type=\"checkbox\" ><label for=\"sk-estimator-id-21\" class=\"sk-toggleable__label sk-toggleable__label-arrow\">OneHotEncoder</label><div class=\"sk-toggleable__content\"><pre>OneHotEncoder()</pre></div></div></div></div></div></div></div></div></div></div><div class=\"sk-item\"><div class=\"sk-estimator sk-toggleable\"><input class=\"sk-toggleable__control sk-hidden--visually\" id=\"sk-estimator-id-22\" type=\"checkbox\" ><label for=\"sk-estimator-id-22\" class=\"sk-toggleable__label sk-toggleable__label-arrow\">RandomForestClassifier</label><div class=\"sk-toggleable__content\"><pre>RandomForestClassifier(max_depth=2, max_features=&#x27;log2&#x27;, max_leaf_nodes=9,\n",
       "                       max_samples=0.25, n_estimators=75, random_state=42)</pre></div></div></div></div></div></div></div>"
      ],
      "text/plain": [
       "Pipeline(steps=[('preproc',\n",
       "                 ColumnTransformer(transformers=[('num',\n",
       "                                                  Pipeline(steps=[('standardscaler',\n",
       "                                                                   StandardScaler())]),\n",
       "                                                  ['Age']),\n",
       "                                                 ('cat',\n",
       "                                                  Pipeline(steps=[('onehotencoder',\n",
       "                                                                   OneHotEncoder())]),\n",
       "                                                  ['Gender', 'family_history',\n",
       "                                                   'no_employees',\n",
       "                                                   'remote_work', 'benefits',\n",
       "                                                   'care_options',\n",
       "                                                   'wellness_program',\n",
       "                                                   'anonymity', 'leave',\n",
       "                                                   'phys_health_consequence',\n",
       "                                                   'coworkers', 'supervisor',\n",
       "                                                   'phys_health_interview',\n",
       "                                                   'mental_vs_physical',\n",
       "                                                   'work_treatment_interfere',\n",
       "                                                   'work_no_treatment_interfere',\n",
       "                                                   'Continent'])])),\n",
       "                ('est',\n",
       "                 RandomForestClassifier(max_depth=2, max_features='log2',\n",
       "                                        max_leaf_nodes=9, max_samples=0.25,\n",
       "                                        n_estimators=75, random_state=42))])"
      ]
     },
     "execution_count": 40,
     "metadata": {},
     "output_type": "execute_result"
    }
   ],
   "source": [
    "model_name_rf =RandomForestClassifier(max_depth=2, max_features='log2', max_leaf_nodes=9,\n",
    "                       max_samples=0.25, n_estimators=75, random_state=42)\n",
    "pipe_rf = tomi_make_pipe(cat_col, model_name_rf) \n",
    "pipe_rf.fit(pl_X_train, pl_y_train)"
   ]
  },
  {
   "cell_type": "code",
   "execution_count": 41,
   "id": "6796bcda-fe9d-492f-bdb4-dc22c018b2b6",
   "metadata": {},
   "outputs": [],
   "source": [
    "# make predictions on training set\n",
    "pl_y_pred_rf = pipe_rf.predict(pl_X_train)\n",
    "\n",
    "# make predictions on test set\n",
    "pl_y_pred_test_rf = pipe_rf.predict(pl_X_test)"
   ]
  },
  {
   "cell_type": "code",
   "execution_count": 42,
   "id": "5102b6ce-a84f-469b-bf59-a0c5ecd23526",
   "metadata": {},
   "outputs": [],
   "source": [
    "d_rf= {'Recall TRAIN:' : metrics.recall_score(pl_y_train, pl_y_pred_rf), 'Recall TEST:' :metrics.recall_score(pl_y_test, pl_y_pred_test_rf),\n",
    "       'F1 score TRAIN': metrics.f1_score(pl_y_train, pl_y_pred_rf), 'F1 score TEST' : metrics.f1_score(pl_y_test, pl_y_pred_test_rf),\n",
    "      'Accuracy TRAIN' : accuracy_score(pl_y_train, pl_y_pred_rf), 'Accurasy TEST' : accuracy_score(pl_y_test, pl_y_pred_test_rf)}\n",
    "\n",
    "d_svc= {'Recall TRAIN:' : metrics.recall_score(pl_y_train, pl_y_pred_svc), 'Recall TEST:' :metrics.recall_score(pl_y_test, pl_y_pred_test_svc),\n",
    "       'F1 score TRAIN': metrics.f1_score(pl_y_train, pl_y_pred_svc), 'F1 score TEST' : metrics.f1_score(pl_y_test, pl_y_pred_test_svc),\n",
    "      'Accuracy TRAIN' : accuracy_score(pl_y_train, pl_y_pred_svc), 'Accurasy TEST' : accuracy_score(pl_y_test, pl_y_pred_test_svc)}"
   ]
  },
  {
   "cell_type": "code",
   "execution_count": 43,
   "id": "cb3d9f13-59e8-4b26-9462-e11d0c0f9fd3",
   "metadata": {},
   "outputs": [
    {
     "data": {
      "text/html": [
       "<div>\n",
       "<style scoped>\n",
       "    .dataframe tbody tr th:only-of-type {\n",
       "        vertical-align: middle;\n",
       "    }\n",
       "\n",
       "    .dataframe tbody tr th {\n",
       "        vertical-align: top;\n",
       "    }\n",
       "\n",
       "    .dataframe thead th {\n",
       "        text-align: right;\n",
       "    }\n",
       "</style>\n",
       "<table border=\"1\" class=\"dataframe\">\n",
       "  <thead>\n",
       "    <tr style=\"text-align: right;\">\n",
       "      <th></th>\n",
       "      <th>Recall TRAIN:</th>\n",
       "      <th>Recall TEST:</th>\n",
       "      <th>F1 score TRAIN</th>\n",
       "      <th>F1 score TEST</th>\n",
       "      <th>Accuracy TRAIN</th>\n",
       "      <th>Accurasy TEST</th>\n",
       "    </tr>\n",
       "  </thead>\n",
       "  <tbody>\n",
       "    <tr>\n",
       "      <th>Random Forest</th>\n",
       "      <td>0.929432</td>\n",
       "      <td>0.970100</td>\n",
       "      <td>0.849057</td>\n",
       "      <td>0.878195</td>\n",
       "      <td>0.820477</td>\n",
       "      <td>0.848598</td>\n",
       "    </tr>\n",
       "    <tr>\n",
       "      <th>SVC</th>\n",
       "      <td>0.919966</td>\n",
       "      <td>0.943522</td>\n",
       "      <td>0.860709</td>\n",
       "      <td>0.873846</td>\n",
       "      <td>0.838242</td>\n",
       "      <td>0.846729</td>\n",
       "    </tr>\n",
       "  </tbody>\n",
       "</table>\n",
       "</div>"
      ],
      "text/plain": [
       "               Recall TRAIN:  Recall TEST:  F1 score TRAIN  F1 score TEST  \\\n",
       "Random Forest       0.929432      0.970100        0.849057       0.878195   \n",
       "SVC                 0.919966      0.943522        0.860709       0.873846   \n",
       "\n",
       "               Accuracy TRAIN  Accurasy TEST  \n",
       "Random Forest        0.820477       0.848598  \n",
       "SVC                  0.838242       0.846729  "
      ]
     },
     "execution_count": 43,
     "metadata": {},
     "output_type": "execute_result"
    }
   ],
   "source": [
    "pd.concat([pd.DataFrame(d_rf, columns=d_rf.keys(), index=['Random Forest']), pd.DataFrame(d_svc, columns=d_svc.keys(), index=['SVC'])])"
   ]
  },
  {
   "cell_type": "markdown",
   "id": "39e5222a-e1e0-421d-8473-58fc7b34cde9",
   "metadata": {},
   "source": [
    "[TOP](#topi)\n",
    "<a id='2017'></a>\n",
    "\n",
    "## Use the data from 2017 as a test set\n",
    "\n",
    "Here we will use the data from 2014 and 2016 as a training set and will test on the data from 2017.\n",
    "Unfortunately the questions has changed and we have to convert the data to a compatible format. This is done in the file \"new data.ipynb\".\n",
    "as in the new surveys there were no questions regarding 'remote_work', 'phys_health_consequence' and 'mental_vs_physical', we will have to create a new pipeline that skips those columns in the preprocessing transformation (this is done in \"tomi_make_pipe\"). "
   ]
  },
  {
   "cell_type": "code",
   "execution_count": 44,
   "id": "1a9c3ef8-6ecc-4749-80cf-2880ff169cb2",
   "metadata": {},
   "outputs": [],
   "source": [
    "mental2017 = pd.read_csv('17_pre_Encoder.csv')"
   ]
  },
  {
   "cell_type": "code",
   "execution_count": 45,
   "id": "45ca4144-28d4-46aa-8bc7-269ad8a5f1e5",
   "metadata": {},
   "outputs": [],
   "source": [
    "used_cols_17 = [i for i in mental2017.columns.tolist() if i not in ['treatment']]\n",
    "target_17 = ['treatment']\n",
    "pl_X_old = pipe_dataset[used_cols_17]\n",
    "pl_y_old = np.ravel(pipe_dataset[target_17])\n",
    "pl_X_17 = mental2017[used_cols_17]\n",
    "pl_y_17 = np.ravel(mental2017[target_17])"
   ]
  },
  {
   "cell_type": "markdown",
   "id": "55ee880f-2754-449a-91ba-328379ad24e2",
   "metadata": {},
   "source": [
    "### SVC"
   ]
  },
  {
   "cell_type": "code",
   "execution_count": 46,
   "id": "3a30f6f3-83e9-4971-a79d-ece4fb80c8c0",
   "metadata": {},
   "outputs": [
    {
     "name": "stdout",
     "output_type": "stream",
     "text": [
      "[LibSVM]"
     ]
    },
    {
     "data": {
      "text/html": [
       "<style>#sk-container-id-7 {color: black;background-color: white;}#sk-container-id-7 pre{padding: 0;}#sk-container-id-7 div.sk-toggleable {background-color: white;}#sk-container-id-7 label.sk-toggleable__label {cursor: pointer;display: block;width: 100%;margin-bottom: 0;padding: 0.3em;box-sizing: border-box;text-align: center;}#sk-container-id-7 label.sk-toggleable__label-arrow:before {content: \"▸\";float: left;margin-right: 0.25em;color: #696969;}#sk-container-id-7 label.sk-toggleable__label-arrow:hover:before {color: black;}#sk-container-id-7 div.sk-estimator:hover label.sk-toggleable__label-arrow:before {color: black;}#sk-container-id-7 div.sk-toggleable__content {max-height: 0;max-width: 0;overflow: hidden;text-align: left;background-color: #f0f8ff;}#sk-container-id-7 div.sk-toggleable__content pre {margin: 0.2em;color: black;border-radius: 0.25em;background-color: #f0f8ff;}#sk-container-id-7 input.sk-toggleable__control:checked~div.sk-toggleable__content {max-height: 200px;max-width: 100%;overflow: auto;}#sk-container-id-7 input.sk-toggleable__control:checked~label.sk-toggleable__label-arrow:before {content: \"▾\";}#sk-container-id-7 div.sk-estimator input.sk-toggleable__control:checked~label.sk-toggleable__label {background-color: #d4ebff;}#sk-container-id-7 div.sk-label input.sk-toggleable__control:checked~label.sk-toggleable__label {background-color: #d4ebff;}#sk-container-id-7 input.sk-hidden--visually {border: 0;clip: rect(1px 1px 1px 1px);clip: rect(1px, 1px, 1px, 1px);height: 1px;margin: -1px;overflow: hidden;padding: 0;position: absolute;width: 1px;}#sk-container-id-7 div.sk-estimator {font-family: monospace;background-color: #f0f8ff;border: 1px dotted black;border-radius: 0.25em;box-sizing: border-box;margin-bottom: 0.5em;}#sk-container-id-7 div.sk-estimator:hover {background-color: #d4ebff;}#sk-container-id-7 div.sk-parallel-item::after {content: \"\";width: 100%;border-bottom: 1px solid gray;flex-grow: 1;}#sk-container-id-7 div.sk-label:hover label.sk-toggleable__label {background-color: #d4ebff;}#sk-container-id-7 div.sk-serial::before {content: \"\";position: absolute;border-left: 1px solid gray;box-sizing: border-box;top: 0;bottom: 0;left: 50%;z-index: 0;}#sk-container-id-7 div.sk-serial {display: flex;flex-direction: column;align-items: center;background-color: white;padding-right: 0.2em;padding-left: 0.2em;position: relative;}#sk-container-id-7 div.sk-item {position: relative;z-index: 1;}#sk-container-id-7 div.sk-parallel {display: flex;align-items: stretch;justify-content: center;background-color: white;position: relative;}#sk-container-id-7 div.sk-item::before, #sk-container-id-7 div.sk-parallel-item::before {content: \"\";position: absolute;border-left: 1px solid gray;box-sizing: border-box;top: 0;bottom: 0;left: 50%;z-index: -1;}#sk-container-id-7 div.sk-parallel-item {display: flex;flex-direction: column;z-index: 1;position: relative;background-color: white;}#sk-container-id-7 div.sk-parallel-item:first-child::after {align-self: flex-end;width: 50%;}#sk-container-id-7 div.sk-parallel-item:last-child::after {align-self: flex-start;width: 50%;}#sk-container-id-7 div.sk-parallel-item:only-child::after {width: 0;}#sk-container-id-7 div.sk-dashed-wrapped {border: 1px dashed gray;margin: 0 0.4em 0.5em 0.4em;box-sizing: border-box;padding-bottom: 0.4em;background-color: white;}#sk-container-id-7 div.sk-label label {font-family: monospace;font-weight: bold;display: inline-block;line-height: 1.2em;}#sk-container-id-7 div.sk-label-container {text-align: center;}#sk-container-id-7 div.sk-container {/* jupyter's `normalize.less` sets `[hidden] { display: none; }` but bootstrap.min.css set `[hidden] { display: none !important; }` so we also need the `!important` here to be able to override the default hidden behavior on the sphinx rendered scikit-learn.org. See: https://github.com/scikit-learn/scikit-learn/issues/21755 */display: inline-block !important;position: relative;}#sk-container-id-7 div.sk-text-repr-fallback {display: none;}</style><div id=\"sk-container-id-7\" class=\"sk-top-container\"><div class=\"sk-text-repr-fallback\"><pre>Pipeline(steps=[(&#x27;preproc&#x27;,\n",
       "                 ColumnTransformer(transformers=[(&#x27;num&#x27;,\n",
       "                                                  Pipeline(steps=[(&#x27;standardscaler&#x27;,\n",
       "                                                                   StandardScaler())]),\n",
       "                                                  [&#x27;Age&#x27;]),\n",
       "                                                 (&#x27;cat&#x27;,\n",
       "                                                  Pipeline(steps=[(&#x27;onehotencoder&#x27;,\n",
       "                                                                   OneHotEncoder())]),\n",
       "                                                  [&#x27;Gender&#x27;, &#x27;family_history&#x27;,\n",
       "                                                   &#x27;no_employees&#x27;, &#x27;benefits&#x27;,\n",
       "                                                   &#x27;care_options&#x27;,\n",
       "                                                   &#x27;wellness_program&#x27;,\n",
       "                                                   &#x27;anonymity&#x27;, &#x27;leave&#x27;,\n",
       "                                                   &#x27;coworkers&#x27;, &#x27;supervisor&#x27;,\n",
       "                                                   &#x27;phys_health_interview&#x27;,\n",
       "                                                   &#x27;work_treatment_interfere&#x27;,\n",
       "                                                   &#x27;work_no_treatment_interfere&#x27;,\n",
       "                                                   &#x27;Continent&#x27;])])),\n",
       "                (&#x27;est&#x27;,\n",
       "                 SVC(C=0.05, class_weight=&#x27;balanced&#x27;, degree=2, kernel=&#x27;poly&#x27;,\n",
       "                     probability=True, random_state=42, verbose=True))])</pre><b>In a Jupyter environment, please rerun this cell to show the HTML representation or trust the notebook. <br />On GitHub, the HTML representation is unable to render, please try loading this page with nbviewer.org.</b></div><div class=\"sk-container\" hidden><div class=\"sk-item sk-dashed-wrapped\"><div class=\"sk-label-container\"><div class=\"sk-label sk-toggleable\"><input class=\"sk-toggleable__control sk-hidden--visually\" id=\"sk-estimator-id-23\" type=\"checkbox\" ><label for=\"sk-estimator-id-23\" class=\"sk-toggleable__label sk-toggleable__label-arrow\">Pipeline</label><div class=\"sk-toggleable__content\"><pre>Pipeline(steps=[(&#x27;preproc&#x27;,\n",
       "                 ColumnTransformer(transformers=[(&#x27;num&#x27;,\n",
       "                                                  Pipeline(steps=[(&#x27;standardscaler&#x27;,\n",
       "                                                                   StandardScaler())]),\n",
       "                                                  [&#x27;Age&#x27;]),\n",
       "                                                 (&#x27;cat&#x27;,\n",
       "                                                  Pipeline(steps=[(&#x27;onehotencoder&#x27;,\n",
       "                                                                   OneHotEncoder())]),\n",
       "                                                  [&#x27;Gender&#x27;, &#x27;family_history&#x27;,\n",
       "                                                   &#x27;no_employees&#x27;, &#x27;benefits&#x27;,\n",
       "                                                   &#x27;care_options&#x27;,\n",
       "                                                   &#x27;wellness_program&#x27;,\n",
       "                                                   &#x27;anonymity&#x27;, &#x27;leave&#x27;,\n",
       "                                                   &#x27;coworkers&#x27;, &#x27;supervisor&#x27;,\n",
       "                                                   &#x27;phys_health_interview&#x27;,\n",
       "                                                   &#x27;work_treatment_interfere&#x27;,\n",
       "                                                   &#x27;work_no_treatment_interfere&#x27;,\n",
       "                                                   &#x27;Continent&#x27;])])),\n",
       "                (&#x27;est&#x27;,\n",
       "                 SVC(C=0.05, class_weight=&#x27;balanced&#x27;, degree=2, kernel=&#x27;poly&#x27;,\n",
       "                     probability=True, random_state=42, verbose=True))])</pre></div></div></div><div class=\"sk-serial\"><div class=\"sk-item sk-dashed-wrapped\"><div class=\"sk-label-container\"><div class=\"sk-label sk-toggleable\"><input class=\"sk-toggleable__control sk-hidden--visually\" id=\"sk-estimator-id-24\" type=\"checkbox\" ><label for=\"sk-estimator-id-24\" class=\"sk-toggleable__label sk-toggleable__label-arrow\">preproc: ColumnTransformer</label><div class=\"sk-toggleable__content\"><pre>ColumnTransformer(transformers=[(&#x27;num&#x27;,\n",
       "                                 Pipeline(steps=[(&#x27;standardscaler&#x27;,\n",
       "                                                  StandardScaler())]),\n",
       "                                 [&#x27;Age&#x27;]),\n",
       "                                (&#x27;cat&#x27;,\n",
       "                                 Pipeline(steps=[(&#x27;onehotencoder&#x27;,\n",
       "                                                  OneHotEncoder())]),\n",
       "                                 [&#x27;Gender&#x27;, &#x27;family_history&#x27;, &#x27;no_employees&#x27;,\n",
       "                                  &#x27;benefits&#x27;, &#x27;care_options&#x27;,\n",
       "                                  &#x27;wellness_program&#x27;, &#x27;anonymity&#x27;, &#x27;leave&#x27;,\n",
       "                                  &#x27;coworkers&#x27;, &#x27;supervisor&#x27;,\n",
       "                                  &#x27;phys_health_interview&#x27;,\n",
       "                                  &#x27;work_treatment_interfere&#x27;,\n",
       "                                  &#x27;work_no_treatment_interfere&#x27;,\n",
       "                                  &#x27;Continent&#x27;])])</pre></div></div></div><div class=\"sk-parallel\"><div class=\"sk-parallel-item\"><div class=\"sk-item\"><div class=\"sk-label-container\"><div class=\"sk-label sk-toggleable\"><input class=\"sk-toggleable__control sk-hidden--visually\" id=\"sk-estimator-id-25\" type=\"checkbox\" ><label for=\"sk-estimator-id-25\" class=\"sk-toggleable__label sk-toggleable__label-arrow\">num</label><div class=\"sk-toggleable__content\"><pre>[&#x27;Age&#x27;]</pre></div></div></div><div class=\"sk-serial\"><div class=\"sk-item\"><div class=\"sk-serial\"><div class=\"sk-item\"><div class=\"sk-estimator sk-toggleable\"><input class=\"sk-toggleable__control sk-hidden--visually\" id=\"sk-estimator-id-26\" type=\"checkbox\" ><label for=\"sk-estimator-id-26\" class=\"sk-toggleable__label sk-toggleable__label-arrow\">StandardScaler</label><div class=\"sk-toggleable__content\"><pre>StandardScaler()</pre></div></div></div></div></div></div></div></div><div class=\"sk-parallel-item\"><div class=\"sk-item\"><div class=\"sk-label-container\"><div class=\"sk-label sk-toggleable\"><input class=\"sk-toggleable__control sk-hidden--visually\" id=\"sk-estimator-id-27\" type=\"checkbox\" ><label for=\"sk-estimator-id-27\" class=\"sk-toggleable__label sk-toggleable__label-arrow\">cat</label><div class=\"sk-toggleable__content\"><pre>[&#x27;Gender&#x27;, &#x27;family_history&#x27;, &#x27;no_employees&#x27;, &#x27;benefits&#x27;, &#x27;care_options&#x27;, &#x27;wellness_program&#x27;, &#x27;anonymity&#x27;, &#x27;leave&#x27;, &#x27;coworkers&#x27;, &#x27;supervisor&#x27;, &#x27;phys_health_interview&#x27;, &#x27;work_treatment_interfere&#x27;, &#x27;work_no_treatment_interfere&#x27;, &#x27;Continent&#x27;]</pre></div></div></div><div class=\"sk-serial\"><div class=\"sk-item\"><div class=\"sk-serial\"><div class=\"sk-item\"><div class=\"sk-estimator sk-toggleable\"><input class=\"sk-toggleable__control sk-hidden--visually\" id=\"sk-estimator-id-28\" type=\"checkbox\" ><label for=\"sk-estimator-id-28\" class=\"sk-toggleable__label sk-toggleable__label-arrow\">OneHotEncoder</label><div class=\"sk-toggleable__content\"><pre>OneHotEncoder()</pre></div></div></div></div></div></div></div></div></div></div><div class=\"sk-item\"><div class=\"sk-estimator sk-toggleable\"><input class=\"sk-toggleable__control sk-hidden--visually\" id=\"sk-estimator-id-29\" type=\"checkbox\" ><label for=\"sk-estimator-id-29\" class=\"sk-toggleable__label sk-toggleable__label-arrow\">SVC</label><div class=\"sk-toggleable__content\"><pre>SVC(C=0.05, class_weight=&#x27;balanced&#x27;, degree=2, kernel=&#x27;poly&#x27;, probability=True,\n",
       "    random_state=42, verbose=True)</pre></div></div></div></div></div></div></div>"
      ],
      "text/plain": [
       "Pipeline(steps=[('preproc',\n",
       "                 ColumnTransformer(transformers=[('num',\n",
       "                                                  Pipeline(steps=[('standardscaler',\n",
       "                                                                   StandardScaler())]),\n",
       "                                                  ['Age']),\n",
       "                                                 ('cat',\n",
       "                                                  Pipeline(steps=[('onehotencoder',\n",
       "                                                                   OneHotEncoder())]),\n",
       "                                                  ['Gender', 'family_history',\n",
       "                                                   'no_employees', 'benefits',\n",
       "                                                   'care_options',\n",
       "                                                   'wellness_program',\n",
       "                                                   'anonymity', 'leave',\n",
       "                                                   'coworkers', 'supervisor',\n",
       "                                                   'phys_health_interview',\n",
       "                                                   'work_treatment_interfere',\n",
       "                                                   'work_no_treatment_interfere',\n",
       "                                                   'Continent'])])),\n",
       "                ('est',\n",
       "                 SVC(C=0.05, class_weight='balanced', degree=2, kernel='poly',\n",
       "                     probability=True, random_state=42, verbose=True))])"
      ]
     },
     "execution_count": 46,
     "metadata": {},
     "output_type": "execute_result"
    }
   ],
   "source": [
    "pipe_svc_17= tomi_make_pipe(mental2017.columns,model_name_svc)\n",
    "pipe_svc_17.fit(pl_X_old, pl_y_old)\n"
   ]
  },
  {
   "cell_type": "code",
   "execution_count": 47,
   "id": "f6246239-fe31-4438-b04c-d58c727de963",
   "metadata": {},
   "outputs": [],
   "source": [
    "pl_y_pred_17_svc = pipe_svc_17.predict(pl_X_17)"
   ]
  },
  {
   "cell_type": "markdown",
   "id": "3a035b50-f155-476a-bb51-b95cdb7469b6",
   "metadata": {},
   "source": [
    "### Random Forest"
   ]
  },
  {
   "cell_type": "code",
   "execution_count": 48,
   "id": "d8b21a78-c511-478b-8dbd-8fc7cf174b45",
   "metadata": {},
   "outputs": [
    {
     "data": {
      "text/html": [
       "<style>#sk-container-id-8 {color: black;background-color: white;}#sk-container-id-8 pre{padding: 0;}#sk-container-id-8 div.sk-toggleable {background-color: white;}#sk-container-id-8 label.sk-toggleable__label {cursor: pointer;display: block;width: 100%;margin-bottom: 0;padding: 0.3em;box-sizing: border-box;text-align: center;}#sk-container-id-8 label.sk-toggleable__label-arrow:before {content: \"▸\";float: left;margin-right: 0.25em;color: #696969;}#sk-container-id-8 label.sk-toggleable__label-arrow:hover:before {color: black;}#sk-container-id-8 div.sk-estimator:hover label.sk-toggleable__label-arrow:before {color: black;}#sk-container-id-8 div.sk-toggleable__content {max-height: 0;max-width: 0;overflow: hidden;text-align: left;background-color: #f0f8ff;}#sk-container-id-8 div.sk-toggleable__content pre {margin: 0.2em;color: black;border-radius: 0.25em;background-color: #f0f8ff;}#sk-container-id-8 input.sk-toggleable__control:checked~div.sk-toggleable__content {max-height: 200px;max-width: 100%;overflow: auto;}#sk-container-id-8 input.sk-toggleable__control:checked~label.sk-toggleable__label-arrow:before {content: \"▾\";}#sk-container-id-8 div.sk-estimator input.sk-toggleable__control:checked~label.sk-toggleable__label {background-color: #d4ebff;}#sk-container-id-8 div.sk-label input.sk-toggleable__control:checked~label.sk-toggleable__label {background-color: #d4ebff;}#sk-container-id-8 input.sk-hidden--visually {border: 0;clip: rect(1px 1px 1px 1px);clip: rect(1px, 1px, 1px, 1px);height: 1px;margin: -1px;overflow: hidden;padding: 0;position: absolute;width: 1px;}#sk-container-id-8 div.sk-estimator {font-family: monospace;background-color: #f0f8ff;border: 1px dotted black;border-radius: 0.25em;box-sizing: border-box;margin-bottom: 0.5em;}#sk-container-id-8 div.sk-estimator:hover {background-color: #d4ebff;}#sk-container-id-8 div.sk-parallel-item::after {content: \"\";width: 100%;border-bottom: 1px solid gray;flex-grow: 1;}#sk-container-id-8 div.sk-label:hover label.sk-toggleable__label {background-color: #d4ebff;}#sk-container-id-8 div.sk-serial::before {content: \"\";position: absolute;border-left: 1px solid gray;box-sizing: border-box;top: 0;bottom: 0;left: 50%;z-index: 0;}#sk-container-id-8 div.sk-serial {display: flex;flex-direction: column;align-items: center;background-color: white;padding-right: 0.2em;padding-left: 0.2em;position: relative;}#sk-container-id-8 div.sk-item {position: relative;z-index: 1;}#sk-container-id-8 div.sk-parallel {display: flex;align-items: stretch;justify-content: center;background-color: white;position: relative;}#sk-container-id-8 div.sk-item::before, #sk-container-id-8 div.sk-parallel-item::before {content: \"\";position: absolute;border-left: 1px solid gray;box-sizing: border-box;top: 0;bottom: 0;left: 50%;z-index: -1;}#sk-container-id-8 div.sk-parallel-item {display: flex;flex-direction: column;z-index: 1;position: relative;background-color: white;}#sk-container-id-8 div.sk-parallel-item:first-child::after {align-self: flex-end;width: 50%;}#sk-container-id-8 div.sk-parallel-item:last-child::after {align-self: flex-start;width: 50%;}#sk-container-id-8 div.sk-parallel-item:only-child::after {width: 0;}#sk-container-id-8 div.sk-dashed-wrapped {border: 1px dashed gray;margin: 0 0.4em 0.5em 0.4em;box-sizing: border-box;padding-bottom: 0.4em;background-color: white;}#sk-container-id-8 div.sk-label label {font-family: monospace;font-weight: bold;display: inline-block;line-height: 1.2em;}#sk-container-id-8 div.sk-label-container {text-align: center;}#sk-container-id-8 div.sk-container {/* jupyter's `normalize.less` sets `[hidden] { display: none; }` but bootstrap.min.css set `[hidden] { display: none !important; }` so we also need the `!important` here to be able to override the default hidden behavior on the sphinx rendered scikit-learn.org. See: https://github.com/scikit-learn/scikit-learn/issues/21755 */display: inline-block !important;position: relative;}#sk-container-id-8 div.sk-text-repr-fallback {display: none;}</style><div id=\"sk-container-id-8\" class=\"sk-top-container\"><div class=\"sk-text-repr-fallback\"><pre>Pipeline(steps=[(&#x27;preproc&#x27;,\n",
       "                 ColumnTransformer(transformers=[(&#x27;num&#x27;,\n",
       "                                                  Pipeline(steps=[(&#x27;standardscaler&#x27;,\n",
       "                                                                   StandardScaler())]),\n",
       "                                                  [&#x27;Age&#x27;]),\n",
       "                                                 (&#x27;cat&#x27;,\n",
       "                                                  Pipeline(steps=[(&#x27;onehotencoder&#x27;,\n",
       "                                                                   OneHotEncoder())]),\n",
       "                                                  [&#x27;Gender&#x27;, &#x27;family_history&#x27;,\n",
       "                                                   &#x27;no_employees&#x27;, &#x27;benefits&#x27;,\n",
       "                                                   &#x27;care_options&#x27;,\n",
       "                                                   &#x27;wellness_program&#x27;,\n",
       "                                                   &#x27;anonymity&#x27;, &#x27;leave&#x27;,\n",
       "                                                   &#x27;coworkers&#x27;, &#x27;supervisor&#x27;,\n",
       "                                                   &#x27;phys_health_interview&#x27;,\n",
       "                                                   &#x27;work_treatment_interfere&#x27;,\n",
       "                                                   &#x27;work_no_treatment_interfere&#x27;,\n",
       "                                                   &#x27;Continent&#x27;])])),\n",
       "                (&#x27;est&#x27;,\n",
       "                 RandomForestClassifier(max_depth=2, max_features=&#x27;log2&#x27;,\n",
       "                                        max_leaf_nodes=9, max_samples=0.25,\n",
       "                                        n_estimators=75, random_state=42))])</pre><b>In a Jupyter environment, please rerun this cell to show the HTML representation or trust the notebook. <br />On GitHub, the HTML representation is unable to render, please try loading this page with nbviewer.org.</b></div><div class=\"sk-container\" hidden><div class=\"sk-item sk-dashed-wrapped\"><div class=\"sk-label-container\"><div class=\"sk-label sk-toggleable\"><input class=\"sk-toggleable__control sk-hidden--visually\" id=\"sk-estimator-id-30\" type=\"checkbox\" ><label for=\"sk-estimator-id-30\" class=\"sk-toggleable__label sk-toggleable__label-arrow\">Pipeline</label><div class=\"sk-toggleable__content\"><pre>Pipeline(steps=[(&#x27;preproc&#x27;,\n",
       "                 ColumnTransformer(transformers=[(&#x27;num&#x27;,\n",
       "                                                  Pipeline(steps=[(&#x27;standardscaler&#x27;,\n",
       "                                                                   StandardScaler())]),\n",
       "                                                  [&#x27;Age&#x27;]),\n",
       "                                                 (&#x27;cat&#x27;,\n",
       "                                                  Pipeline(steps=[(&#x27;onehotencoder&#x27;,\n",
       "                                                                   OneHotEncoder())]),\n",
       "                                                  [&#x27;Gender&#x27;, &#x27;family_history&#x27;,\n",
       "                                                   &#x27;no_employees&#x27;, &#x27;benefits&#x27;,\n",
       "                                                   &#x27;care_options&#x27;,\n",
       "                                                   &#x27;wellness_program&#x27;,\n",
       "                                                   &#x27;anonymity&#x27;, &#x27;leave&#x27;,\n",
       "                                                   &#x27;coworkers&#x27;, &#x27;supervisor&#x27;,\n",
       "                                                   &#x27;phys_health_interview&#x27;,\n",
       "                                                   &#x27;work_treatment_interfere&#x27;,\n",
       "                                                   &#x27;work_no_treatment_interfere&#x27;,\n",
       "                                                   &#x27;Continent&#x27;])])),\n",
       "                (&#x27;est&#x27;,\n",
       "                 RandomForestClassifier(max_depth=2, max_features=&#x27;log2&#x27;,\n",
       "                                        max_leaf_nodes=9, max_samples=0.25,\n",
       "                                        n_estimators=75, random_state=42))])</pre></div></div></div><div class=\"sk-serial\"><div class=\"sk-item sk-dashed-wrapped\"><div class=\"sk-label-container\"><div class=\"sk-label sk-toggleable\"><input class=\"sk-toggleable__control sk-hidden--visually\" id=\"sk-estimator-id-31\" type=\"checkbox\" ><label for=\"sk-estimator-id-31\" class=\"sk-toggleable__label sk-toggleable__label-arrow\">preproc: ColumnTransformer</label><div class=\"sk-toggleable__content\"><pre>ColumnTransformer(transformers=[(&#x27;num&#x27;,\n",
       "                                 Pipeline(steps=[(&#x27;standardscaler&#x27;,\n",
       "                                                  StandardScaler())]),\n",
       "                                 [&#x27;Age&#x27;]),\n",
       "                                (&#x27;cat&#x27;,\n",
       "                                 Pipeline(steps=[(&#x27;onehotencoder&#x27;,\n",
       "                                                  OneHotEncoder())]),\n",
       "                                 [&#x27;Gender&#x27;, &#x27;family_history&#x27;, &#x27;no_employees&#x27;,\n",
       "                                  &#x27;benefits&#x27;, &#x27;care_options&#x27;,\n",
       "                                  &#x27;wellness_program&#x27;, &#x27;anonymity&#x27;, &#x27;leave&#x27;,\n",
       "                                  &#x27;coworkers&#x27;, &#x27;supervisor&#x27;,\n",
       "                                  &#x27;phys_health_interview&#x27;,\n",
       "                                  &#x27;work_treatment_interfere&#x27;,\n",
       "                                  &#x27;work_no_treatment_interfere&#x27;,\n",
       "                                  &#x27;Continent&#x27;])])</pre></div></div></div><div class=\"sk-parallel\"><div class=\"sk-parallel-item\"><div class=\"sk-item\"><div class=\"sk-label-container\"><div class=\"sk-label sk-toggleable\"><input class=\"sk-toggleable__control sk-hidden--visually\" id=\"sk-estimator-id-32\" type=\"checkbox\" ><label for=\"sk-estimator-id-32\" class=\"sk-toggleable__label sk-toggleable__label-arrow\">num</label><div class=\"sk-toggleable__content\"><pre>[&#x27;Age&#x27;]</pre></div></div></div><div class=\"sk-serial\"><div class=\"sk-item\"><div class=\"sk-serial\"><div class=\"sk-item\"><div class=\"sk-estimator sk-toggleable\"><input class=\"sk-toggleable__control sk-hidden--visually\" id=\"sk-estimator-id-33\" type=\"checkbox\" ><label for=\"sk-estimator-id-33\" class=\"sk-toggleable__label sk-toggleable__label-arrow\">StandardScaler</label><div class=\"sk-toggleable__content\"><pre>StandardScaler()</pre></div></div></div></div></div></div></div></div><div class=\"sk-parallel-item\"><div class=\"sk-item\"><div class=\"sk-label-container\"><div class=\"sk-label sk-toggleable\"><input class=\"sk-toggleable__control sk-hidden--visually\" id=\"sk-estimator-id-34\" type=\"checkbox\" ><label for=\"sk-estimator-id-34\" class=\"sk-toggleable__label sk-toggleable__label-arrow\">cat</label><div class=\"sk-toggleable__content\"><pre>[&#x27;Gender&#x27;, &#x27;family_history&#x27;, &#x27;no_employees&#x27;, &#x27;benefits&#x27;, &#x27;care_options&#x27;, &#x27;wellness_program&#x27;, &#x27;anonymity&#x27;, &#x27;leave&#x27;, &#x27;coworkers&#x27;, &#x27;supervisor&#x27;, &#x27;phys_health_interview&#x27;, &#x27;work_treatment_interfere&#x27;, &#x27;work_no_treatment_interfere&#x27;, &#x27;Continent&#x27;]</pre></div></div></div><div class=\"sk-serial\"><div class=\"sk-item\"><div class=\"sk-serial\"><div class=\"sk-item\"><div class=\"sk-estimator sk-toggleable\"><input class=\"sk-toggleable__control sk-hidden--visually\" id=\"sk-estimator-id-35\" type=\"checkbox\" ><label for=\"sk-estimator-id-35\" class=\"sk-toggleable__label sk-toggleable__label-arrow\">OneHotEncoder</label><div class=\"sk-toggleable__content\"><pre>OneHotEncoder()</pre></div></div></div></div></div></div></div></div></div></div><div class=\"sk-item\"><div class=\"sk-estimator sk-toggleable\"><input class=\"sk-toggleable__control sk-hidden--visually\" id=\"sk-estimator-id-36\" type=\"checkbox\" ><label for=\"sk-estimator-id-36\" class=\"sk-toggleable__label sk-toggleable__label-arrow\">RandomForestClassifier</label><div class=\"sk-toggleable__content\"><pre>RandomForestClassifier(max_depth=2, max_features=&#x27;log2&#x27;, max_leaf_nodes=9,\n",
       "                       max_samples=0.25, n_estimators=75, random_state=42)</pre></div></div></div></div></div></div></div>"
      ],
      "text/plain": [
       "Pipeline(steps=[('preproc',\n",
       "                 ColumnTransformer(transformers=[('num',\n",
       "                                                  Pipeline(steps=[('standardscaler',\n",
       "                                                                   StandardScaler())]),\n",
       "                                                  ['Age']),\n",
       "                                                 ('cat',\n",
       "                                                  Pipeline(steps=[('onehotencoder',\n",
       "                                                                   OneHotEncoder())]),\n",
       "                                                  ['Gender', 'family_history',\n",
       "                                                   'no_employees', 'benefits',\n",
       "                                                   'care_options',\n",
       "                                                   'wellness_program',\n",
       "                                                   'anonymity', 'leave',\n",
       "                                                   'coworkers', 'supervisor',\n",
       "                                                   'phys_health_interview',\n",
       "                                                   'work_treatment_interfere',\n",
       "                                                   'work_no_treatment_interfere',\n",
       "                                                   'Continent'])])),\n",
       "                ('est',\n",
       "                 RandomForestClassifier(max_depth=2, max_features='log2',\n",
       "                                        max_leaf_nodes=9, max_samples=0.25,\n",
       "                                        n_estimators=75, random_state=42))])"
      ]
     },
     "execution_count": 48,
     "metadata": {},
     "output_type": "execute_result"
    }
   ],
   "source": [
    "pipe_rf_17= tomi_make_pipe(mental2017.columns,\n",
    "                           RandomForestClassifier(max_depth=2, max_features='log2', max_leaf_nodes=9,\n",
    "                       max_samples=0.25, n_estimators=75, random_state=42,))\n",
    "pipe_rf_17.fit(pl_X_old, pl_y_old)"
   ]
  },
  {
   "cell_type": "code",
   "execution_count": 49,
   "id": "128baf34-7581-4e6f-9b2f-070049905c6c",
   "metadata": {},
   "outputs": [],
   "source": [
    "pl_y_pred_17_rf = pipe_rf_17.predict(pl_X_17)"
   ]
  },
  {
   "cell_type": "code",
   "execution_count": 50,
   "id": "d9411ccb-679d-43c6-8761-9bb29e95df83",
   "metadata": {},
   "outputs": [],
   "source": [
    "d_17= {'Recall csv:' : metrics.recall_score(pl_y_17, pl_y_pred_17_svc), 'Recall rf:' :metrics.recall_score(pl_y_17, pl_y_pred_17_rf),\n",
    "       'F1 score csv': metrics.f1_score(pl_y_17, pl_y_pred_17_svc), 'F1 score rf' : metrics.f1_score(pl_y_17, pl_y_pred_17_rf),\n",
    "      'Accuracy csv' : accuracy_score(pl_y_17, pl_y_pred_17_svc), 'Accurasy rf' : accuracy_score(pl_y_17, pl_y_pred_17_rf)}"
   ]
  },
  {
   "cell_type": "code",
   "execution_count": 51,
   "id": "4c1188b3-7cce-4eb1-9266-98a9221abcd8",
   "metadata": {},
   "outputs": [
    {
     "data": {
      "text/html": [
       "<div>\n",
       "<style scoped>\n",
       "    .dataframe tbody tr th:only-of-type {\n",
       "        vertical-align: middle;\n",
       "    }\n",
       "\n",
       "    .dataframe tbody tr th {\n",
       "        vertical-align: top;\n",
       "    }\n",
       "\n",
       "    .dataframe thead th {\n",
       "        text-align: right;\n",
       "    }\n",
       "</style>\n",
       "<table border=\"1\" class=\"dataframe\">\n",
       "  <thead>\n",
       "    <tr style=\"text-align: right;\">\n",
       "      <th></th>\n",
       "      <th>Recall csv:</th>\n",
       "      <th>Recall rf:</th>\n",
       "      <th>F1 score csv</th>\n",
       "      <th>F1 score rf</th>\n",
       "      <th>Accuracy csv</th>\n",
       "      <th>Accurasy rf</th>\n",
       "    </tr>\n",
       "  </thead>\n",
       "  <tbody>\n",
       "    <tr>\n",
       "      <th>value</th>\n",
       "      <td>0.90625</td>\n",
       "      <td>0.921875</td>\n",
       "      <td>0.87</td>\n",
       "      <td>0.861314</td>\n",
       "      <td>0.838258</td>\n",
       "      <td>0.822706</td>\n",
       "    </tr>\n",
       "  </tbody>\n",
       "</table>\n",
       "</div>"
      ],
      "text/plain": [
       "       Recall csv:  Recall rf:  F1 score csv  F1 score rf  Accuracy csv  \\\n",
       "value      0.90625    0.921875          0.87     0.861314      0.838258   \n",
       "\n",
       "       Accurasy rf  \n",
       "value     0.822706  "
      ]
     },
     "execution_count": 51,
     "metadata": {},
     "output_type": "execute_result"
    }
   ],
   "source": [
    "pd.DataFrame(d_17, columns=d_17.keys(), index=['value'])"
   ]
  },
  {
   "cell_type": "code",
   "execution_count": 52,
   "id": "ef9eef25-ef43-4eac-832c-487e72076bb5",
   "metadata": {},
   "outputs": [
    {
     "name": "stdout",
     "output_type": "stream",
     "text": [
      "This means that we have identified 68 that should have looked for treatment,but didn't, according to the SVC model. According to the Random Forest model 84 should have looked for treatment\n"
     ]
    }
   ],
   "source": [
    "print(f\"This means that we have identified {metrics.confusion_matrix(pl_y_17, pl_y_pred_17_svc)[0][1]} that should have looked for treatment,\" \n",
    "      f\"but didn't, according to the SVC model. According to the Random Forest model {metrics.confusion_matrix(pl_y_17, pl_y_pred_17_rf)[0][1]} should have looked for treatment\")"
   ]
  },
  {
   "cell_type": "markdown",
   "id": "39edb9e6-b980-4418-b414-97be58513023",
   "metadata": {},
   "source": [
    "[TOP](#topi)\n",
    "<a id = 'roc'></a>\n",
    "### ROC curve for Random Forest\n",
    "SVC doesn't really predict probabilities that well. Thus we will do this experiment only with random Forest.<br>\n",
    "<b>It is important to understand that those probabilities are not really probabilities, but rather a Score of the votes the trees in the forest have made. More info is available [here](https://kiwidamien.github.io/are-you-sure-thats-a-probability.html).</b> <br>\n",
    "As we have mentioned before, we want to achieve high Recall, but still keep somewhat reasonable F1 score (we don't want to mark all targets as 1 and achieve a recall of 1 that way!). We will plot the ROC curve and will choose a threshold that should make our model a bit better of finding the True Positives."
   ]
  },
  {
   "cell_type": "code",
   "execution_count": 53,
   "id": "a4c0e0a8-f62e-49ba-9bad-9a11992fb605",
   "metadata": {},
   "outputs": [],
   "source": [
    " pl_y_17_proba = pipe_rf_17.predict_proba(pl_X_17)"
   ]
  },
  {
   "cell_type": "code",
   "execution_count": 54,
   "id": "74e8ad8e-6ccb-4c7a-8326-f3c865a30cb7",
   "metadata": {},
   "outputs": [],
   "source": [
    "fpr, tpr, thresholds = roc_curve(pl_y_17, pl_y_17_proba[:,1])\n",
    "roc_auc = auc(fpr, tpr)"
   ]
  },
  {
   "cell_type": "code",
   "execution_count": 55,
   "id": "3511366c-471c-40aa-b34f-a5f8218fdb42",
   "metadata": {},
   "outputs": [
    {
     "data": {
      "text/plain": [
       "0.4509941932860809"
      ]
     },
     "execution_count": 55,
     "metadata": {},
     "output_type": "execute_result"
    }
   ],
   "source": [
    "# get the threshold for a specific Recall, in our case this is 0.95\n",
    "index = np.argmax(tpr >= 0.95)\n",
    "thresholds[index]"
   ]
  },
  {
   "cell_type": "code",
   "execution_count": 56,
   "id": "ef171634-58d9-42af-bbb8-5cc08e4b6c31",
   "metadata": {},
   "outputs": [
    {
     "data": {
      "text/plain": [
       "0.9036458333333334"
      ]
     },
     "metadata": {},
     "output_type": "display_data"
    },
    {
     "data": {
      "text/plain": [
       "0.25096525096525096"
      ]
     },
     "execution_count": 56,
     "metadata": {},
     "output_type": "execute_result"
    }
   ],
   "source": [
    "#get the coordinates of the elbow\n",
    "index2 = np.argmax(tpr >= 0.9)\n",
    "display(tpr[index2])\n",
    "fpr[index2]"
   ]
  },
  {
   "cell_type": "code",
   "execution_count": 57,
   "id": "98d3ee9d-4239-4066-be72-8938970de38e",
   "metadata": {},
   "outputs": [
    {
     "data": {
      "image/png": "[encoded data removed]",
      "text/plain": [
       "<Figure size 640x480 with 1 Axes>"
      ]
     },
     "metadata": {},
     "output_type": "display_data"
    }
   ],
   "source": [
    "plt.figure()\n",
    "plt.plot(fpr, tpr, color='darkorange', lw=2, label=f'ROC curve (AUC = {roc_auc:.2f})')\n",
    "plt.plot([0, 1], [0, 1], color='navy', lw=2, linestyle='--')\n",
    "plt.xlim([0.0, 1.0])\n",
    "plt.ylim([0.0, 1.05])\n",
    "plt.axhline(y=0.95, color='green', linestyle='dotted', label='Threshold = 0.45, , Recall = 0.95')\n",
    "plt.axhline(y=0.92, color='red', linestyle='dotted', label='Threshold = 0.5, Recall = 0.92')\n",
    "plt.scatter(0.25, 0.9, c='blue', marker='o', s=30, label = 'elbow at Recall = 0.9')\n",
    "plt.xlabel('False Positive Rate')\n",
    "plt.ylabel('True Positive Rate (Recall)')\n",
    "plt.title('ROC for Random Forest')\n",
    "plt.legend(loc='lower right')\n",
    "plt.show()"
   ]
  },
  {
   "cell_type": "markdown",
   "id": "4fb7816e-9e93-495e-9b69-a0b4c482383d",
   "metadata": {},
   "source": [
    "From the plot above above it is clear that if we lower the threshold further we will start to gain much more FP than TP. If anything i might even increase the threshold just a bit to fit on the elbow"
   ]
  },
  {
   "cell_type": "code",
   "execution_count": 58,
   "id": "33559e24-820b-4e76-ad20-24d313c3dba8",
   "metadata": {},
   "outputs": [],
   "source": [
    "# Lets see how F1 will change with the new lower threshold \n",
    "pl_y_17_new_threshold = []\n",
    "for i in pl_y_17_proba[:,1]:\n",
    "    if i >=0.4509941932860809: pl_y_17_new_threshold.append(1)\n",
    "    else: pl_y_17_new_threshold.append(0)\n"
   ]
  },
  {
   "cell_type": "code",
   "execution_count": 59,
   "id": "175ce02a-99d1-40b2-8051-aa02cab7a1ed",
   "metadata": {},
   "outputs": [],
   "source": [
    "# pl_y_17_new_threshold"
   ]
  },
  {
   "cell_type": "code",
   "execution_count": 60,
   "id": "b13f2452-404f-4893-8c53-a1aeeec77f55",
   "metadata": {},
   "outputs": [
    {
     "data": {
      "text/html": [
       "<div>\n",
       "<style scoped>\n",
       "    .dataframe tbody tr th:only-of-type {\n",
       "        vertical-align: middle;\n",
       "    }\n",
       "\n",
       "    .dataframe tbody tr th {\n",
       "        vertical-align: top;\n",
       "    }\n",
       "\n",
       "    .dataframe thead th {\n",
       "        text-align: right;\n",
       "    }\n",
       "</style>\n",
       "<table border=\"1\" class=\"dataframe\">\n",
       "  <thead>\n",
       "    <tr style=\"text-align: right;\">\n",
       "      <th></th>\n",
       "      <th>Recall RF new threshold:</th>\n",
       "      <th>Recall rf:</th>\n",
       "      <th>F1 score RF new threshold</th>\n",
       "      <th>F1 score rf</th>\n",
       "      <th>Accuracy RF new threshold</th>\n",
       "      <th>Accurasy rf</th>\n",
       "    </tr>\n",
       "  </thead>\n",
       "  <tbody>\n",
       "    <tr>\n",
       "      <th>value</th>\n",
       "      <td>0.950521</td>\n",
       "      <td>0.921875</td>\n",
       "      <td>0.834286</td>\n",
       "      <td>0.861314</td>\n",
       "      <td>0.774495</td>\n",
       "      <td>0.822706</td>\n",
       "    </tr>\n",
       "  </tbody>\n",
       "</table>\n",
       "</div>"
      ],
      "text/plain": [
       "       Recall RF new threshold:  Recall rf:  F1 score RF new threshold  \\\n",
       "value                  0.950521    0.921875                   0.834286   \n",
       "\n",
       "       F1 score rf  Accuracy RF new threshold  Accurasy rf  \n",
       "value     0.861314                   0.774495     0.822706  "
      ]
     },
     "execution_count": 60,
     "metadata": {},
     "output_type": "execute_result"
    }
   ],
   "source": [
    "d_17_new_threshold = {'Recall RF new threshold:' : metrics.recall_score(pl_y_17, pl_y_17_new_threshold), 'Recall rf:' :metrics.recall_score(pl_y_17, pl_y_pred_17_rf),\n",
    "       'F1 score RF new threshold': metrics.f1_score(pl_y_17, pl_y_17_new_threshold), 'F1 score rf' : metrics.f1_score(pl_y_17, pl_y_pred_17_rf),\n",
    "      'Accuracy RF new threshold' : accuracy_score(pl_y_17, pl_y_17_new_threshold), 'Accurasy rf' : accuracy_score(pl_y_17, pl_y_pred_17_rf)}\n",
    "\n",
    "pd.DataFrame(d_17_new_threshold, columns=d_17_new_threshold.keys(), index=['value'])"
   ]
  },
  {
   "cell_type": "code",
   "execution_count": 61,
   "id": "d524c463-66d3-42b5-a45d-9c5fde0f1353",
   "metadata": {},
   "outputs": [
    {
     "name": "stdout",
     "output_type": "stream",
     "text": [
      "This means that we have identified 126 that should have looked for treatment,but didn't, according to the New threshold RF model. According to the Random Forest model 84 should have looked for treatment\n"
     ]
    }
   ],
   "source": [
    "print(f\"This means that we have identified {metrics.confusion_matrix(pl_y_17, pl_y_17_new_threshold)[0][1]} that should have looked for treatment,\" \n",
    "      f\"but didn't, according to the New threshold RF model. According to the Random Forest model {metrics.confusion_matrix(pl_y_17, pl_y_pred_17_rf)[0][1]} should have looked for treatment\")"
   ]
  },
  {
   "cell_type": "markdown",
   "id": "9121d00e-1088-47d1-950a-3eee7c6cbd52",
   "metadata": {},
   "source": [
    "[TOP](#topi)\n",
    "<a id = 'pickle'></a>\n",
    "## Create pickle file"
   ]
  },
  {
   "cell_type": "code",
   "execution_count": 62,
   "id": "c08886bc-6bb2-4464-9a80-ecf387cd2564",
   "metadata": {},
   "outputs": [],
   "source": [
    "pickle.dump(pipe_svc_17, open('SVC_model.pkl','wb'))\n",
    "pickle.dump(pipe_rf_17, open('RandomForest_model.pkl','wb'))"
   ]
  },
  {
   "cell_type": "code",
   "execution_count": 63,
   "id": "347b7471-b3d5-4587-aa08-f914c25ecc0a",
   "metadata": {},
   "outputs": [],
   "source": [
    "test_svc = pickle.load(open('SVC_model.pkl','rb'))\n",
    "test_rf = pickle.load(open('RandomForest_model.pkl','rb'))"
   ]
  },
  {
   "cell_type": "code",
   "execution_count": 64,
   "id": "4691c409-bc9b-463d-b413-4cdfa7621b24",
   "metadata": {},
   "outputs": [
    {
     "data": {
      "text/plain": [
       "True"
      ]
     },
     "execution_count": 64,
     "metadata": {},
     "output_type": "execute_result"
    }
   ],
   "source": [
    "# the bellow true statement makes sure all predictions using the pickle file are the same as the predictions using the model \n",
    "# saved in the pickle file. \n",
    "all(test_svc.predict(pl_X_17) == pl_y_pred_17_svc) == all(test_rf.predict(pl_X_17) == pl_y_pred_17_rf)"
   ]
  },
  {
   "cell_type": "markdown",
   "id": "4344202b-e74f-4c7c-9497-cf226c70623b",
   "metadata": {},
   "source": [
    "[TOP](#topi)\n",
    "<a id='online-learn'></a>\n",
    "\n",
    "## Incremental learning\n",
    "\n",
    "According to [6.1.3. Incremental learning](https://scikit-learn.org/0.15/modules/scaling_strategies.html#incremental-learning) there is a list of incremental estimators for Classification:<br>\n",
    "* sklearn.naive_bayes.MultinomialNB\r\n",
    "* sklearn.naive_bayes.BernoulliNB\r\n",
    "* sklearn.linear_model.Perceptron\r\n",
    "* sklearn.linear_model.SGDClassifier\r\n",
    "* sklearn.linear_model.PassiveAggressiveClassifier"
   ]
  },
  {
   "cell_type": "markdown",
   "id": "932259e4-12ff-470d-a431-e26cd4ae0f90",
   "metadata": {},
   "source": [
    "we will use the variables we used to create a pipeline for 2017: <br>\n",
    "pl_X_old , pl_y_old <br>\n",
    "pl_X_17, pl_y_17 \n",
    "<br><br>\n",
    "It is not possible to directly use partial_fit on a pipeline but with some help from [stackOverflow](https://stackoverflow.com/questions/17931865/using-partial-fit-with-scikit-pipeline) we found a way.<br>\n",
    "For this test we will use BernoulliNB as it is suitable for binary/boolean features, and our OneHotEncoded features are just that.\n",
    "<br>\n",
    "We will use Grid search"
   ]
  },
  {
   "cell_type": "code",
   "execution_count": 65,
   "id": "9b0508e6-10e7-459b-999f-cd09ce3ee86b",
   "metadata": {
    "scrolled": true
   },
   "outputs": [
    {
     "data": {
      "text/html": [
       "<style>#sk-container-id-9 {color: black;background-color: white;}#sk-container-id-9 pre{padding: 0;}#sk-container-id-9 div.sk-toggleable {background-color: white;}#sk-container-id-9 label.sk-toggleable__label {cursor: pointer;display: block;width: 100%;margin-bottom: 0;padding: 0.3em;box-sizing: border-box;text-align: center;}#sk-container-id-9 label.sk-toggleable__label-arrow:before {content: \"▸\";float: left;margin-right: 0.25em;color: #696969;}#sk-container-id-9 label.sk-toggleable__label-arrow:hover:before {color: black;}#sk-container-id-9 div.sk-estimator:hover label.sk-toggleable__label-arrow:before {color: black;}#sk-container-id-9 div.sk-toggleable__content {max-height: 0;max-width: 0;overflow: hidden;text-align: left;background-color: #f0f8ff;}#sk-container-id-9 div.sk-toggleable__content pre {margin: 0.2em;color: black;border-radius: 0.25em;background-color: #f0f8ff;}#sk-container-id-9 input.sk-toggleable__control:checked~div.sk-toggleable__content {max-height: 200px;max-width: 100%;overflow: auto;}#sk-container-id-9 input.sk-toggleable__control:checked~label.sk-toggleable__label-arrow:before {content: \"▾\";}#sk-container-id-9 div.sk-estimator input.sk-toggleable__control:checked~label.sk-toggleable__label {background-color: #d4ebff;}#sk-container-id-9 div.sk-label input.sk-toggleable__control:checked~label.sk-toggleable__label {background-color: #d4ebff;}#sk-container-id-9 input.sk-hidden--visually {border: 0;clip: rect(1px 1px 1px 1px);clip: rect(1px, 1px, 1px, 1px);height: 1px;margin: -1px;overflow: hidden;padding: 0;position: absolute;width: 1px;}#sk-container-id-9 div.sk-estimator {font-family: monospace;background-color: #f0f8ff;border: 1px dotted black;border-radius: 0.25em;box-sizing: border-box;margin-bottom: 0.5em;}#sk-container-id-9 div.sk-estimator:hover {background-color: #d4ebff;}#sk-container-id-9 div.sk-parallel-item::after {content: \"\";width: 100%;border-bottom: 1px solid gray;flex-grow: 1;}#sk-container-id-9 div.sk-label:hover label.sk-toggleable__label {background-color: #d4ebff;}#sk-container-id-9 div.sk-serial::before {content: \"\";position: absolute;border-left: 1px solid gray;box-sizing: border-box;top: 0;bottom: 0;left: 50%;z-index: 0;}#sk-container-id-9 div.sk-serial {display: flex;flex-direction: column;align-items: center;background-color: white;padding-right: 0.2em;padding-left: 0.2em;position: relative;}#sk-container-id-9 div.sk-item {position: relative;z-index: 1;}#sk-container-id-9 div.sk-parallel {display: flex;align-items: stretch;justify-content: center;background-color: white;position: relative;}#sk-container-id-9 div.sk-item::before, #sk-container-id-9 div.sk-parallel-item::before {content: \"\";position: absolute;border-left: 1px solid gray;box-sizing: border-box;top: 0;bottom: 0;left: 50%;z-index: -1;}#sk-container-id-9 div.sk-parallel-item {display: flex;flex-direction: column;z-index: 1;position: relative;background-color: white;}#sk-container-id-9 div.sk-parallel-item:first-child::after {align-self: flex-end;width: 50%;}#sk-container-id-9 div.sk-parallel-item:last-child::after {align-self: flex-start;width: 50%;}#sk-container-id-9 div.sk-parallel-item:only-child::after {width: 0;}#sk-container-id-9 div.sk-dashed-wrapped {border: 1px dashed gray;margin: 0 0.4em 0.5em 0.4em;box-sizing: border-box;padding-bottom: 0.4em;background-color: white;}#sk-container-id-9 div.sk-label label {font-family: monospace;font-weight: bold;display: inline-block;line-height: 1.2em;}#sk-container-id-9 div.sk-label-container {text-align: center;}#sk-container-id-9 div.sk-container {/* jupyter's `normalize.less` sets `[hidden] { display: none; }` but bootstrap.min.css set `[hidden] { display: none !important; }` so we also need the `!important` here to be able to override the default hidden behavior on the sphinx rendered scikit-learn.org. See: https://github.com/scikit-learn/scikit-learn/issues/21755 */display: inline-block !important;position: relative;}#sk-container-id-9 div.sk-text-repr-fallback {display: none;}</style><div id=\"sk-container-id-9\" class=\"sk-top-container\"><div class=\"sk-text-repr-fallback\"><pre>GridSearchCV(estimator=BernoulliNB(force_alpha=True),\n",
       "             param_grid={&#x27;alpha&#x27;: [0, 0.2, 0.5, 0.7, 1],\n",
       "                         &#x27;fit_prior&#x27;: (True, False)},\n",
       "             refit=&#x27;recall&#x27;, scoring=[&#x27;recall&#x27;, &#x27;f1&#x27;])</pre><b>In a Jupyter environment, please rerun this cell to show the HTML representation or trust the notebook. <br />On GitHub, the HTML representation is unable to render, please try loading this page with nbviewer.org.</b></div><div class=\"sk-container\" hidden><div class=\"sk-item sk-dashed-wrapped\"><div class=\"sk-label-container\"><div class=\"sk-label sk-toggleable\"><input class=\"sk-toggleable__control sk-hidden--visually\" id=\"sk-estimator-id-37\" type=\"checkbox\" ><label for=\"sk-estimator-id-37\" class=\"sk-toggleable__label sk-toggleable__label-arrow\">GridSearchCV</label><div class=\"sk-toggleable__content\"><pre>GridSearchCV(estimator=BernoulliNB(force_alpha=True),\n",
       "             param_grid={&#x27;alpha&#x27;: [0, 0.2, 0.5, 0.7, 1],\n",
       "                         &#x27;fit_prior&#x27;: (True, False)},\n",
       "             refit=&#x27;recall&#x27;, scoring=[&#x27;recall&#x27;, &#x27;f1&#x27;])</pre></div></div></div><div class=\"sk-parallel\"><div class=\"sk-parallel-item\"><div class=\"sk-item\"><div class=\"sk-label-container\"><div class=\"sk-label sk-toggleable\"><input class=\"sk-toggleable__control sk-hidden--visually\" id=\"sk-estimator-id-38\" type=\"checkbox\" ><label for=\"sk-estimator-id-38\" class=\"sk-toggleable__label sk-toggleable__label-arrow\">estimator: BernoulliNB</label><div class=\"sk-toggleable__content\"><pre>BernoulliNB(force_alpha=True)</pre></div></div></div><div class=\"sk-serial\"><div class=\"sk-item\"><div class=\"sk-estimator sk-toggleable\"><input class=\"sk-toggleable__control sk-hidden--visually\" id=\"sk-estimator-id-39\" type=\"checkbox\" ><label for=\"sk-estimator-id-39\" class=\"sk-toggleable__label sk-toggleable__label-arrow\">BernoulliNB</label><div class=\"sk-toggleable__content\"><pre>BernoulliNB(force_alpha=True)</pre></div></div></div></div></div></div></div></div></div></div>"
      ],
      "text/plain": [
       "GridSearchCV(estimator=BernoulliNB(force_alpha=True),\n",
       "             param_grid={'alpha': [0, 0.2, 0.5, 0.7, 1],\n",
       "                         'fit_prior': (True, False)},\n",
       "             refit='recall', scoring=['recall', 'f1'])"
      ]
     },
     "execution_count": 65,
     "metadata": {},
     "output_type": "execute_result"
    }
   ],
   "source": [
    "# ###########  the code bellow is commented in order to be loose time when the code is rerun ##########\n",
    "# il_parameters = {'alpha' : [0,0.2,0.5,0.7,1], 'fit_prior' : (True, False)}\n",
    "# sgd_model = BernoulliNB(force_alpha = True)\n",
    "# gs_il = GridSearchCV(sgd_model, il_parameters, scoring = ['recall', 'f1'], refit = 'recall')\n",
    "# gs_il.fit(X_train, y_train)"
   ]
  },
  {
   "cell_type": "code",
   "execution_count": 66,
   "id": "11b2aa21-3be9-4bc2-9825-96ab7baade5e",
   "metadata": {},
   "outputs": [],
   "source": [
    "# ###########  the code bellow is commented in order to be loose time when the code is rerun ##########\n",
    "# print(f'Best Recall score = {gs_il.best_score_} , achieved with the following model on the training data:') \n",
    "# gs_il.best_estimator_"
   ]
  },
  {
   "cell_type": "code",
   "execution_count": 67,
   "id": "ae770bd6-0874-4627-bfd3-bb10c13a867c",
   "metadata": {},
   "outputs": [],
   "source": [
    "# ###########  the code bellow is commented in order to be loose time when the code is rerun ##########\n",
    "# y_il = gs_il.predict(X_test)\n",
    "# print(f'On the Test set this model achieved:\\n Recall = {metrics.recall_score(y_test, y_il)}\\n'\n",
    "#     f' F score = {metrics.f1_score(y_test, y_il)}\\n Accuracy = {metrics.accuracy_score(y_test, y_il)}')"
   ]
  },
  {
   "cell_type": "markdown",
   "id": "2a013d0b-82b6-4877-81bf-26187aa8ac55",
   "metadata": {},
   "source": [
    "Then using this model will create a pipeline"
   ]
  },
  {
   "cell_type": "code",
   "execution_count": 68,
   "id": "09cbdce3-4d76-4d56-adb5-a5ef7aeebdeb",
   "metadata": {},
   "outputs": [
    {
     "data": {
      "text/html": [
       "<style>#sk-container-id-10 {color: black;background-color: white;}#sk-container-id-10 pre{padding: 0;}#sk-container-id-10 div.sk-toggleable {background-color: white;}#sk-container-id-10 label.sk-toggleable__label {cursor: pointer;display: block;width: 100%;margin-bottom: 0;padding: 0.3em;box-sizing: border-box;text-align: center;}#sk-container-id-10 label.sk-toggleable__label-arrow:before {content: \"▸\";float: left;margin-right: 0.25em;color: #696969;}#sk-container-id-10 label.sk-toggleable__label-arrow:hover:before {color: black;}#sk-container-id-10 div.sk-estimator:hover label.sk-toggleable__label-arrow:before {color: black;}#sk-container-id-10 div.sk-toggleable__content {max-height: 0;max-width: 0;overflow: hidden;text-align: left;background-color: #f0f8ff;}#sk-container-id-10 div.sk-toggleable__content pre {margin: 0.2em;color: black;border-radius: 0.25em;background-color: #f0f8ff;}#sk-container-id-10 input.sk-toggleable__control:checked~div.sk-toggleable__content {max-height: 200px;max-width: 100%;overflow: auto;}#sk-container-id-10 input.sk-toggleable__control:checked~label.sk-toggleable__label-arrow:before {content: \"▾\";}#sk-container-id-10 div.sk-estimator input.sk-toggleable__control:checked~label.sk-toggleable__label {background-color: #d4ebff;}#sk-container-id-10 div.sk-label input.sk-toggleable__control:checked~label.sk-toggleable__label {background-color: #d4ebff;}#sk-container-id-10 input.sk-hidden--visually {border: 0;clip: rect(1px 1px 1px 1px);clip: rect(1px, 1px, 1px, 1px);height: 1px;margin: -1px;overflow: hidden;padding: 0;position: absolute;width: 1px;}#sk-container-id-10 div.sk-estimator {font-family: monospace;background-color: #f0f8ff;border: 1px dotted black;border-radius: 0.25em;box-sizing: border-box;margin-bottom: 0.5em;}#sk-container-id-10 div.sk-estimator:hover {background-color: #d4ebff;}#sk-container-id-10 div.sk-parallel-item::after {content: \"\";width: 100%;border-bottom: 1px solid gray;flex-grow: 1;}#sk-container-id-10 div.sk-label:hover label.sk-toggleable__label {background-color: #d4ebff;}#sk-container-id-10 div.sk-serial::before {content: \"\";position: absolute;border-left: 1px solid gray;box-sizing: border-box;top: 0;bottom: 0;left: 50%;z-index: 0;}#sk-container-id-10 div.sk-serial {display: flex;flex-direction: column;align-items: center;background-color: white;padding-right: 0.2em;padding-left: 0.2em;position: relative;}#sk-container-id-10 div.sk-item {position: relative;z-index: 1;}#sk-container-id-10 div.sk-parallel {display: flex;align-items: stretch;justify-content: center;background-color: white;position: relative;}#sk-container-id-10 div.sk-item::before, #sk-container-id-10 div.sk-parallel-item::before {content: \"\";position: absolute;border-left: 1px solid gray;box-sizing: border-box;top: 0;bottom: 0;left: 50%;z-index: -1;}#sk-container-id-10 div.sk-parallel-item {display: flex;flex-direction: column;z-index: 1;position: relative;background-color: white;}#sk-container-id-10 div.sk-parallel-item:first-child::after {align-self: flex-end;width: 50%;}#sk-container-id-10 div.sk-parallel-item:last-child::after {align-self: flex-start;width: 50%;}#sk-container-id-10 div.sk-parallel-item:only-child::after {width: 0;}#sk-container-id-10 div.sk-dashed-wrapped {border: 1px dashed gray;margin: 0 0.4em 0.5em 0.4em;box-sizing: border-box;padding-bottom: 0.4em;background-color: white;}#sk-container-id-10 div.sk-label label {font-family: monospace;font-weight: bold;display: inline-block;line-height: 1.2em;}#sk-container-id-10 div.sk-label-container {text-align: center;}#sk-container-id-10 div.sk-container {/* jupyter's `normalize.less` sets `[hidden] { display: none; }` but bootstrap.min.css set `[hidden] { display: none !important; }` so we also need the `!important` here to be able to override the default hidden behavior on the sphinx rendered scikit-learn.org. See: https://github.com/scikit-learn/scikit-learn/issues/21755 */display: inline-block !important;position: relative;}#sk-container-id-10 div.sk-text-repr-fallback {display: none;}</style><div id=\"sk-container-id-10\" class=\"sk-top-container\"><div class=\"sk-text-repr-fallback\"><pre>Pipeline(steps=[(&#x27;preproc&#x27;,\n",
       "                 ColumnTransformer(transformers=[(&#x27;num&#x27;,\n",
       "                                                  Pipeline(steps=[(&#x27;standardscaler&#x27;,\n",
       "                                                                   StandardScaler())]),\n",
       "                                                  [&#x27;Age&#x27;]),\n",
       "                                                 (&#x27;cat&#x27;,\n",
       "                                                  Pipeline(steps=[(&#x27;onehotencoder&#x27;,\n",
       "                                                                   OneHotEncoder())]),\n",
       "                                                  [&#x27;Gender&#x27;, &#x27;family_history&#x27;,\n",
       "                                                   &#x27;no_employees&#x27;, &#x27;benefits&#x27;,\n",
       "                                                   &#x27;care_options&#x27;,\n",
       "                                                   &#x27;wellness_program&#x27;,\n",
       "                                                   &#x27;anonymity&#x27;, &#x27;leave&#x27;,\n",
       "                                                   &#x27;coworkers&#x27;, &#x27;supervisor&#x27;,\n",
       "                                                   &#x27;phys_health_interview&#x27;,\n",
       "                                                   &#x27;work_treatment_interfere&#x27;,\n",
       "                                                   &#x27;work_no_treatment_interfere&#x27;,\n",
       "                                                   &#x27;Continent&#x27;])])),\n",
       "                (&#x27;est&#x27;, BernoulliNB(alpha=0, force_alpha=True))])</pre><b>In a Jupyter environment, please rerun this cell to show the HTML representation or trust the notebook. <br />On GitHub, the HTML representation is unable to render, please try loading this page with nbviewer.org.</b></div><div class=\"sk-container\" hidden><div class=\"sk-item sk-dashed-wrapped\"><div class=\"sk-label-container\"><div class=\"sk-label sk-toggleable\"><input class=\"sk-toggleable__control sk-hidden--visually\" id=\"sk-estimator-id-40\" type=\"checkbox\" ><label for=\"sk-estimator-id-40\" class=\"sk-toggleable__label sk-toggleable__label-arrow\">Pipeline</label><div class=\"sk-toggleable__content\"><pre>Pipeline(steps=[(&#x27;preproc&#x27;,\n",
       "                 ColumnTransformer(transformers=[(&#x27;num&#x27;,\n",
       "                                                  Pipeline(steps=[(&#x27;standardscaler&#x27;,\n",
       "                                                                   StandardScaler())]),\n",
       "                                                  [&#x27;Age&#x27;]),\n",
       "                                                 (&#x27;cat&#x27;,\n",
       "                                                  Pipeline(steps=[(&#x27;onehotencoder&#x27;,\n",
       "                                                                   OneHotEncoder())]),\n",
       "                                                  [&#x27;Gender&#x27;, &#x27;family_history&#x27;,\n",
       "                                                   &#x27;no_employees&#x27;, &#x27;benefits&#x27;,\n",
       "                                                   &#x27;care_options&#x27;,\n",
       "                                                   &#x27;wellness_program&#x27;,\n",
       "                                                   &#x27;anonymity&#x27;, &#x27;leave&#x27;,\n",
       "                                                   &#x27;coworkers&#x27;, &#x27;supervisor&#x27;,\n",
       "                                                   &#x27;phys_health_interview&#x27;,\n",
       "                                                   &#x27;work_treatment_interfere&#x27;,\n",
       "                                                   &#x27;work_no_treatment_interfere&#x27;,\n",
       "                                                   &#x27;Continent&#x27;])])),\n",
       "                (&#x27;est&#x27;, BernoulliNB(alpha=0, force_alpha=True))])</pre></div></div></div><div class=\"sk-serial\"><div class=\"sk-item sk-dashed-wrapped\"><div class=\"sk-label-container\"><div class=\"sk-label sk-toggleable\"><input class=\"sk-toggleable__control sk-hidden--visually\" id=\"sk-estimator-id-41\" type=\"checkbox\" ><label for=\"sk-estimator-id-41\" class=\"sk-toggleable__label sk-toggleable__label-arrow\">preproc: ColumnTransformer</label><div class=\"sk-toggleable__content\"><pre>ColumnTransformer(transformers=[(&#x27;num&#x27;,\n",
       "                                 Pipeline(steps=[(&#x27;standardscaler&#x27;,\n",
       "                                                  StandardScaler())]),\n",
       "                                 [&#x27;Age&#x27;]),\n",
       "                                (&#x27;cat&#x27;,\n",
       "                                 Pipeline(steps=[(&#x27;onehotencoder&#x27;,\n",
       "                                                  OneHotEncoder())]),\n",
       "                                 [&#x27;Gender&#x27;, &#x27;family_history&#x27;, &#x27;no_employees&#x27;,\n",
       "                                  &#x27;benefits&#x27;, &#x27;care_options&#x27;,\n",
       "                                  &#x27;wellness_program&#x27;, &#x27;anonymity&#x27;, &#x27;leave&#x27;,\n",
       "                                  &#x27;coworkers&#x27;, &#x27;supervisor&#x27;,\n",
       "                                  &#x27;phys_health_interview&#x27;,\n",
       "                                  &#x27;work_treatment_interfere&#x27;,\n",
       "                                  &#x27;work_no_treatment_interfere&#x27;,\n",
       "                                  &#x27;Continent&#x27;])])</pre></div></div></div><div class=\"sk-parallel\"><div class=\"sk-parallel-item\"><div class=\"sk-item\"><div class=\"sk-label-container\"><div class=\"sk-label sk-toggleable\"><input class=\"sk-toggleable__control sk-hidden--visually\" id=\"sk-estimator-id-42\" type=\"checkbox\" ><label for=\"sk-estimator-id-42\" class=\"sk-toggleable__label sk-toggleable__label-arrow\">num</label><div class=\"sk-toggleable__content\"><pre>[&#x27;Age&#x27;]</pre></div></div></div><div class=\"sk-serial\"><div class=\"sk-item\"><div class=\"sk-serial\"><div class=\"sk-item\"><div class=\"sk-estimator sk-toggleable\"><input class=\"sk-toggleable__control sk-hidden--visually\" id=\"sk-estimator-id-43\" type=\"checkbox\" ><label for=\"sk-estimator-id-43\" class=\"sk-toggleable__label sk-toggleable__label-arrow\">StandardScaler</label><div class=\"sk-toggleable__content\"><pre>StandardScaler()</pre></div></div></div></div></div></div></div></div><div class=\"sk-parallel-item\"><div class=\"sk-item\"><div class=\"sk-label-container\"><div class=\"sk-label sk-toggleable\"><input class=\"sk-toggleable__control sk-hidden--visually\" id=\"sk-estimator-id-44\" type=\"checkbox\" ><label for=\"sk-estimator-id-44\" class=\"sk-toggleable__label sk-toggleable__label-arrow\">cat</label><div class=\"sk-toggleable__content\"><pre>[&#x27;Gender&#x27;, &#x27;family_history&#x27;, &#x27;no_employees&#x27;, &#x27;benefits&#x27;, &#x27;care_options&#x27;, &#x27;wellness_program&#x27;, &#x27;anonymity&#x27;, &#x27;leave&#x27;, &#x27;coworkers&#x27;, &#x27;supervisor&#x27;, &#x27;phys_health_interview&#x27;, &#x27;work_treatment_interfere&#x27;, &#x27;work_no_treatment_interfere&#x27;, &#x27;Continent&#x27;]</pre></div></div></div><div class=\"sk-serial\"><div class=\"sk-item\"><div class=\"sk-serial\"><div class=\"sk-item\"><div class=\"sk-estimator sk-toggleable\"><input class=\"sk-toggleable__control sk-hidden--visually\" id=\"sk-estimator-id-45\" type=\"checkbox\" ><label for=\"sk-estimator-id-45\" class=\"sk-toggleable__label sk-toggleable__label-arrow\">OneHotEncoder</label><div class=\"sk-toggleable__content\"><pre>OneHotEncoder()</pre></div></div></div></div></div></div></div></div></div></div><div class=\"sk-item\"><div class=\"sk-estimator sk-toggleable\"><input class=\"sk-toggleable__control sk-hidden--visually\" id=\"sk-estimator-id-46\" type=\"checkbox\" ><label for=\"sk-estimator-id-46\" class=\"sk-toggleable__label sk-toggleable__label-arrow\">BernoulliNB</label><div class=\"sk-toggleable__content\"><pre>BernoulliNB(alpha=0, force_alpha=True)</pre></div></div></div></div></div></div></div>"
      ],
      "text/plain": [
       "Pipeline(steps=[('preproc',\n",
       "                 ColumnTransformer(transformers=[('num',\n",
       "                                                  Pipeline(steps=[('standardscaler',\n",
       "                                                                   StandardScaler())]),\n",
       "                                                  ['Age']),\n",
       "                                                 ('cat',\n",
       "                                                  Pipeline(steps=[('onehotencoder',\n",
       "                                                                   OneHotEncoder())]),\n",
       "                                                  ['Gender', 'family_history',\n",
       "                                                   'no_employees', 'benefits',\n",
       "                                                   'care_options',\n",
       "                                                   'wellness_program',\n",
       "                                                   'anonymity', 'leave',\n",
       "                                                   'coworkers', 'supervisor',\n",
       "                                                   'phys_health_interview',\n",
       "                                                   'work_treatment_interfere',\n",
       "                                                   'work_no_treatment_interfere',\n",
       "                                                   'Continent'])])),\n",
       "                ('est', BernoulliNB(alpha=0, force_alpha=True))])"
      ]
     },
     "execution_count": 68,
     "metadata": {},
     "output_type": "execute_result"
    }
   ],
   "source": [
    "# sgd_model = SGDClassifier()\n",
    "BNB_model = BernoulliNB(alpha=0, force_alpha=True)\n",
    "BNB_pipe= tomi_make_pipe(used_cols_17,BNB_model)\n",
    "# we will fit our model on the data from 2014 and 2016\n",
    "BNB_pipe.fit(pl_X_old, pl_y_old)"
   ]
  },
  {
   "cell_type": "code",
   "execution_count": 69,
   "id": "def15ccc-4977-4dec-933e-02024f4fe987",
   "metadata": {},
   "outputs": [],
   "source": [
    "# we will split the data from 2017 into 2 sets, and will use Incremental learning on the first and test on the second.\n",
    "il_X_train, il_X_test, il_y_train, il_y_test = train_test_split(pl_X_17,pl_y_17, random_state=42, test_size= 0.25)"
   ]
  },
  {
   "cell_type": "code",
   "execution_count": 70,
   "id": "2d131e9e-dd61-4e46-ab36-05b4fb17eb82",
   "metadata": {},
   "outputs": [],
   "source": [
    "#  as we want to compare if the Incremental learning has brought us better scores \n",
    "#  we will make a prediction also with the model trained only on 2014 and 2016\n",
    "pl_y_pred_17_BNB = BNB_pipe.predict(il_X_test)"
   ]
  },
  {
   "cell_type": "code",
   "execution_count": 71,
   "id": "2680d7c3-659e-4b9e-8303-9812198a5b72",
   "metadata": {},
   "outputs": [],
   "source": [
    "# Apply partial fit\n",
    "partial_pipe_fit(BNB_pipe,il_X_train,il_y_train)"
   ]
  },
  {
   "cell_type": "code",
   "execution_count": 72,
   "id": "adb16b76-b436-4a33-a92d-b9b9bffc895e",
   "metadata": {},
   "outputs": [
    {
     "data": {
      "text/html": [
       "<div>\n",
       "<style scoped>\n",
       "    .dataframe tbody tr th:only-of-type {\n",
       "        vertical-align: middle;\n",
       "    }\n",
       "\n",
       "    .dataframe tbody tr th {\n",
       "        vertical-align: top;\n",
       "    }\n",
       "\n",
       "    .dataframe thead th {\n",
       "        text-align: right;\n",
       "    }\n",
       "</style>\n",
       "<table border=\"1\" class=\"dataframe\">\n",
       "  <thead>\n",
       "    <tr style=\"text-align: right;\">\n",
       "      <th></th>\n",
       "      <th>Recall BernoulliNB:</th>\n",
       "      <th>Recall BernoulliNB_partial:</th>\n",
       "      <th>F1 score BernoulliNB</th>\n",
       "      <th>F1 score BernoulliNB_partial</th>\n",
       "      <th>Accuracy BernoulliNB</th>\n",
       "      <th>Accurasy BernoulliNB_partial</th>\n",
       "    </tr>\n",
       "  </thead>\n",
       "  <tbody>\n",
       "    <tr>\n",
       "      <th>value</th>\n",
       "      <td>0.915789</td>\n",
       "      <td>0.915789</td>\n",
       "      <td>0.892308</td>\n",
       "      <td>0.896907</td>\n",
       "      <td>0.869565</td>\n",
       "      <td>0.875776</td>\n",
       "    </tr>\n",
       "  </tbody>\n",
       "</table>\n",
       "</div>"
      ],
      "text/plain": [
       "       Recall BernoulliNB:  Recall BernoulliNB_partial:  F1 score BernoulliNB  \\\n",
       "value             0.915789                     0.915789              0.892308   \n",
       "\n",
       "       F1 score BernoulliNB_partial  Accuracy BernoulliNB  \\\n",
       "value                      0.896907              0.869565   \n",
       "\n",
       "       Accurasy BernoulliNB_partial  \n",
       "value                      0.875776  "
      ]
     },
     "execution_count": 72,
     "metadata": {},
     "output_type": "execute_result"
    }
   ],
   "source": [
    "pl_y_pred_17_BNB_partial = BNB_pipe.predict(il_X_test)\n",
    "d_BNB= {'Recall BernoulliNB:' : metrics.recall_score(il_y_test, pl_y_pred_17_BNB), 'Recall BernoulliNB_partial:' :metrics.recall_score(il_y_test, pl_y_pred_17_BNB_partial),\n",
    "       'F1 score BernoulliNB': metrics.f1_score(il_y_test, pl_y_pred_17_BNB), 'F1 score BernoulliNB_partial' : metrics.f1_score(il_y_test, pl_y_pred_17_BNB_partial),\n",
    "      'Accuracy BernoulliNB' : accuracy_score(il_y_test, pl_y_pred_17_BNB), 'Accurasy BernoulliNB_partial' : accuracy_score(il_y_test, pl_y_pred_17_BNB_partial)}\n",
    "pd.DataFrame(d_BNB, columns=d_BNB.keys(), index=['value'])"
   ]
  },
  {
   "cell_type": "markdown",
   "id": "2dcf8089-6038-4c96-90c6-9bb48be5da73",
   "metadata": {},
   "source": [
    "this results do not show significant improvement, and to be honest during my tests there were moments that the scores actually dropped a bit, but still Incremental learning is good choice.<br>\n",
    "Bellow i will try to show example of what could be practically useful in this project, suggesting help to a potentially vulnerable person."
   ]
  },
  {
   "cell_type": "code",
   "execution_count": 73,
   "id": "9c745a18-d349-41ef-9cd1-2e57ce788a92",
   "metadata": {},
   "outputs": [
    {
     "name": "stdout",
     "output_type": "stream",
     "text": [
      "Hi, thank you for filling the servey.\n",
      "Please consider reaching out to our team or check our list of mental health Specialists in your area (Europe)\n",
      "The first meeting and cosultation are free as a gratitude for filling this survey!\n"
     ]
    }
   ],
   "source": [
    "for i in range(len(il_y_test)):\n",
    "    if BNB_pipe.predict(il_X_test.iloc[i:i+1]) == 1 and il_y_test[i] == 0:\n",
    "        print('Hi, thank you for filling the servey.')\n",
    "        print(f'Please consider reaching out to our team or check our list of mental health Specialists in your area ({list(il_X_test.iloc[i:i+1].Continent)[0] })')\n",
    "        print('The first meeting and cosultation are free as a gratitude for filling this survey!')\n",
    "        break"
   ]
  },
  {
   "cell_type": "markdown",
   "id": "7fb48a44-b00e-451c-a53f-fe0fd79d5469",
   "metadata": {},
   "source": [
    "[TOP](#topi)\n",
    "<a id='con'></a>\n",
    "## Conclusion\n",
    "\n",
    "As our goal is to identify people who might need help but haven't looked for, i feel content with the results from this project.\n",
    "All of the participants who are in the False Positive category (meaning our model believes they have looked for help, but in reality they haven't) can be notified at the end of the survey that they can look for help in their local country/state (example of this is just above).<br>\n",
    "This would require the implementation of this model, maybe by implementing some API architecture. I still don't know how to do that, but this is what i managed to do so far, given the time and knowledge i have.\n",
    "\n",
    "Also depending on how worried are we to spam people we can choose SVC or Random forest as a model for implementation."
   ]
  }
 ],
 "metadata": {
  "kernelspec": {
   "display_name": "Python 3 (ipykernel)",
   "language": "python",
   "name": "python3"
  },
  "language_info": {
   "codemirror_mode": {
    "name": "ipython",
    "version": 3
   },
   "file_extension": ".py",
   "mimetype": "text/x-python",
   "name": "python",
   "nbconvert_exporter": "python",
   "pygments_lexer": "ipython3",
   "version": "3.9.13"
  }
 },
 "nbformat": 4,
 "nbformat_minor": 5
}
